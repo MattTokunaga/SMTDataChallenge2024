{
 "cells": [
  {
   "cell_type": "code",
   "execution_count": 61,
   "metadata": {},
   "outputs": [],
   "source": [
    "import pandas as pd\n",
    "from ipycanvas import Canvas, hold_canvas\n",
    "import numpy as np\n",
    "from pathlib import Path\n",
    "from Player import Player\n",
    "from Route import Route\n",
    "import Metric"
   ]
  },
  {
   "cell_type": "code",
   "execution_count": 62,
   "metadata": {},
   "outputs": [
    {
     "name": "stdout",
     "output_type": "stream",
     "text": [
      "The autoreload extension is already loaded. To reload it, use:\n",
      "  %reload_ext autoreload\n"
     ]
    }
   ],
   "source": [
    "%load_ext autoreload\n",
    "%autoreload 2"
   ]
  },
  {
   "cell_type": "code",
   "execution_count": 63,
   "metadata": {},
   "outputs": [],
   "source": [
    "player_pos = pd.read_csv(\"2024_SMT_Data_Challenge\\player_pos\\Season_1884\\Home1A\\Vis1AK\\day_008\\player_pos.csv\")\n",
    "game_info = pd.read_csv(\"2024_SMT_Data_Challenge\\game_info\\Season_1884\\Home1A\\Vis1AK\\day_008\\game_info.csv\")\n",
    "ball_pos = pd.read_csv(\"2024_SMT_Data_Challenge\\\\ball_pos\\Season_1884\\Home1A\\Vis1AK\\day_008\\\\ball_pos.csv\")\n",
    "game_events = pd.read_csv(\"2024_SMT_Data_Challenge\\game_events\\Season_1884\\Home1A\\Vis1AK\\day_008\\game_events.csv\")"
   ]
  },
  {
   "cell_type": "code",
   "execution_count": 64,
   "metadata": {},
   "outputs": [
    {
     "data": {
      "text/html": [
       "<div>\n",
       "<style scoped>\n",
       "    .dataframe tbody tr th:only-of-type {\n",
       "        vertical-align: middle;\n",
       "    }\n",
       "\n",
       "    .dataframe tbody tr th {\n",
       "        vertical-align: top;\n",
       "    }\n",
       "\n",
       "    .dataframe thead th {\n",
       "        text-align: right;\n",
       "    }\n",
       "</style>\n",
       "<table border=\"1\" class=\"dataframe\">\n",
       "  <thead>\n",
       "    <tr style=\"text-align: right;\">\n",
       "      <th></th>\n",
       "      <th>game_str</th>\n",
       "      <th>play_id</th>\n",
       "      <th>at_bat</th>\n",
       "      <th>play_per_game</th>\n",
       "      <th>timestamp</th>\n",
       "      <th>player_position</th>\n",
       "      <th>event_code</th>\n",
       "    </tr>\n",
       "  </thead>\n",
       "  <tbody>\n",
       "    <tr>\n",
       "      <th>31</th>\n",
       "      <td>1884_008_Vis1AK_Home1A</td>\n",
       "      <td>6</td>\n",
       "      <td>24</td>\n",
       "      <td>6</td>\n",
       "      <td>296628</td>\n",
       "      <td>8</td>\n",
       "      <td>2</td>\n",
       "    </tr>\n",
       "    <tr>\n",
       "      <th>132</th>\n",
       "      <td>1884_008_Vis1AK_Home1A</td>\n",
       "      <td>37</td>\n",
       "      <td>30</td>\n",
       "      <td>37</td>\n",
       "      <td>1297528</td>\n",
       "      <td>8</td>\n",
       "      <td>2</td>\n",
       "    </tr>\n",
       "    <tr>\n",
       "      <th>314</th>\n",
       "      <td>1884_008_Vis1AK_Home1A</td>\n",
       "      <td>83</td>\n",
       "      <td>43</td>\n",
       "      <td>83</td>\n",
       "      <td>2963626</td>\n",
       "      <td>8</td>\n",
       "      <td>2</td>\n",
       "    </tr>\n",
       "    <tr>\n",
       "      <th>437</th>\n",
       "      <td>1884_008_Vis1AK_Home1A</td>\n",
       "      <td>112</td>\n",
       "      <td>51</td>\n",
       "      <td>112</td>\n",
       "      <td>3875826</td>\n",
       "      <td>8</td>\n",
       "      <td>2</td>\n",
       "    </tr>\n",
       "    <tr>\n",
       "      <th>451</th>\n",
       "      <td>1884_008_Vis1AK_Home1A</td>\n",
       "      <td>115</td>\n",
       "      <td>52</td>\n",
       "      <td>115</td>\n",
       "      <td>3943226</td>\n",
       "      <td>8</td>\n",
       "      <td>2</td>\n",
       "    </tr>\n",
       "    <tr>\n",
       "      <th>540</th>\n",
       "      <td>1884_008_Vis1AK_Home1A</td>\n",
       "      <td>139</td>\n",
       "      <td>57</td>\n",
       "      <td>139</td>\n",
       "      <td>4931426</td>\n",
       "      <td>8</td>\n",
       "      <td>2</td>\n",
       "    </tr>\n",
       "    <tr>\n",
       "      <th>627</th>\n",
       "      <td>1884_008_Vis1AK_Home1A</td>\n",
       "      <td>160</td>\n",
       "      <td>64</td>\n",
       "      <td>160</td>\n",
       "      <td>5863626</td>\n",
       "      <td>8</td>\n",
       "      <td>2</td>\n",
       "    </tr>\n",
       "    <tr>\n",
       "      <th>676</th>\n",
       "      <td>1884_008_Vis1AK_Home1A</td>\n",
       "      <td>169</td>\n",
       "      <td>67</td>\n",
       "      <td>169</td>\n",
       "      <td>6221276</td>\n",
       "      <td>8</td>\n",
       "      <td>2</td>\n",
       "    </tr>\n",
       "    <tr>\n",
       "      <th>728</th>\n",
       "      <td>1884_008_Vis1AK_Home1A</td>\n",
       "      <td>181</td>\n",
       "      <td>73</td>\n",
       "      <td>181</td>\n",
       "      <td>6675126</td>\n",
       "      <td>8</td>\n",
       "      <td>2</td>\n",
       "    </tr>\n",
       "    <tr>\n",
       "      <th>758</th>\n",
       "      <td>1884_008_Vis1AK_Home1A</td>\n",
       "      <td>190</td>\n",
       "      <td>75</td>\n",
       "      <td>190</td>\n",
       "      <td>7009776</td>\n",
       "      <td>8</td>\n",
       "      <td>2</td>\n",
       "    </tr>\n",
       "    <tr>\n",
       "      <th>819</th>\n",
       "      <td>1884_008_Vis1AK_Home1A</td>\n",
       "      <td>200</td>\n",
       "      <td>82</td>\n",
       "      <td>200</td>\n",
       "      <td>7544326</td>\n",
       "      <td>8</td>\n",
       "      <td>2</td>\n",
       "    </tr>\n",
       "    <tr>\n",
       "      <th>836</th>\n",
       "      <td>1884_008_Vis1AK_Home1A</td>\n",
       "      <td>203</td>\n",
       "      <td>84</td>\n",
       "      <td>203</td>\n",
       "      <td>7633826</td>\n",
       "      <td>8</td>\n",
       "      <td>2</td>\n",
       "    </tr>\n",
       "  </tbody>\n",
       "</table>\n",
       "</div>"
      ],
      "text/plain": [
       "                   game_str  play_id  at_bat  play_per_game  timestamp  \\\n",
       "31   1884_008_Vis1AK_Home1A        6      24              6     296628   \n",
       "132  1884_008_Vis1AK_Home1A       37      30             37    1297528   \n",
       "314  1884_008_Vis1AK_Home1A       83      43             83    2963626   \n",
       "437  1884_008_Vis1AK_Home1A      112      51            112    3875826   \n",
       "451  1884_008_Vis1AK_Home1A      115      52            115    3943226   \n",
       "540  1884_008_Vis1AK_Home1A      139      57            139    4931426   \n",
       "627  1884_008_Vis1AK_Home1A      160      64            160    5863626   \n",
       "676  1884_008_Vis1AK_Home1A      169      67            169    6221276   \n",
       "728  1884_008_Vis1AK_Home1A      181      73            181    6675126   \n",
       "758  1884_008_Vis1AK_Home1A      190      75            190    7009776   \n",
       "819  1884_008_Vis1AK_Home1A      200      82            200    7544326   \n",
       "836  1884_008_Vis1AK_Home1A      203      84            203    7633826   \n",
       "\n",
       "     player_position  event_code  \n",
       "31                 8           2  \n",
       "132                8           2  \n",
       "314                8           2  \n",
       "437                8           2  \n",
       "451                8           2  \n",
       "540                8           2  \n",
       "627                8           2  \n",
       "676                8           2  \n",
       "728                8           2  \n",
       "758                8           2  \n",
       "819                8           2  \n",
       "836                8           2  "
      ]
     },
     "execution_count": 64,
     "metadata": {},
     "output_type": "execute_result"
    }
   ],
   "source": [
    "game_events[(game_events[\"event_code\"] == 2) & (game_events[\"player_position\"] == 8)]"
   ]
  },
  {
   "cell_type": "code",
   "execution_count": 65,
   "metadata": {},
   "outputs": [],
   "source": [
    "play6 = game_events[game_events[\"play_id\"] == 6]"
   ]
  },
  {
   "cell_type": "code",
   "execution_count": 66,
   "metadata": {},
   "outputs": [],
   "source": [
    "play6abridged = play6.merge(ball_pos, on = \"timestamp\")"
   ]
  },
  {
   "cell_type": "code",
   "execution_count": 67,
   "metadata": {},
   "outputs": [],
   "source": [
    "play6abridged = play6abridged.merge(player_pos, on = [\"timestamp\", \"player_position\"], suffixes= (\"y\",))"
   ]
  },
  {
   "cell_type": "code",
   "execution_count": 68,
   "metadata": {},
   "outputs": [],
   "source": [
    "play6abridged = play6abridged[[\"play_id_x\", \"timestamp\", \"player_position\", \"event_code\", \"ball_position_x\", \"ball_position_y\", \"ball_position_z\", \"field_x\", \"field_y\"]]"
   ]
  },
  {
   "cell_type": "code",
   "execution_count": 69,
   "metadata": {},
   "outputs": [
    {
     "data": {
      "text/html": [
       "<div>\n",
       "<style scoped>\n",
       "    .dataframe tbody tr th:only-of-type {\n",
       "        vertical-align: middle;\n",
       "    }\n",
       "\n",
       "    .dataframe tbody tr th {\n",
       "        vertical-align: top;\n",
       "    }\n",
       "\n",
       "    .dataframe thead th {\n",
       "        text-align: right;\n",
       "    }\n",
       "</style>\n",
       "<table border=\"1\" class=\"dataframe\">\n",
       "  <thead>\n",
       "    <tr style=\"text-align: right;\">\n",
       "      <th></th>\n",
       "      <th>game_str</th>\n",
       "      <th>play_id</th>\n",
       "      <th>at_bat</th>\n",
       "      <th>play_per_game</th>\n",
       "      <th>timestamp</th>\n",
       "      <th>player_position</th>\n",
       "      <th>event_code</th>\n",
       "    </tr>\n",
       "  </thead>\n",
       "  <tbody>\n",
       "    <tr>\n",
       "      <th>29</th>\n",
       "      <td>1884_008_Vis1AK_Home1A</td>\n",
       "      <td>6</td>\n",
       "      <td>24</td>\n",
       "      <td>6</td>\n",
       "      <td>290678</td>\n",
       "      <td>1</td>\n",
       "      <td>1</td>\n",
       "    </tr>\n",
       "    <tr>\n",
       "      <th>30</th>\n",
       "      <td>1884_008_Vis1AK_Home1A</td>\n",
       "      <td>6</td>\n",
       "      <td>24</td>\n",
       "      <td>6</td>\n",
       "      <td>291078</td>\n",
       "      <td>10</td>\n",
       "      <td>4</td>\n",
       "    </tr>\n",
       "    <tr>\n",
       "      <th>31</th>\n",
       "      <td>1884_008_Vis1AK_Home1A</td>\n",
       "      <td>6</td>\n",
       "      <td>24</td>\n",
       "      <td>6</td>\n",
       "      <td>296628</td>\n",
       "      <td>8</td>\n",
       "      <td>2</td>\n",
       "    </tr>\n",
       "    <tr>\n",
       "      <th>32</th>\n",
       "      <td>1884_008_Vis1AK_Home1A</td>\n",
       "      <td>6</td>\n",
       "      <td>24</td>\n",
       "      <td>6</td>\n",
       "      <td>297678</td>\n",
       "      <td>8</td>\n",
       "      <td>3</td>\n",
       "    </tr>\n",
       "    <tr>\n",
       "      <th>33</th>\n",
       "      <td>1884_008_Vis1AK_Home1A</td>\n",
       "      <td>6</td>\n",
       "      <td>24</td>\n",
       "      <td>6</td>\n",
       "      <td>299428</td>\n",
       "      <td>255</td>\n",
       "      <td>16</td>\n",
       "    </tr>\n",
       "    <tr>\n",
       "      <th>34</th>\n",
       "      <td>1884_008_Vis1AK_Home1A</td>\n",
       "      <td>6</td>\n",
       "      <td>24</td>\n",
       "      <td>6</td>\n",
       "      <td>299578</td>\n",
       "      <td>6</td>\n",
       "      <td>2</td>\n",
       "    </tr>\n",
       "    <tr>\n",
       "      <th>35</th>\n",
       "      <td>1884_008_Vis1AK_Home1A</td>\n",
       "      <td>6</td>\n",
       "      <td>24</td>\n",
       "      <td>6</td>\n",
       "      <td>301228</td>\n",
       "      <td>0</td>\n",
       "      <td>5</td>\n",
       "    </tr>\n",
       "  </tbody>\n",
       "</table>\n",
       "</div>"
      ],
      "text/plain": [
       "                  game_str  play_id  at_bat  play_per_game  timestamp  \\\n",
       "29  1884_008_Vis1AK_Home1A        6      24              6     290678   \n",
       "30  1884_008_Vis1AK_Home1A        6      24              6     291078   \n",
       "31  1884_008_Vis1AK_Home1A        6      24              6     296628   \n",
       "32  1884_008_Vis1AK_Home1A        6      24              6     297678   \n",
       "33  1884_008_Vis1AK_Home1A        6      24              6     299428   \n",
       "34  1884_008_Vis1AK_Home1A        6      24              6     299578   \n",
       "35  1884_008_Vis1AK_Home1A        6      24              6     301228   \n",
       "\n",
       "    player_position  event_code  \n",
       "29                1           1  \n",
       "30               10           4  \n",
       "31                8           2  \n",
       "32                8           3  \n",
       "33              255          16  \n",
       "34                6           2  \n",
       "35                0           5  "
      ]
     },
     "execution_count": 69,
     "metadata": {},
     "output_type": "execute_result"
    }
   ],
   "source": [
    "play6"
   ]
  },
  {
   "cell_type": "code",
   "execution_count": 70,
   "metadata": {},
   "outputs": [
    {
     "data": {
      "text/plain": [
       "291078"
      ]
     },
     "execution_count": 70,
     "metadata": {},
     "output_type": "execute_result"
    }
   ],
   "source": [
    "df = play6.merge(game_info, on = \"play_per_game\", suffixes = [\"_a\", \"_b\"])\n",
    "df = df.merge(ball_pos, on = \"timestamp\", suffixes= [\"_c\", \"_d\"])\n",
    "df = df.merge(player_pos, on = \"timestamp\", suffixes= [\"_e\", \"_f\"])\n",
    "play6[play6[\"event_code\"] == 2][\"player_position\"].iloc[0]\n",
    "291078\t"
   ]
  },
  {
   "cell_type": "code",
   "execution_count": 71,
   "metadata": {},
   "outputs": [
    {
     "data": {
      "text/html": [
       "<div>\n",
       "<style scoped>\n",
       "    .dataframe tbody tr th:only-of-type {\n",
       "        vertical-align: middle;\n",
       "    }\n",
       "\n",
       "    .dataframe tbody tr th {\n",
       "        vertical-align: top;\n",
       "    }\n",
       "\n",
       "    .dataframe thead th {\n",
       "        text-align: right;\n",
       "    }\n",
       "</style>\n",
       "<table border=\"1\" class=\"dataframe\">\n",
       "  <thead>\n",
       "    <tr style=\"text-align: right;\">\n",
       "      <th></th>\n",
       "      <th>game_str</th>\n",
       "      <th>play_id</th>\n",
       "      <th>at_bat</th>\n",
       "      <th>play_per_game</th>\n",
       "      <th>timestamp</th>\n",
       "      <th>player_position</th>\n",
       "      <th>event_code</th>\n",
       "    </tr>\n",
       "  </thead>\n",
       "  <tbody>\n",
       "    <tr>\n",
       "      <th>29</th>\n",
       "      <td>1884_008_Vis1AK_Home1A</td>\n",
       "      <td>6</td>\n",
       "      <td>24</td>\n",
       "      <td>6</td>\n",
       "      <td>290678</td>\n",
       "      <td>1</td>\n",
       "      <td>1</td>\n",
       "    </tr>\n",
       "    <tr>\n",
       "      <th>30</th>\n",
       "      <td>1884_008_Vis1AK_Home1A</td>\n",
       "      <td>6</td>\n",
       "      <td>24</td>\n",
       "      <td>6</td>\n",
       "      <td>291078</td>\n",
       "      <td>10</td>\n",
       "      <td>4</td>\n",
       "    </tr>\n",
       "    <tr>\n",
       "      <th>31</th>\n",
       "      <td>1884_008_Vis1AK_Home1A</td>\n",
       "      <td>6</td>\n",
       "      <td>24</td>\n",
       "      <td>6</td>\n",
       "      <td>296628</td>\n",
       "      <td>8</td>\n",
       "      <td>2</td>\n",
       "    </tr>\n",
       "    <tr>\n",
       "      <th>32</th>\n",
       "      <td>1884_008_Vis1AK_Home1A</td>\n",
       "      <td>6</td>\n",
       "      <td>24</td>\n",
       "      <td>6</td>\n",
       "      <td>297678</td>\n",
       "      <td>8</td>\n",
       "      <td>3</td>\n",
       "    </tr>\n",
       "    <tr>\n",
       "      <th>33</th>\n",
       "      <td>1884_008_Vis1AK_Home1A</td>\n",
       "      <td>6</td>\n",
       "      <td>24</td>\n",
       "      <td>6</td>\n",
       "      <td>299428</td>\n",
       "      <td>255</td>\n",
       "      <td>16</td>\n",
       "    </tr>\n",
       "    <tr>\n",
       "      <th>34</th>\n",
       "      <td>1884_008_Vis1AK_Home1A</td>\n",
       "      <td>6</td>\n",
       "      <td>24</td>\n",
       "      <td>6</td>\n",
       "      <td>299578</td>\n",
       "      <td>6</td>\n",
       "      <td>2</td>\n",
       "    </tr>\n",
       "    <tr>\n",
       "      <th>35</th>\n",
       "      <td>1884_008_Vis1AK_Home1A</td>\n",
       "      <td>6</td>\n",
       "      <td>24</td>\n",
       "      <td>6</td>\n",
       "      <td>301228</td>\n",
       "      <td>0</td>\n",
       "      <td>5</td>\n",
       "    </tr>\n",
       "  </tbody>\n",
       "</table>\n",
       "</div>"
      ],
      "text/plain": [
       "                  game_str  play_id  at_bat  play_per_game  timestamp  \\\n",
       "29  1884_008_Vis1AK_Home1A        6      24              6     290678   \n",
       "30  1884_008_Vis1AK_Home1A        6      24              6     291078   \n",
       "31  1884_008_Vis1AK_Home1A        6      24              6     296628   \n",
       "32  1884_008_Vis1AK_Home1A        6      24              6     297678   \n",
       "33  1884_008_Vis1AK_Home1A        6      24              6     299428   \n",
       "34  1884_008_Vis1AK_Home1A        6      24              6     299578   \n",
       "35  1884_008_Vis1AK_Home1A        6      24              6     301228   \n",
       "\n",
       "    player_position  event_code  \n",
       "29                1           1  \n",
       "30               10           4  \n",
       "31                8           2  \n",
       "32                8           3  \n",
       "33              255          16  \n",
       "34                6           2  \n",
       "35                0           5  "
      ]
     },
     "execution_count": 71,
     "metadata": {},
     "output_type": "execute_result"
    }
   ],
   "source": [
    "play6"
   ]
  },
  {
   "cell_type": "code",
   "execution_count": 72,
   "metadata": {},
   "outputs": [
    {
     "data": {
      "text/html": [
       "<div>\n",
       "<style scoped>\n",
       "    .dataframe tbody tr th:only-of-type {\n",
       "        vertical-align: middle;\n",
       "    }\n",
       "\n",
       "    .dataframe tbody tr th {\n",
       "        vertical-align: top;\n",
       "    }\n",
       "\n",
       "    .dataframe thead th {\n",
       "        text-align: right;\n",
       "    }\n",
       "</style>\n",
       "<table border=\"1\" class=\"dataframe\">\n",
       "  <thead>\n",
       "    <tr style=\"text-align: right;\">\n",
       "      <th></th>\n",
       "      <th>game_str</th>\n",
       "      <th>play_id</th>\n",
       "      <th>timestamp</th>\n",
       "      <th>player_position</th>\n",
       "      <th>field_x</th>\n",
       "      <th>field_y</th>\n",
       "    </tr>\n",
       "  </thead>\n",
       "  <tbody>\n",
       "    <tr>\n",
       "      <th>5193</th>\n",
       "      <td>1884_008_Vis1AK_Home1A</td>\n",
       "      <td>6</td>\n",
       "      <td>291078</td>\n",
       "      <td>8</td>\n",
       "      <td>-4.7460</td>\n",
       "      <td>286.0152</td>\n",
       "    </tr>\n",
       "    <tr>\n",
       "      <th>5207</th>\n",
       "      <td>1884_008_Vis1AK_Home1A</td>\n",
       "      <td>6</td>\n",
       "      <td>291128</td>\n",
       "      <td>8</td>\n",
       "      <td>-4.6383</td>\n",
       "      <td>285.9066</td>\n",
       "    </tr>\n",
       "    <tr>\n",
       "      <th>5221</th>\n",
       "      <td>1884_008_Vis1AK_Home1A</td>\n",
       "      <td>6</td>\n",
       "      <td>291178</td>\n",
       "      <td>8</td>\n",
       "      <td>-4.5210</td>\n",
       "      <td>285.7980</td>\n",
       "    </tr>\n",
       "    <tr>\n",
       "      <th>5235</th>\n",
       "      <td>1884_008_Vis1AK_Home1A</td>\n",
       "      <td>6</td>\n",
       "      <td>291228</td>\n",
       "      <td>8</td>\n",
       "      <td>-4.3929</td>\n",
       "      <td>285.6909</td>\n",
       "    </tr>\n",
       "    <tr>\n",
       "      <th>5249</th>\n",
       "      <td>1884_008_Vis1AK_Home1A</td>\n",
       "      <td>6</td>\n",
       "      <td>291278</td>\n",
       "      <td>8</td>\n",
       "      <td>-4.2525</td>\n",
       "      <td>285.5865</td>\n",
       "    </tr>\n",
       "    <tr>\n",
       "      <th>...</th>\n",
       "      <td>...</td>\n",
       "      <td>...</td>\n",
       "      <td>...</td>\n",
       "      <td>...</td>\n",
       "      <td>...</td>\n",
       "      <td>...</td>\n",
       "    </tr>\n",
       "    <tr>\n",
       "      <th>6691</th>\n",
       "      <td>1884_008_Vis1AK_Home1A</td>\n",
       "      <td>6</td>\n",
       "      <td>296428</td>\n",
       "      <td>8</td>\n",
       "      <td>82.1850</td>\n",
       "      <td>321.0192</td>\n",
       "    </tr>\n",
       "    <tr>\n",
       "      <th>6705</th>\n",
       "      <td>1884_008_Vis1AK_Home1A</td>\n",
       "      <td>6</td>\n",
       "      <td>296478</td>\n",
       "      <td>8</td>\n",
       "      <td>82.7688</td>\n",
       "      <td>321.3156</td>\n",
       "    </tr>\n",
       "    <tr>\n",
       "      <th>6719</th>\n",
       "      <td>1884_008_Vis1AK_Home1A</td>\n",
       "      <td>6</td>\n",
       "      <td>296528</td>\n",
       "      <td>8</td>\n",
       "      <td>83.3565</td>\n",
       "      <td>321.6087</td>\n",
       "    </tr>\n",
       "    <tr>\n",
       "      <th>6733</th>\n",
       "      <td>1884_008_Vis1AK_Home1A</td>\n",
       "      <td>6</td>\n",
       "      <td>296578</td>\n",
       "      <td>8</td>\n",
       "      <td>83.4822</td>\n",
       "      <td>321.6708</td>\n",
       "    </tr>\n",
       "    <tr>\n",
       "      <th>6747</th>\n",
       "      <td>1884_008_Vis1AK_Home1A</td>\n",
       "      <td>6</td>\n",
       "      <td>296628</td>\n",
       "      <td>8</td>\n",
       "      <td>83.6010</td>\n",
       "      <td>321.7311</td>\n",
       "    </tr>\n",
       "  </tbody>\n",
       "</table>\n",
       "<p>112 rows × 6 columns</p>\n",
       "</div>"
      ],
      "text/plain": [
       "                    game_str  play_id  timestamp  player_position  field_x  \\\n",
       "5193  1884_008_Vis1AK_Home1A        6     291078                8  -4.7460   \n",
       "5207  1884_008_Vis1AK_Home1A        6     291128                8  -4.6383   \n",
       "5221  1884_008_Vis1AK_Home1A        6     291178                8  -4.5210   \n",
       "5235  1884_008_Vis1AK_Home1A        6     291228                8  -4.3929   \n",
       "5249  1884_008_Vis1AK_Home1A        6     291278                8  -4.2525   \n",
       "...                      ...      ...        ...              ...      ...   \n",
       "6691  1884_008_Vis1AK_Home1A        6     296428                8  82.1850   \n",
       "6705  1884_008_Vis1AK_Home1A        6     296478                8  82.7688   \n",
       "6719  1884_008_Vis1AK_Home1A        6     296528                8  83.3565   \n",
       "6733  1884_008_Vis1AK_Home1A        6     296578                8  83.4822   \n",
       "6747  1884_008_Vis1AK_Home1A        6     296628                8  83.6010   \n",
       "\n",
       "       field_y  \n",
       "5193  286.0152  \n",
       "5207  285.9066  \n",
       "5221  285.7980  \n",
       "5235  285.6909  \n",
       "5249  285.5865  \n",
       "...        ...  \n",
       "6691  321.0192  \n",
       "6705  321.3156  \n",
       "6719  321.6087  \n",
       "6733  321.6708  \n",
       "6747  321.7311  \n",
       "\n",
       "[112 rows x 6 columns]"
      ]
     },
     "execution_count": 72,
     "metadata": {},
     "output_type": "execute_result"
    }
   ],
   "source": [
    "play6coords = player_pos[(player_pos[\"player_position\"] == 8) & (player_pos[\"timestamp\"] >= 291078) & (player_pos[\"timestamp\"] <= 296628)]\n",
    "#list(zip(play6coords[\"field_x\"], play6coords[\"field_y\"]))\n",
    "play6coords"
   ]
  },
  {
   "cell_type": "code",
   "execution_count": 73,
   "metadata": {},
   "outputs": [],
   "source": [
    "# canv = Canvas(width  = 400, height = 400)\n",
    "# canv.scale(x = 1, y = -1)\n",
    "# canv.translate(x = canv.width / 2, y = -canv.height)\n",
    "# colors = np.array(range(play6coords.shape[0])) * 255 / play6coords.shape[0]\n",
    "# colors = list(map(lambda x: ([255 - x, 255 - x, 255]), colors))\n",
    "# canv.fill_styled_circles(play6coords[\"field_x\"].to_numpy(), play6coords[\"field_y\"].to_numpy(), color = colors, radius = 1)\n",
    "# canv"
   ]
  },
  {
   "cell_type": "code",
   "execution_count": 74,
   "metadata": {},
   "outputs": [
    {
     "data": {
      "text/html": [
       "<div>\n",
       "<style scoped>\n",
       "    .dataframe tbody tr th:only-of-type {\n",
       "        vertical-align: middle;\n",
       "    }\n",
       "\n",
       "    .dataframe tbody tr th {\n",
       "        vertical-align: top;\n",
       "    }\n",
       "\n",
       "    .dataframe thead th {\n",
       "        text-align: right;\n",
       "    }\n",
       "</style>\n",
       "<table border=\"1\" class=\"dataframe\">\n",
       "  <thead>\n",
       "    <tr style=\"text-align: right;\">\n",
       "      <th></th>\n",
       "      <th>game_str</th>\n",
       "      <th>play_id</th>\n",
       "      <th>at_bat</th>\n",
       "      <th>play_per_game</th>\n",
       "      <th>timestamp</th>\n",
       "      <th>player_position</th>\n",
       "      <th>event_code</th>\n",
       "    </tr>\n",
       "  </thead>\n",
       "  <tbody>\n",
       "    <tr>\n",
       "      <th>29</th>\n",
       "      <td>1884_008_Vis1AK_Home1A</td>\n",
       "      <td>6</td>\n",
       "      <td>24</td>\n",
       "      <td>6</td>\n",
       "      <td>290678</td>\n",
       "      <td>1</td>\n",
       "      <td>1</td>\n",
       "    </tr>\n",
       "    <tr>\n",
       "      <th>30</th>\n",
       "      <td>1884_008_Vis1AK_Home1A</td>\n",
       "      <td>6</td>\n",
       "      <td>24</td>\n",
       "      <td>6</td>\n",
       "      <td>291078</td>\n",
       "      <td>10</td>\n",
       "      <td>4</td>\n",
       "    </tr>\n",
       "    <tr>\n",
       "      <th>31</th>\n",
       "      <td>1884_008_Vis1AK_Home1A</td>\n",
       "      <td>6</td>\n",
       "      <td>24</td>\n",
       "      <td>6</td>\n",
       "      <td>296628</td>\n",
       "      <td>8</td>\n",
       "      <td>2</td>\n",
       "    </tr>\n",
       "    <tr>\n",
       "      <th>32</th>\n",
       "      <td>1884_008_Vis1AK_Home1A</td>\n",
       "      <td>6</td>\n",
       "      <td>24</td>\n",
       "      <td>6</td>\n",
       "      <td>297678</td>\n",
       "      <td>8</td>\n",
       "      <td>3</td>\n",
       "    </tr>\n",
       "    <tr>\n",
       "      <th>33</th>\n",
       "      <td>1884_008_Vis1AK_Home1A</td>\n",
       "      <td>6</td>\n",
       "      <td>24</td>\n",
       "      <td>6</td>\n",
       "      <td>299428</td>\n",
       "      <td>255</td>\n",
       "      <td>16</td>\n",
       "    </tr>\n",
       "    <tr>\n",
       "      <th>34</th>\n",
       "      <td>1884_008_Vis1AK_Home1A</td>\n",
       "      <td>6</td>\n",
       "      <td>24</td>\n",
       "      <td>6</td>\n",
       "      <td>299578</td>\n",
       "      <td>6</td>\n",
       "      <td>2</td>\n",
       "    </tr>\n",
       "    <tr>\n",
       "      <th>35</th>\n",
       "      <td>1884_008_Vis1AK_Home1A</td>\n",
       "      <td>6</td>\n",
       "      <td>24</td>\n",
       "      <td>6</td>\n",
       "      <td>301228</td>\n",
       "      <td>0</td>\n",
       "      <td>5</td>\n",
       "    </tr>\n",
       "  </tbody>\n",
       "</table>\n",
       "</div>"
      ],
      "text/plain": [
       "                  game_str  play_id  at_bat  play_per_game  timestamp  \\\n",
       "29  1884_008_Vis1AK_Home1A        6      24              6     290678   \n",
       "30  1884_008_Vis1AK_Home1A        6      24              6     291078   \n",
       "31  1884_008_Vis1AK_Home1A        6      24              6     296628   \n",
       "32  1884_008_Vis1AK_Home1A        6      24              6     297678   \n",
       "33  1884_008_Vis1AK_Home1A        6      24              6     299428   \n",
       "34  1884_008_Vis1AK_Home1A        6      24              6     299578   \n",
       "35  1884_008_Vis1AK_Home1A        6      24              6     301228   \n",
       "\n",
       "    player_position  event_code  \n",
       "29                1           1  \n",
       "30               10           4  \n",
       "31                8           2  \n",
       "32                8           3  \n",
       "33              255          16  \n",
       "34                6           2  \n",
       "35                0           5  "
      ]
     },
     "execution_count": 74,
     "metadata": {},
     "output_type": "execute_result"
    }
   ],
   "source": [
    "play6"
   ]
  },
  {
   "cell_type": "code",
   "execution_count": 76,
   "metadata": {},
   "outputs": [],
   "source": [
    "r = Route(play6, player_pos, ball_pos, game_info)"
   ]
  },
  {
   "cell_type": "code",
   "execution_count": 77,
   "metadata": {},
   "outputs": [
    {
     "data": {
      "text/plain": [
       "{'1A': 9}"
      ]
     },
     "execution_count": 77,
     "metadata": {},
     "output_type": "execute_result"
    }
   ],
   "source": [
    "Player.get_existing_players()[8743].get_levels()"
   ]
  },
  {
   "cell_type": "code",
   "execution_count": 78,
   "metadata": {},
   "outputs": [
    {
     "data": {
      "text/plain": [
       "96.96957488866856"
      ]
     },
     "execution_count": 78,
     "metadata": {},
     "output_type": "execute_result"
    }
   ],
   "source": [
    "r.get_total_length()"
   ]
  },
  {
   "cell_type": "code",
   "execution_count": 79,
   "metadata": {},
   "outputs": [
    {
     "data": {
      "text/plain": [
       "95.29332569393306"
      ]
     },
     "execution_count": 79,
     "metadata": {},
     "output_type": "execute_result"
    }
   ],
   "source": [
    "r.get_ideal_length()"
   ]
  },
  {
   "cell_type": "code",
   "execution_count": 80,
   "metadata": {},
   "outputs": [
    {
     "data": {
      "text/plain": [
       "0.9827136584164671"
      ]
     },
     "execution_count": 80,
     "metadata": {},
     "output_type": "execute_result"
    }
   ],
   "source": [
    "r.get_score()"
   ]
  },
  {
   "cell_type": "code",
   "execution_count": 81,
   "metadata": {},
   "outputs": [
    {
     "data": {
      "text/plain": [
       "29    False\n",
       "30    False\n",
       "31     True\n",
       "32    False\n",
       "33    False\n",
       "34    False\n",
       "35    False\n",
       "dtype: bool"
      ]
     },
     "execution_count": 81,
     "metadata": {},
     "output_type": "execute_result"
    }
   ],
   "source": [
    "(play6[\"player_position\"] >= 7) & (play6[\"player_position\"] <= 9) & (play6[\"event_code\"] == 2)"
   ]
  },
  {
   "cell_type": "code",
   "execution_count": null,
   "metadata": {},
   "outputs": [],
   "source": []
  },
  {
   "cell_type": "code",
   "execution_count": 593,
   "metadata": {},
   "outputs": [],
   "source": [
    "relevant_plays_df = game_events.groupby(\"play_per_game\").filter(Metric.route_eff_rel)"
   ]
  },
  {
   "cell_type": "code",
   "execution_count": 594,
   "metadata": {},
   "outputs": [
    {
     "data": {
      "text/html": [
       "<div>\n",
       "<style scoped>\n",
       "    .dataframe tbody tr th:only-of-type {\n",
       "        vertical-align: middle;\n",
       "    }\n",
       "\n",
       "    .dataframe tbody tr th {\n",
       "        vertical-align: top;\n",
       "    }\n",
       "\n",
       "    .dataframe thead th {\n",
       "        text-align: right;\n",
       "    }\n",
       "</style>\n",
       "<table border=\"1\" class=\"dataframe\">\n",
       "  <thead>\n",
       "    <tr style=\"text-align: right;\">\n",
       "      <th></th>\n",
       "      <th>game_str</th>\n",
       "      <th>play_id</th>\n",
       "      <th>at_bat</th>\n",
       "      <th>play_per_game</th>\n",
       "      <th>timestamp</th>\n",
       "      <th>player_position</th>\n",
       "      <th>event_code</th>\n",
       "    </tr>\n",
       "  </thead>\n",
       "  <tbody>\n",
       "    <tr>\n",
       "      <th>9</th>\n",
       "      <td>1884_008_Vis1AK_Home1A</td>\n",
       "      <td>4</td>\n",
       "      <td>22</td>\n",
       "      <td>4</td>\n",
       "      <td>88378</td>\n",
       "      <td>1</td>\n",
       "      <td>1</td>\n",
       "    </tr>\n",
       "    <tr>\n",
       "      <th>10</th>\n",
       "      <td>1884_008_Vis1AK_Home1A</td>\n",
       "      <td>4</td>\n",
       "      <td>22</td>\n",
       "      <td>4</td>\n",
       "      <td>88778</td>\n",
       "      <td>10</td>\n",
       "      <td>4</td>\n",
       "    </tr>\n",
       "    <tr>\n",
       "      <th>11</th>\n",
       "      <td>1884_008_Vis1AK_Home1A</td>\n",
       "      <td>4</td>\n",
       "      <td>22</td>\n",
       "      <td>4</td>\n",
       "      <td>92978</td>\n",
       "      <td>255</td>\n",
       "      <td>16</td>\n",
       "    </tr>\n",
       "    <tr>\n",
       "      <th>12</th>\n",
       "      <td>1884_008_Vis1AK_Home1A</td>\n",
       "      <td>4</td>\n",
       "      <td>22</td>\n",
       "      <td>4</td>\n",
       "      <td>93078</td>\n",
       "      <td>9</td>\n",
       "      <td>9</td>\n",
       "    </tr>\n",
       "    <tr>\n",
       "      <th>13</th>\n",
       "      <td>1884_008_Vis1AK_Home1A</td>\n",
       "      <td>4</td>\n",
       "      <td>22</td>\n",
       "      <td>4</td>\n",
       "      <td>93778</td>\n",
       "      <td>255</td>\n",
       "      <td>16</td>\n",
       "    </tr>\n",
       "    <tr>\n",
       "      <th>...</th>\n",
       "      <td>...</td>\n",
       "      <td>...</td>\n",
       "      <td>...</td>\n",
       "      <td>...</td>\n",
       "      <td>...</td>\n",
       "      <td>...</td>\n",
       "      <td>...</td>\n",
       "    </tr>\n",
       "    <tr>\n",
       "      <th>835</th>\n",
       "      <td>1884_008_Vis1AK_Home1A</td>\n",
       "      <td>203</td>\n",
       "      <td>84</td>\n",
       "      <td>203</td>\n",
       "      <td>7631926</td>\n",
       "      <td>255</td>\n",
       "      <td>16</td>\n",
       "    </tr>\n",
       "    <tr>\n",
       "      <th>836</th>\n",
       "      <td>1884_008_Vis1AK_Home1A</td>\n",
       "      <td>203</td>\n",
       "      <td>84</td>\n",
       "      <td>203</td>\n",
       "      <td>7633826</td>\n",
       "      <td>8</td>\n",
       "      <td>2</td>\n",
       "    </tr>\n",
       "    <tr>\n",
       "      <th>837</th>\n",
       "      <td>1884_008_Vis1AK_Home1A</td>\n",
       "      <td>203</td>\n",
       "      <td>84</td>\n",
       "      <td>203</td>\n",
       "      <td>7636276</td>\n",
       "      <td>8</td>\n",
       "      <td>3</td>\n",
       "    </tr>\n",
       "    <tr>\n",
       "      <th>838</th>\n",
       "      <td>1884_008_Vis1AK_Home1A</td>\n",
       "      <td>203</td>\n",
       "      <td>84</td>\n",
       "      <td>203</td>\n",
       "      <td>7637026</td>\n",
       "      <td>6</td>\n",
       "      <td>2</td>\n",
       "    </tr>\n",
       "    <tr>\n",
       "      <th>839</th>\n",
       "      <td>1884_008_Vis1AK_Home1A</td>\n",
       "      <td>203</td>\n",
       "      <td>84</td>\n",
       "      <td>203</td>\n",
       "      <td>7637876</td>\n",
       "      <td>0</td>\n",
       "      <td>5</td>\n",
       "    </tr>\n",
       "  </tbody>\n",
       "</table>\n",
       "<p>171 rows × 7 columns</p>\n",
       "</div>"
      ],
      "text/plain": [
       "                   game_str  play_id  at_bat  play_per_game  timestamp  \\\n",
       "9    1884_008_Vis1AK_Home1A        4      22              4      88378   \n",
       "10   1884_008_Vis1AK_Home1A        4      22              4      88778   \n",
       "11   1884_008_Vis1AK_Home1A        4      22              4      92978   \n",
       "12   1884_008_Vis1AK_Home1A        4      22              4      93078   \n",
       "13   1884_008_Vis1AK_Home1A        4      22              4      93778   \n",
       "..                      ...      ...     ...            ...        ...   \n",
       "835  1884_008_Vis1AK_Home1A      203      84            203    7631926   \n",
       "836  1884_008_Vis1AK_Home1A      203      84            203    7633826   \n",
       "837  1884_008_Vis1AK_Home1A      203      84            203    7636276   \n",
       "838  1884_008_Vis1AK_Home1A      203      84            203    7637026   \n",
       "839  1884_008_Vis1AK_Home1A      203      84            203    7637876   \n",
       "\n",
       "     player_position  event_code  \n",
       "9                  1           1  \n",
       "10                10           4  \n",
       "11               255          16  \n",
       "12                 9           9  \n",
       "13               255          16  \n",
       "..               ...         ...  \n",
       "835              255          16  \n",
       "836                8           2  \n",
       "837                8           3  \n",
       "838                6           2  \n",
       "839                0           5  \n",
       "\n",
       "[171 rows x 7 columns]"
      ]
     },
     "execution_count": 594,
     "metadata": {},
     "output_type": "execute_result"
    }
   ],
   "source": [
    "relevant_plays_df"
   ]
  },
  {
   "cell_type": "code",
   "execution_count": 270,
   "metadata": {},
   "outputs": [
    {
     "data": {
      "text/plain": [
       "False"
      ]
     },
     "execution_count": 270,
     "metadata": {},
     "output_type": "execute_result"
    }
   ],
   "source": [
    "4 not in game_events[\"event_code\"].values"
   ]
  },
  {
   "cell_type": "code",
   "execution_count": 272,
   "metadata": {},
   "outputs": [
    {
     "name": "stdout",
     "output_type": "stream",
     "text": [
      "Players cleared\n"
     ]
    }
   ],
   "source": [
    "Player.clear_existing_players()\n",
    "for play_num in relevant_plays_df[\"play_per_game\"].unique():\n",
    "    Route(relevant_plays_df[relevant_plays_df[\"play_per_game\"] == play_num], player_pos, ball_pos, game_info)"
   ]
  },
  {
   "cell_type": "code",
   "execution_count": 273,
   "metadata": {},
   "outputs": [
    {
     "data": {
      "text/plain": [
       "{5599: <Player.Player at 0x19fc69cec80>,\n",
       " 8743: <Player.Player at 0x19fc69ce410>,\n",
       " 963: <Player.Player at 0x19fc69cdc00>,\n",
       " 537: <Player.Player at 0x19fc69cd3f0>,\n",
       " 435: <Player.Player at 0x19fc69cc430>,\n",
       " 5485: <Player.Player at 0x19fc7852530>}"
      ]
     },
     "execution_count": 273,
     "metadata": {},
     "output_type": "execute_result"
    }
   ],
   "source": [
    "Player.get_existing_players()"
   ]
  },
  {
   "cell_type": "code",
   "execution_count": 627,
   "metadata": {},
   "outputs": [
    {
     "data": {
      "application/vnd.jupyter.widget-view+json": {
       "model_id": "375010ada8eb43d9a39abb88f9d2c952",
       "version_major": 2,
       "version_minor": 0
      },
      "text/plain": [
       "Canvas(height=400, width=400)"
      ]
     },
     "execution_count": 627,
     "metadata": {},
     "output_type": "execute_result"
    }
   ],
   "source": [
    "Player.get_existing_players()[537].get_routes()[0].visualize()"
   ]
  },
  {
   "cell_type": "code",
   "execution_count": 86,
   "metadata": {},
   "outputs": [
    {
     "data": {
      "text/html": [
       "<div>\n",
       "<style scoped>\n",
       "    .dataframe tbody tr th:only-of-type {\n",
       "        vertical-align: middle;\n",
       "    }\n",
       "\n",
       "    .dataframe tbody tr th {\n",
       "        vertical-align: top;\n",
       "    }\n",
       "\n",
       "    .dataframe thead th {\n",
       "        text-align: right;\n",
       "    }\n",
       "</style>\n",
       "<table border=\"1\" class=\"dataframe\">\n",
       "  <thead>\n",
       "    <tr style=\"text-align: right;\">\n",
       "      <th></th>\n",
       "      <th>game_str</th>\n",
       "      <th>play_id</th>\n",
       "      <th>at_bat</th>\n",
       "      <th>play_per_game</th>\n",
       "      <th>timestamp</th>\n",
       "      <th>player_position</th>\n",
       "      <th>event_code</th>\n",
       "    </tr>\n",
       "  </thead>\n",
       "  <tbody>\n",
       "    <tr>\n",
       "      <th>29</th>\n",
       "      <td>1884_008_Vis1AK_Home1A</td>\n",
       "      <td>6</td>\n",
       "      <td>24</td>\n",
       "      <td>6</td>\n",
       "      <td>290678</td>\n",
       "      <td>1</td>\n",
       "      <td>1</td>\n",
       "    </tr>\n",
       "    <tr>\n",
       "      <th>30</th>\n",
       "      <td>1884_008_Vis1AK_Home1A</td>\n",
       "      <td>6</td>\n",
       "      <td>24</td>\n",
       "      <td>6</td>\n",
       "      <td>291078</td>\n",
       "      <td>10</td>\n",
       "      <td>4</td>\n",
       "    </tr>\n",
       "  </tbody>\n",
       "</table>\n",
       "</div>"
      ],
      "text/plain": [
       "                  game_str  play_id  at_bat  play_per_game  timestamp  \\\n",
       "29  1884_008_Vis1AK_Home1A        6      24              6     290678   \n",
       "30  1884_008_Vis1AK_Home1A        6      24              6     291078   \n",
       "\n",
       "    player_position  event_code  \n",
       "29                1           1  \n",
       "30               10           4  "
      ]
     },
     "execution_count": 86,
     "metadata": {},
     "output_type": "execute_result"
    }
   ],
   "source": [
    "play6.head((play6.reset_index()[\"event_code\"] == 2).idxmax())"
   ]
  },
  {
   "cell_type": "code",
   "execution_count": 87,
   "metadata": {},
   "outputs": [],
   "source": [
    "# import pygame\n",
    "# pygame.init()\n",
    "# screen = pygame.display.set_mode((1280, 720))\n",
    "# clock = pygame.time.Clock()\n",
    "# running = True\n",
    "\n",
    "# while running:\n",
    "#     # poll for events\n",
    "#     # pygame.QUIT event means the user clicked X to close your window\n",
    "#     for event in pygame.event.get():\n",
    "#         if event.type == pygame.QUIT:\n",
    "#             running = False\n",
    "\n",
    "#     # fill the screen with a color to wipe away anything from last frame\n",
    "#     screen.fill(\"purple\")\n",
    "\n",
    "#     # RENDER YOUR GAME HERE\n",
    "#     pygame.draw.circle(screen, (0, 0, 0), (0, 0), 10)\n",
    "\n",
    "#     # flip() the display to put your work on screen\n",
    "#     pygame.display.flip()\n",
    "\n",
    "#     clock.tick(60)  # limits FPS to 60\n",
    "\n",
    "# pygame.quit()"
   ]
  },
  {
   "cell_type": "code",
   "execution_count": 100,
   "metadata": {},
   "outputs": [],
   "source": [
    "import os"
   ]
  },
  {
   "cell_type": "code",
   "execution_count": 113,
   "metadata": {},
   "outputs": [
    {
     "data": {
      "text/plain": [
       "['Season_1883', 'Season_1884']"
      ]
     },
     "execution_count": 113,
     "metadata": {},
     "output_type": "execute_result"
    }
   ],
   "source": [
    "os.listdir(r\"2024_SMT_Data_Challenge\\ball_pos\")"
   ]
  },
  {
   "cell_type": "code",
   "execution_count": 114,
   "metadata": {},
   "outputs": [],
   "source": [
    "from FindGameFiles import FindGameFiles"
   ]
  },
  {
   "cell_type": "code",
   "execution_count": 164,
   "metadata": {},
   "outputs": [],
   "source": [
    "files = FindGameFiles()"
   ]
  },
  {
   "cell_type": "code",
   "execution_count": 166,
   "metadata": {},
   "outputs": [
    {
     "data": {
      "text/plain": [
       "339"
      ]
     },
     "execution_count": 166,
     "metadata": {},
     "output_type": "execute_result"
    }
   ],
   "source": [
    "len(files)"
   ]
  },
  {
   "cell_type": "code",
   "execution_count": 606,
   "metadata": {},
   "outputs": [],
   "source": [
    "Route.is_relevant()"
   ]
  },
  {
   "cell_type": "code",
   "execution_count": 628,
   "metadata": {},
   "outputs": [
    {
     "name": "stdout",
     "output_type": "stream",
     "text": [
      "Players cleared\n",
      "Routes cleared\n",
      "Starting file search\n",
      "Files accumulated\n",
      "Finished game 1 of 339\n",
      "Finished game 2 of 339\n",
      "Finished game 3 of 339\n",
      "Finished game 4 of 339\n",
      "Finished game 5 of 339\n",
      "Finished game 6 of 339\n",
      "Finished game 7 of 339\n",
      "Finished game 8 of 339\n",
      "Finished game 9 of 339\n",
      "Finished game 10 of 339\n",
      "Finished game 11 of 339\n",
      "Finished game 12 of 339\n",
      "Finished game 13 of 339\n",
      "Finished game 14 of 339\n",
      "Finished game 15 of 339\n",
      "Finished game 16 of 339\n",
      "Finished game 17 of 339\n",
      "Finished game 18 of 339\n",
      "Finished game 19 of 339\n",
      "Finished game 20 of 339\n",
      "Finished game 21 of 339\n",
      "Finished game 22 of 339\n",
      "Finished game 23 of 339\n",
      "Finished game 24 of 339\n",
      "Finished game 25 of 339\n",
      "Finished game 26 of 339\n",
      "Finished game 27 of 339\n",
      "Finished game 28 of 339\n",
      "Finished game 29 of 339\n",
      "Finished game 30 of 339\n",
      "Finished game 31 of 339\n",
      "Finished game 32 of 339\n",
      "Finished game 33 of 339\n",
      "Finished game 34 of 339\n",
      "Finished game 35 of 339\n",
      "Finished game 36 of 339\n",
      "Finished game 37 of 339\n",
      "Finished game 38 of 339\n",
      "Finished game 39 of 339\n",
      "Finished game 40 of 339\n",
      "Finished game 41 of 339\n",
      "Finished game 42 of 339\n",
      "Finished game 43 of 339\n",
      "Finished game 44 of 339\n",
      "Finished game 45 of 339\n",
      "Finished game 46 of 339\n",
      "Finished game 47 of 339\n",
      "Finished game 48 of 339\n",
      "Finished game 49 of 339\n",
      "Finished game 50 of 339\n",
      "Finished game 51 of 339\n",
      "Finished game 52 of 339\n",
      "Finished game 53 of 339\n",
      "Finished game 54 of 339\n",
      "Finished game 55 of 339\n",
      "Finished game 56 of 339\n",
      "Finished game 57 of 339\n",
      "Finished game 58 of 339\n",
      "Finished game 59 of 339\n",
      "Finished game 60 of 339\n",
      "Finished game 61 of 339\n",
      "Finished game 62 of 339\n",
      "Finished game 63 of 339\n",
      "Finished game 64 of 339\n",
      "Finished game 65 of 339\n",
      "Finished game 66 of 339\n",
      "Finished game 67 of 339\n",
      "Finished game 68 of 339\n",
      "Finished game 69 of 339\n",
      "Finished game 70 of 339\n",
      "Finished game 71 of 339\n",
      "Finished game 72 of 339\n",
      "Finished game 73 of 339\n",
      "Finished game 74 of 339\n",
      "Finished game 75 of 339\n",
      "Finished game 76 of 339\n",
      "Finished game 77 of 339\n",
      "Finished game 78 of 339\n",
      "Finished game 79 of 339\n",
      "Finished game 80 of 339\n",
      "Finished game 81 of 339\n",
      "Finished game 82 of 339\n",
      "Finished game 83 of 339\n",
      "Finished game 84 of 339\n",
      "Finished game 85 of 339\n",
      "Finished game 86 of 339\n",
      "Finished game 87 of 339\n",
      "Finished game 88 of 339\n",
      "Finished game 89 of 339\n",
      "Finished game 90 of 339\n",
      "Finished game 91 of 339\n",
      "Finished game 92 of 339\n",
      "Finished game 93 of 339\n",
      "Finished game 94 of 339\n",
      "Finished game 95 of 339\n",
      "Finished game 96 of 339\n",
      "Finished game 97 of 339\n",
      "Finished game 98 of 339\n",
      "Finished game 99 of 339\n",
      "Finished game 100 of 339\n",
      "Finished game 101 of 339\n",
      "Finished game 102 of 339\n",
      "Finished game 103 of 339\n",
      "Finished game 104 of 339\n",
      "Finished game 105 of 339\n",
      "Finished game 106 of 339\n",
      "Finished game 107 of 339\n",
      "Finished game 108 of 339\n",
      "Finished game 109 of 339\n",
      "Finished game 110 of 339\n",
      "Finished game 111 of 339\n",
      "Finished game 112 of 339\n",
      "Finished game 113 of 339\n",
      "Finished game 114 of 339\n",
      "no start coords\n",
      "Finished game 115 of 339\n",
      "Finished game 116 of 339\n",
      "Finished game 117 of 339\n",
      "Finished game 118 of 339\n",
      "game skipped\n",
      "Finished game 120 of 339\n",
      "Finished game 121 of 339\n",
      "Finished game 122 of 339\n",
      "Finished game 123 of 339\n",
      "Finished game 124 of 339\n",
      "Finished game 125 of 339\n",
      "Finished game 126 of 339\n",
      "Finished game 127 of 339\n",
      "Finished game 128 of 339\n",
      "Finished game 129 of 339\n",
      "Finished game 130 of 339\n",
      "Finished game 131 of 339\n",
      "Finished game 132 of 339\n",
      "Finished game 133 of 339\n",
      "Finished game 134 of 339\n",
      "Finished game 135 of 339\n",
      "Finished game 136 of 339\n",
      "Finished game 137 of 339\n",
      "Finished game 138 of 339\n",
      "Finished game 139 of 339\n",
      "Finished game 140 of 339\n",
      "Finished game 141 of 339\n",
      "Finished game 142 of 339\n",
      "Finished game 143 of 339\n",
      "Finished game 144 of 339\n",
      "Finished game 145 of 339\n",
      "Finished game 146 of 339\n",
      "Finished game 147 of 339\n",
      "Finished game 148 of 339\n",
      "Finished game 149 of 339\n",
      "Finished game 150 of 339\n",
      "Finished game 151 of 339\n",
      "Finished game 152 of 339\n",
      "Finished game 153 of 339\n",
      "Finished game 154 of 339\n",
      "worked at least once\n",
      "Finished game 155 of 339\n",
      "Finished game 156 of 339\n",
      "Finished game 157 of 339\n",
      "worked at least once\n",
      "Finished game 158 of 339\n",
      "worked at least once\n",
      "Finished game 159 of 339\n",
      "Finished game 160 of 339\n",
      "worked at least once\n",
      "Finished game 161 of 339\n",
      "Finished game 162 of 339\n",
      "Finished game 163 of 339\n",
      "Finished game 164 of 339\n",
      "Finished game 165 of 339\n",
      "Finished game 166 of 339\n",
      "Finished game 167 of 339\n",
      "Finished game 168 of 339\n",
      "Finished game 169 of 339\n",
      "Finished game 170 of 339\n",
      "Finished game 171 of 339\n",
      "worked at least once\n",
      "worked at least once\n",
      "worked at least once\n",
      "worked at least once\n",
      "worked at least once\n",
      "worked at least once\n",
      "Finished game 172 of 339\n",
      "Finished game 173 of 339\n",
      "Finished game 174 of 339\n",
      "Finished game 175 of 339\n",
      "worked at least once\n",
      "worked at least once\n",
      "worked at least once\n",
      "worked at least once\n",
      "worked at least once\n",
      "worked at least once\n",
      "worked at least once\n",
      "worked at least once\n",
      "worked at least once\n",
      "worked at least once\n",
      "worked at least once\n",
      "worked at least once\n",
      "worked at least once\n",
      "worked at least once\n",
      "worked at least once\n",
      "worked at least once\n",
      "Finished game 176 of 339\n",
      "Finished game 177 of 339\n",
      "worked at least once\n",
      "worked at least once\n",
      "worked at least once\n",
      "worked at least once\n",
      "worked at least once\n",
      "worked at least once\n",
      "worked at least once\n",
      "worked at least once\n",
      "worked at least once\n",
      "Finished game 178 of 339\n",
      "Finished game 179 of 339\n",
      "Finished game 180 of 339\n",
      "Finished game 181 of 339\n",
      "Finished game 182 of 339\n",
      "Finished game 183 of 339\n",
      "Finished game 184 of 339\n",
      "Finished game 185 of 339\n",
      "worked at least once\n",
      "Finished game 186 of 339\n",
      "Finished game 187 of 339\n",
      "Finished game 188 of 339\n",
      "worked at least once\n",
      "Finished game 189 of 339\n",
      "Finished game 190 of 339\n",
      "Finished game 191 of 339\n",
      "Finished game 192 of 339\n",
      "Finished game 193 of 339\n",
      "Finished game 194 of 339\n",
      "Finished game 195 of 339\n",
      "Finished game 196 of 339\n",
      "Finished game 197 of 339\n",
      "Finished game 198 of 339\n",
      "Finished game 199 of 339\n",
      "worked at least once\n",
      "Finished game 200 of 339\n",
      "Finished game 201 of 339\n",
      "Finished game 202 of 339\n",
      "Finished game 203 of 339\n",
      "Finished game 204 of 339\n",
      "Finished game 205 of 339\n",
      "Finished game 206 of 339\n",
      "Finished game 207 of 339\n",
      "Finished game 208 of 339\n",
      "Finished game 209 of 339\n",
      "Finished game 210 of 339\n",
      "Finished game 211 of 339\n",
      "Finished game 212 of 339\n",
      "Finished game 213 of 339\n",
      "Finished game 214 of 339\n",
      "Finished game 215 of 339\n",
      "Finished game 216 of 339\n",
      "Finished game 217 of 339\n",
      "Finished game 218 of 339\n",
      "Finished game 219 of 339\n",
      "Finished game 220 of 339\n",
      "Finished game 221 of 339\n",
      "Finished game 222 of 339\n",
      "Finished game 223 of 339\n",
      "Finished game 224 of 339\n",
      "Finished game 225 of 339\n",
      "Finished game 226 of 339\n",
      "Finished game 227 of 339\n",
      "Finished game 228 of 339\n",
      "Finished game 229 of 339\n",
      "Finished game 230 of 339\n",
      "Finished game 231 of 339\n",
      "Finished game 232 of 339\n",
      "Finished game 233 of 339\n",
      "Finished game 234 of 339\n",
      "Finished game 235 of 339\n",
      "Finished game 236 of 339\n",
      "Finished game 237 of 339\n",
      "Finished game 238 of 339\n",
      "Finished game 239 of 339\n",
      "Finished game 240 of 339\n",
      "Finished game 241 of 339\n",
      "Finished game 242 of 339\n",
      "Finished game 243 of 339\n",
      "Finished game 244 of 339\n",
      "Finished game 245 of 339\n",
      "Finished game 246 of 339\n",
      "Finished game 247 of 339\n",
      "Finished game 248 of 339\n",
      "Finished game 249 of 339\n",
      "Finished game 250 of 339\n",
      "Finished game 251 of 339\n",
      "Finished game 252 of 339\n",
      "Finished game 253 of 339\n",
      "Finished game 254 of 339\n",
      "Finished game 255 of 339\n",
      "Finished game 256 of 339\n",
      "Finished game 257 of 339\n",
      "Finished game 258 of 339\n",
      "Finished game 259 of 339\n",
      "Finished game 260 of 339\n",
      "Finished game 261 of 339\n",
      "Finished game 262 of 339\n",
      "Finished game 263 of 339\n",
      "Finished game 264 of 339\n",
      "Finished game 265 of 339\n",
      "Finished game 266 of 339\n",
      "Finished game 267 of 339\n",
      "Finished game 268 of 339\n",
      "Finished game 269 of 339\n",
      "Finished game 270 of 339\n",
      "Finished game 271 of 339\n",
      "Finished game 272 of 339\n",
      "Finished game 273 of 339\n",
      "Finished game 274 of 339\n",
      "Finished game 275 of 339\n",
      "Finished game 276 of 339\n",
      "Finished game 277 of 339\n",
      "Finished game 278 of 339\n",
      "Finished game 279 of 339\n",
      "Finished game 280 of 339\n",
      "Finished game 281 of 339\n",
      "Finished game 282 of 339\n",
      "Finished game 283 of 339\n",
      "Finished game 284 of 339\n",
      "Finished game 285 of 339\n",
      "Finished game 286 of 339\n",
      "Finished game 287 of 339\n",
      "Finished game 288 of 339\n",
      "Finished game 289 of 339\n",
      "Finished game 290 of 339\n",
      "Finished game 291 of 339\n",
      "Finished game 292 of 339\n",
      "Finished game 293 of 339\n",
      "Finished game 294 of 339\n",
      "Finished game 295 of 339\n",
      "Finished game 296 of 339\n",
      "Finished game 297 of 339\n",
      "Finished game 298 of 339\n",
      "Finished game 299 of 339\n",
      "Finished game 300 of 339\n",
      "Finished game 301 of 339\n",
      "Finished game 302 of 339\n",
      "Finished game 303 of 339\n",
      "Finished game 304 of 339\n",
      "Finished game 305 of 339\n",
      "Finished game 306 of 339\n",
      "Finished game 307 of 339\n",
      "Finished game 308 of 339\n",
      "Finished game 309 of 339\n",
      "Finished game 310 of 339\n",
      "Finished game 311 of 339\n",
      "Finished game 312 of 339\n",
      "Finished game 313 of 339\n",
      "Finished game 314 of 339\n",
      "Finished game 315 of 339\n",
      "Finished game 316 of 339\n",
      "Finished game 317 of 339\n",
      "Finished game 318 of 339\n",
      "Finished game 319 of 339\n",
      "Finished game 320 of 339\n",
      "Finished game 321 of 339\n",
      "Finished game 322 of 339\n",
      "Finished game 323 of 339\n",
      "Finished game 324 of 339\n",
      "Finished game 325 of 339\n",
      "Finished game 326 of 339\n",
      "Finished game 327 of 339\n",
      "Finished game 328 of 339\n",
      "Finished game 329 of 339\n",
      "Finished game 330 of 339\n",
      "Finished game 331 of 339\n",
      "Finished game 332 of 339\n",
      "Finished game 333 of 339\n",
      "Finished game 334 of 339\n",
      "Finished game 335 of 339\n",
      "Finished game 336 of 339\n",
      "Finished game 337 of 339\n",
      "Finished game 338 of 339\n",
      "Finished game 339 of 339\n"
     ]
    },
    {
     "data": {
      "text/plain": [
       "True"
      ]
     },
     "execution_count": 628,
     "metadata": {},
     "output_type": "execute_result"
    }
   ],
   "source": [
    "Route.find_all_relevant(Metric.route_efficiency)"
   ]
  },
  {
   "cell_type": "code",
   "execution_count": 614,
   "metadata": {},
   "outputs": [],
   "source": [
    "player_dic = Player.get_existing_players()"
   ]
  },
  {
   "cell_type": "code",
   "execution_count": 615,
   "metadata": {},
   "outputs": [
    {
     "data": {
      "text/plain": [
       "{594: <Player.Player at 0x1a045a9a5f0>,\n",
       " 492: <Player.Player at 0x1a045a99a20>,\n",
       " -1: <Player.Player at 0x1a045a99000>,\n",
       " 4944: <Player.Player at 0x1a045b29ae0>,\n",
       " 7377: <Player.Player at 0x1a045b2a500>,\n",
       " 537: <Player.Player at 0x1a045b2af20>,\n",
       " 7464: <Player.Player at 0x1a045b2bdf0>,\n",
       " 495: <Player.Player at 0x1a045b54820>,\n",
       " 7469: <Player.Player at 0x1a045e5e3b0>,\n",
       " 2773: <Player.Player at 0x1a045e85ed0>,\n",
       " 7002: <Player.Player at 0x1a045f83a60>,\n",
       " 2132: <Player.Player at 0x1a045f83d30>,\n",
       " 5902: <Player.Player at 0x1a045f998a0>,\n",
       " 435: <Player.Player at 0x1a046069ae0>,\n",
       " 6645: <Player.Player at 0x1a0462519f0>,\n",
       " 9474: <Player.Player at 0x1a046252530>,\n",
       " 4521: <Player.Player at 0x1a046265c30>,\n",
       " 2389: <Player.Player at 0x1a0462bf8b0>,\n",
       " 7741: <Player.Player at 0x1a046375bd0>,\n",
       " 2876: <Player.Player at 0x1a04639be50>,\n",
       " 6060: <Player.Player at 0x1a0463ad4b0>,\n",
       " 5062: <Player.Player at 0x1a04642e950>,\n",
       " 4117: <Player.Player at 0x1a0465cb1f0>,\n",
       " 4276: <Player.Player at 0x1a046683eb0>,\n",
       " 2211: <Player.Player at 0x1a046698a30>,\n",
       " 8635: <Player.Player at 0x1a0466f10f0>,\n",
       " 2444: <Player.Player at 0x1a0467b3550>,\n",
       " 7953: <Player.Player at 0x1a0467b3d60>,\n",
       " 6454: <Player.Player at 0x1a0467d56f0>,\n",
       " 7236: <Player.Player at 0x1a046a17e50>,\n",
       " 6105: <Player.Player at 0x1a046aa3280>,\n",
       " 6710: <Player.Player at 0x1a046b23c40>,\n",
       " 2182: <Player.Player at 0x1a046b37310>,\n",
       " 3194: <Player.Player at 0x1a046b6fe20>,\n",
       " 2022: <Player.Player at 0x1a046c33a30>,\n",
       " 423: <Player.Player at 0x1a046c46650>,\n",
       " 827: <Player.Player at 0x1a046c30bb0>,\n",
       " 975: <Player.Player at 0x1a046d0b580>,\n",
       " 2859: <Player.Player at 0x1a046d0bd60>,\n",
       " 637: <Player.Player at 0x1a046d356f0>,\n",
       " 4761: <Player.Player at 0x1a046daf850>,\n",
       " 9340: <Player.Player at 0x1a046dafdc0>,\n",
       " 651: <Player.Player at 0x1a046dc59c0>,\n",
       " 3244: <Player.Player at 0x1a046dc6fe0>,\n",
       " 5816: <Player.Player at 0x1a04706bb50>,\n",
       " 6771: <Player.Player at 0x1a0470d0d30>,\n",
       " 3819: <Player.Player at 0x1a0471c4910>,\n",
       " 2036: <Player.Player at 0x1a0471c5450>,\n",
       " 2106: <Player.Player at 0x1a0472351b0>,\n",
       " 4653: <Player.Player at 0x1a047255e70>,\n",
       " 2164: <Player.Player at 0x1a04726fbb0>,\n",
       " 6824: <Player.Player at 0x1a047284e50>,\n",
       " 3704: <Player.Player at 0x1a047287a30>,\n",
       " 3981: <Player.Player at 0x1a0472f5f90>,\n",
       " 475: <Player.Player at 0x1a0472db850>,\n",
       " 8577: <Player.Player at 0x1a047399d20>,\n",
       " 461: <Player.Player at 0x1a04739bdf0>,\n",
       " 7771: <Player.Player at 0x1a0457d2950>,\n",
       " 337: <Player.Player at 0x1a044d141c0>,\n",
       " 2248: <Player.Player at 0x1a044200190>,\n",
       " 5613: <Player.Player at 0x1a02b5c0a60>,\n",
       " 460: <Player.Player at 0x1a02f7d6cb0>,\n",
       " 427: <Player.Player at 0x1a0452ff820>,\n",
       " 5879: <Player.Player at 0x1a02cc940d0>,\n",
       " 7507: <Player.Player at 0x1a02cc95510>,\n",
       " 9195: <Player.Player at 0x1a027719cc0>,\n",
       " 3963: <Player.Player at 0x1a02b4d53c0>,\n",
       " 6706: <Player.Player at 0x1a02e19b040>,\n",
       " 6495: <Player.Player at 0x1a02e4952a0>,\n",
       " 5683: <Player.Player at 0x1a02ea89300>,\n",
       " 3252: <Player.Player at 0x1a033946d40>,\n",
       " 9554: <Player.Player at 0x1a02da00e80>,\n",
       " 6694: <Player.Player at 0x1a02b5b5420>,\n",
       " 5612: <Player.Player at 0x1a02b5e8b20>,\n",
       " 4671: <Player.Player at 0x1a031df0ee0>,\n",
       " 624: <Player.Player at 0x1a02c972350>,\n",
       " 467: <Player.Player at 0x1a02ca65c00>,\n",
       " 2175: <Player.Player at 0x1a02fae9d20>,\n",
       " 7167: <Player.Player at 0x1a031df1120>,\n",
       " 782: <Player.Player at 0x1a02fae91e0>,\n",
       " 336: <Player.Player at 0x1a031797b80>,\n",
       " 3355: <Player.Player at 0x1a031795750>,\n",
       " 7082: <Player.Player at 0x1a031795f00>,\n",
       " 3224: <Player.Player at 0x1a030b9ae60>,\n",
       " 3962: <Player.Player at 0x1a030bd87f0>,\n",
       " 383: <Player.Player at 0x1a030bdbd90>,\n",
       " 5882: <Player.Player at 0x1a032a7e860>,\n",
       " 2173: <Player.Player at 0x1a0343c8790>,\n",
       " 7420: <Player.Player at 0x1a0343c8310>,\n",
       " 3608: <Player.Player at 0x1a030f96a10>,\n",
       " 6881: <Player.Player at 0x1a030f979a0>,\n",
       " 7288: <Player.Player at 0x1a0332df430>,\n",
       " 5914: <Player.Player at 0x1a031bf5180>,\n",
       " 8225: <Player.Player at 0x1a031bf7070>,\n",
       " 3370: <Player.Player at 0x1a030d69a20>,\n",
       " 634: <Player.Player at 0x1a031bf7460>,\n",
       " 8171: <Player.Player at 0x1a02fb61de0>,\n",
       " 769: <Player.Player at 0x1a02fb63b80>,\n",
       " 3278: <Player.Player at 0x1a02fb604c0>,\n",
       " 2708: <Player.Player at 0x1a037bcbb80>,\n",
       " 8495: <Player.Player at 0x1a02fb55cc0>,\n",
       " 409: <Player.Player at 0x1a02da0b940>,\n",
       " 8530: <Player.Player at 0x1a031a32d40>,\n",
       " 7052: <Player.Player at 0x1a031a321d0>,\n",
       " 7814: <Player.Player at 0x1a03378b460>,\n",
       " 4732: <Player.Player at 0x1a03103e980>,\n",
       " 2574: <Player.Player at 0x1a0312480d0>,\n",
       " 6263: <Player.Player at 0x1a02d8995a0>,\n",
       " 3728: <Player.Player at 0x1a0310a0520>,\n",
       " 627: <Player.Player at 0x1a02de8b3a0>,\n",
       " 7757: <Player.Player at 0x1a02de89000>,\n",
       " 4264: <Player.Player at 0x1a030506e00>,\n",
       " 6208: <Player.Player at 0x1a0352078e0>,\n",
       " 5057: <Player.Player at 0x1a035207fd0>,\n",
       " 8745: <Player.Player at 0x1a029fd5060>,\n",
       " 8363: <Player.Player at 0x1a02acbe590>,\n",
       " 5599: <Player.Player at 0x1a02a82afb0>,\n",
       " 8743: <Player.Player at 0x1a02af29600>,\n",
       " 963: <Player.Player at 0x1a02af28910>,\n",
       " 5485: <Player.Player at 0x1a02b8e5900>,\n",
       " 8034: <Player.Player at 0x1a02ba6fdf0>,\n",
       " 892: <Player.Player at 0x1a02bab6ad0>,\n",
       " 3378: <Player.Player at 0x1a02c05d750>,\n",
       " 2448: <Player.Player at 0x1a02c0e02b0>,\n",
       " 4938: <Player.Player at 0x1a02c0e2650>,\n",
       " 2158: <Player.Player at 0x1a02db97430>,\n",
       " 4809: <Player.Player at 0x1a033242bc0>,\n",
       " 9146: <Player.Player at 0x1a0332a8c70>,\n",
       " 5717: <Player.Player at 0x1a032f01cf0>,\n",
       " 2349: <Player.Player at 0x1a02e3ca260>,\n",
       " 7705: <Player.Player at 0x1a02e9f35b0>,\n",
       " 4126: <Player.Player at 0x1a02e9f2020>,\n",
       " 6153: <Player.Player at 0x1a02fb4fd90>,\n",
       " 3156: <Player.Player at 0x1a02f1bbe80>,\n",
       " 2219: <Player.Player at 0x1a0337c7f40>,\n",
       " 4370: <Player.Player at 0x1a0337c50f0>,\n",
       " 3843: <Player.Player at 0x1a0344d03a0>,\n",
       " 3333: <Player.Player at 0x1a033948d60>,\n",
       " 2052: <Player.Player at 0x1a03394a7d0>,\n",
       " 6908: <Player.Player at 0x1a0342fd2a0>,\n",
       " 4816: <Player.Player at 0x1a034474550>,\n",
       " 6885: <Player.Player at 0x1a033948190>,\n",
       " 6900: <Player.Player at 0x1a031929300>,\n",
       " 6887: <Player.Player at 0x1a0321030a0>,\n",
       " 4471: <Player.Player at 0x1a0323e1ed0>,\n",
       " 2500: <Player.Player at 0x1a032b22c80>,\n",
       " 8173: <Player.Player at 0x1a030d57c40>,\n",
       " 6783: <Player.Player at 0x1a0316c8b50>,\n",
       " 7841: <Player.Player at 0x1a03174ab00>,\n",
       " 7062: <Player.Player at 0x1a02df0abc0>,\n",
       " 9194: <Player.Player at 0x1a02f7a42b0>,\n",
       " 2560: <Player.Player at 0x1a0307cca60>,\n",
       " 9919: <Player.Player at 0x1a02bbe6c20>,\n",
       " 3471: <Player.Player at 0x1a02c3e1540>,\n",
       " 3582: <Player.Player at 0x1a02c4b6410>,\n",
       " 7317: <Player.Player at 0x1a02beb4fa0>,\n",
       " 5419: <Player.Player at 0x1a02beb5e40>,\n",
       " 8775: <Player.Player at 0x1a02c41bee0>,\n",
       " 5738: <Player.Player at 0x1a02cd47dc0>,\n",
       " 4866: <Player.Player at 0x1a02cd44c40>,\n",
       " 7005: <Player.Player at 0x1a02cdb7ee0>,\n",
       " 4571: <Player.Player at 0x1a02fc8b280>,\n",
       " 6134: <Player.Player at 0x1a029716b90>,\n",
       " 9932: <Player.Player at 0x1a0353a9cc0>,\n",
       " 2053: <Player.Player at 0x1a0297f3df0>,\n",
       " 9639: <Player.Player at 0x1a02fd3ead0>,\n",
       " 2880: <Player.Player at 0x1a02fd3ff10>,\n",
       " 2607: <Player.Player at 0x1a029f03f40>,\n",
       " 7353: <Player.Player at 0x1a029b37700>,\n",
       " 4923: <Player.Player at 0x1a0295d2470>,\n",
       " 8355: <Player.Player at 0x1a02a96ed10>,\n",
       " 5455: <Player.Player at 0x1a02a96f640>,\n",
       " 6074: <Player.Player at 0x1a031936b30>,\n",
       " 2558: <Player.Player at 0x1a0319356f0>,\n",
       " 5051: <Player.Player at 0x1a03199d270>,\n",
       " 3723: <Player.Player at 0x1a036e11a50>,\n",
       " 6248: <Player.Player at 0x1a03764ab60>,\n",
       " 2898: <Player.Player at 0x1a037a13340>,\n",
       " 7661: <Player.Player at 0x1a037ad17b0>,\n",
       " 8125: <Player.Player at 0x1a037d5d7b0>,\n",
       " 8811: <Player.Player at 0x1a037de5930>,\n",
       " 9496: <Player.Player at 0x1a037c6d3f0>,\n",
       " 4334: <Player.Player at 0x1a038391690>,\n",
       " 8983: <Player.Player at 0x1a0383937f0>,\n",
       " 7204: <Player.Player at 0x1a0386662f0>,\n",
       " 3574: <Player.Player at 0x1a0386f2f20>,\n",
       " 787: <Player.Player at 0x1a038a72020>,\n",
       " 9605: <Player.Player at 0x1a0389e8a90>,\n",
       " 6778: <Player.Player at 0x1a038bb7ac0>,\n",
       " 6931: <Player.Player at 0x1a038bb6b00>,\n",
       " 4622: <Player.Player at 0x1a0392c4d60>,\n",
       " 3140: <Player.Player at 0x1a039474cd0>,\n",
       " 3103: <Player.Player at 0x1a039477910>,\n",
       " 2982: <Player.Player at 0x1a0395818a0>,\n",
       " 2739: <Player.Player at 0x1a02db19330>,\n",
       " 8250: <Player.Player at 0x1a034b3d540>,\n",
       " 9107: <Player.Player at 0x1a034a80b20>,\n",
       " 4716: <Player.Player at 0x1a032b8f730>,\n",
       " 3089: <Player.Player at 0x1a032e126e0>,\n",
       " 471: <Player.Player at 0x1a03525ef50>,\n",
       " 2802: <Player.Player at 0x1a034217460>,\n",
       " 7862: <Player.Player at 0x1a0342144f0>,\n",
       " 6755: <Player.Player at 0x1a03408c880>,\n",
       " 4378: <Player.Player at 0x1a033588820>,\n",
       " 513: <Player.Player at 0x1a029aaaf20>,\n",
       " 5886: <Player.Player at 0x1a029e261d0>,\n",
       " 6193: <Player.Player at 0x1a029e27f70>,\n",
       " 3817: <Player.Player at 0x1a02aad6d10>,\n",
       " 3442: <Player.Player at 0x1a02d1b2fb0>,\n",
       " 2702: <Player.Player at 0x1a02d1b3cd0>,\n",
       " 4393: <Player.Player at 0x1a02f4228c0>,\n",
       " 3532: <Player.Player at 0x1a032e67400>,\n",
       " 2295: <Player.Player at 0x1a039657a30>,\n",
       " 8596: <Player.Player at 0x1a039654ac0>,\n",
       " 5642: <Player.Player at 0x1a0289647c0>,\n",
       " 5980: <Player.Player at 0x1a014c99bd0>,\n",
       " 5044: <Player.Player at 0x1a031e9ea40>,\n",
       " 7060: <Player.Player at 0x1a030398550>,\n",
       " 7354: <Player.Player at 0x1a031e01300>,\n",
       " 9485: <Player.Player at 0x1a02fa7ee00>,\n",
       " 8698: <Player.Player at 0x1a02fa7fd60>,\n",
       " 7678: <Player.Player at 0x1a02b555600>,\n",
       " 9732: <Player.Player at 0x1a036e9b790>,\n",
       " 3710: <Player.Player at 0x1a0333e67a0>,\n",
       " 7518: <Player.Player at 0x1a0333e69e0>,\n",
       " 4648: <Player.Player at 0x1a0334b8f40>,\n",
       " 4415: <Player.Player at 0x1a036f23a90>,\n",
       " 3594: <Player.Player at 0x1a0350c9390>,\n",
       " 615: <Player.Player at 0x1a0350c8880>,\n",
       " 9064: <Player.Player at 0x1a02f5b2fb0>,\n",
       " 2623: <Player.Player at 0x1a02f5b2e00>,\n",
       " 4660: <Player.Player at 0x1a02f5b3100>,\n",
       " 4358: <Player.Player at 0x1a031f09270>,\n",
       " 8376: <Player.Player at 0x1a031f08f70>,\n",
       " 2797: <Player.Player at 0x1a031fc2aa0>,\n",
       " 8534: <Player.Player at 0x1a02f152c50>,\n",
       " 7560: <Player.Player at 0x1a028af5de0>,\n",
       " 2291: <Player.Player at 0x1a028af4850>,\n",
       " 9845: <Player.Player at 0x1a028af4f10>,\n",
       " 9588: <Player.Player at 0x1a02923b0d0>,\n",
       " 5836: <Player.Player at 0x1a029238c70>,\n",
       " 3945: <Player.Player at 0x1a0283ce620>,\n",
       " 4331: <Player.Player at 0x1a033b023b0>,\n",
       " 7183: <Player.Player at 0x1a033b00d30>,\n",
       " 3790: <Player.Player at 0x1a0323b8430>,\n",
       " 2565: <Player.Player at 0x1a0311de890>,\n",
       " 3787: <Player.Player at 0x1a03457f580>,\n",
       " 7150: <Player.Player at 0x1a03457e560>,\n",
       " 6465: <Player.Player at 0x1a032071b10>,\n",
       " 5123: <Player.Player at 0x1a02df82bc0>,\n",
       " 5817: <Player.Player at 0x1a0307dd360>,\n",
       " 7720: <Player.Player at 0x1a0307df220>,\n",
       " 5379: <Player.Player at 0x1a0307de7a0>,\n",
       " 7538: <Player.Player at 0x1a02c052080>,\n",
       " 503: <Player.Player at 0x1a036739ae0>,\n",
       " 5333: <Player.Player at 0x1a0366409d0>,\n",
       " 3976: <Player.Player at 0x1a036920400>,\n",
       " 4114: <Player.Player at 0x1a0364495a0>,\n",
       " 7950: <Player.Player at 0x1a0369f9f00>,\n",
       " 3779: <Player.Player at 0x1a0372e4cd0>,\n",
       " 2399: <Player.Player at 0x1a0374808b0>,\n",
       " 9467: <Player.Player at 0x1a0374818a0>,\n",
       " 557: <Player.Player at 0x1a03749b340>,\n",
       " 2004: <Player.Player at 0x1a031db1210>,\n",
       " 620452: <Player.Player at 0x1a02f653c70>,\n",
       " 663897: <Player.Player at 0x1a02f6a9120>,\n",
       " 7266: <Player.Player at 0x1a02f660820>,\n",
       " 5058: <Player.Player at 0x1a02f6612d0>,\n",
       " 8488: <Player.Player at 0x1a02f661db0>,\n",
       " 8450: <Player.Player at 0x1a02c2fbfd0>,\n",
       " 5235: <Player.Player at 0x1a02e188df0>,\n",
       " 9903: <Player.Player at 0x1a02e1898d0>,\n",
       " 4113: <Player.Player at 0x1a030e2fd30>,\n",
       " 5328: <Player.Player at 0x1a030e469b0>,\n",
       " 2226: <Player.Player at 0x1a031259ff0>,\n",
       " 6464: <Player.Player at 0x1a0312c6a10>,\n",
       " 2955: <Player.Player at 0x1a031292ad0>,\n",
       " 5244: <Player.Player at 0x1a0312935b0>,\n",
       " 8301: <Player.Player at 0x1a0340a9d50>,\n",
       " 9771: <Player.Player at 0x1a0340abd00>,\n",
       " 5395: <Player.Player at 0x1a034004820>,\n",
       " 572: <Player.Player at 0x1a034007d00>,\n",
       " 404: <Player.Player at 0x1a02f03bb50>,\n",
       " 8136: <Player.Player at 0x1a0349e6f80>,\n",
       " 4437: <Player.Player at 0x1a0349e7af0>,\n",
       " 4269: <Player.Player at 0x1a03497b2e0>,\n",
       " 9905: <Player.Player at 0x1a02ca6bf40>,\n",
       " 4278: <Player.Player at 0x1a030b3beb0>,\n",
       " 7934: <Player.Player at 0x1a030b85750>,\n",
       " 8146: <Player.Player at 0x1a030b716f0>,\n",
       " 3979: <Player.Player at 0x1a034b43730>,\n",
       " 5688: <Player.Player at 0x1a0303529e0>,\n",
       " 3540: <Player.Player at 0x1a0303f09d0>,\n",
       " 6722: <Player.Player at 0x1a0303f3430>,\n",
       " 9753: <Player.Player at 0x1a0303c09a0>,\n",
       " 3820: <Player.Player at 0x1a0307b7b20>,\n",
       " 9526: <Player.Player at 0x1a0307b7a30>,\n",
       " 6854: <Player.Player at 0x1a0307330a0>,\n",
       " 6449: <Player.Player at 0x1a02f465ae0>,\n",
       " 7114: <Player.Player at 0x1a033eed840>,\n",
       " 2339: <Player.Player at 0x1a033eee320>,\n",
       " 8675: <Player.Player at 0x1a033eab7c0>,\n",
       " 3757: <Player.Player at 0x1a033eb6dd0>,\n",
       " 4843: <Player.Player at 0x1a0322d3e50>,\n",
       " 3684: <Player.Player at 0x1a03227d3f0>,\n",
       " 2569: <Player.Player at 0x1a032259390>,\n",
       " 4983: <Player.Player at 0x1a032249330>,\n",
       " 2719: <Player.Player at 0x1a031b7bb80>,\n",
       " 3734: <Player.Player at 0x1a031bd1060>,\n",
       " 2299: <Player.Player at 0x1a031bd3b50>,\n",
       " 547: <Player.Player at 0x1a034395030>,\n",
       " 5017: <Player.Player at 0x1a0313bee00>,\n",
       " 8790: <Player.Player at 0x1a031330d30>,\n",
       " 9235: <Player.Player at 0x1a031332260>,\n",
       " 7957: <Player.Player at 0x1a0313dcd00>,\n",
       " 5207: <Player.Player at 0x1a031eb6200>,\n",
       " 4414: <Player.Player at 0x1a031e83eb0>,\n",
       " 9106: <Player.Player at 0x1a02eacb640>,\n",
       " 9957: <Player.Player at 0x1a02ead5600>,\n",
       " 7074: <Player.Player at 0x1a02ea24b20>,\n",
       " 2692: <Player.Player at 0x1a034480b20>,\n",
       " 3844: <Player.Player at 0x1a02ea86770>,\n",
       " 2928: <Player.Player at 0x1a035c0dde0>,\n",
       " 7482: <Player.Player at 0x1a035c0f310>,\n",
       " 4322: <Player.Player at 0x1a032fdcd30>,\n",
       " 5035: <Player.Player at 0x1a032fded10>,\n",
       " 4948: <Player.Player at 0x1a032f50d30>,\n",
       " 334: <Player.Player at 0x1a030c4a1a0>,\n",
       " 6244: <Player.Player at 0x1a032e854b0>,\n",
       " 2153: <Player.Player at 0x1a032e149a0>,\n",
       " 5201: <Player.Player at 0x1a032e468c0>,\n",
       " 7684: <Player.Player at 0x1a030d93220>,\n",
       " 2505: <Player.Player at 0x1a030de5cc0>,\n",
       " 7984: <Player.Player at 0x1a030de7ca0>,\n",
       " 4068: <Player.Player at 0x1a0335fdc00>,\n",
       " 5195: <Player.Player at 0x1a033565ab0>,\n",
       " 2507: <Player.Player at 0x1a02e976530>,\n",
       " 5007: <Player.Player at 0x1a02e977a60>,\n",
       " 7623: <Player.Player at 0x1a02e977b50>,\n",
       " 8508: <Player.Player at 0x1a02e9f6350>,\n",
       " 9364: <Player.Player at 0x1a0341c3ee0>,\n",
       " 4093: <Player.Player at 0x1a0341bac80>,\n",
       " 9931: <Player.Player at 0x1a03218cbe0>,\n",
       " 4976: <Player.Player at 0x1a02fbda9b0>,\n",
       " 8115: <Player.Player at 0x1a02fbdb4f0>,\n",
       " 6374: <Player.Player at 0x1a02fbdbd00>,\n",
       " 776: <Player.Player at 0x1a03230f5b0>,\n",
       " 638: <Player.Player at 0x1a03232e6b0>,\n",
       " 6932: <Player.Player at 0x1a03232f1f0>,\n",
       " 6966: <Player.Player at 0x1a033f3d750>,\n",
       " 7134: <Player.Player at 0x1a033f3f700>,\n",
       " 835: <Player.Player at 0x1a033f25720>,\n",
       " 4084: <Player.Player at 0x1a033fc6bc0>,\n",
       " 5209: <Player.Player at 0x1a032161180>,\n",
       " 6038: <Player.Player at 0x1a033fc0550>,\n",
       " 4147: <Player.Player at 0x1a02c9a77c0>,\n",
       " 8890: <Player.Player at 0x1a02c983760>,\n",
       " 7432: <Player.Player at 0x1a02c9be260>,\n",
       " 868: <Player.Player at 0x1a02c9bff10>,\n",
       " 9872: <Player.Player at 0x1a030aa3ee0>,\n",
       " 9655: <Player.Player at 0x1a02c913fd0>,\n",
       " 9703: <Player.Player at 0x1a033781660>,\n",
       " 9751: <Player.Player at 0x1a0337dab00>,\n",
       " 7278: <Player.Player at 0x1a033773dc0>,\n",
       " 2871: <Player.Player at 0x1a033263e20>,\n",
       " 9626: <Player.Player at 0x1a0332c53c0>,\n",
       " 8799: <Player.Player at 0x1a0332672e0>,\n",
       " 4670: <Player.Player at 0x1a033a9db40>,\n",
       " 3798: <Player.Player at 0x1a033a35ae0>,\n",
       " 3424: <Player.Player at 0x1a033a37ac0>,\n",
       " 3904: <Player.Player at 0x1a033a8a740>,\n",
       " 2956: <Player.Player at 0x1a02f1ad180>,\n",
       " 9830: <Player.Player at 0x1a033a37b20>,\n",
       " 2583: <Player.Player at 0x1a02f1ddc90>,\n",
       " 7188: <Player.Player at 0x1a02f1ebc70>,\n",
       " 8653: <Player.Player at 0x1a02eb93be0>,\n",
       " 5490: <Player.Player at 0x1a02eba2710>,\n",
       " 5984: <Player.Player at 0x1a02eba31c0>,\n",
       " 2617: <Player.Player at 0x1a02ebdd1e0>,\n",
       " 586: <Player.Player at 0x1a033a88d00>,\n",
       " 9573: <Player.Player at 0x1a0333c2470>,\n",
       " 7276: <Player.Player at 0x1a0333c3a30>,\n",
       " 4326: <Player.Player at 0x1a03333cf40>,\n",
       " 5143: <Player.Player at 0x1a03338bf70>,\n",
       " 6880: <Player.Player at 0x1a032060eb0>,\n",
       " 6920: <Player.Player at 0x1a03338ac50>,\n",
       " 7197: <Player.Player at 0x1a032080d60>,\n",
       " 9882: <Player.Player at 0x1a032081840>,\n",
       " 4553: <Player.Player at 0x1a03204b6a0>,\n",
       " 2013: <Player.Player at 0x1a02fcc4b50>,\n",
       " 6720: <Player.Player at 0x1a02fc8cc10>,\n",
       " 8233: <Player.Player at 0x1a02fc8d6f0>,\n",
       " 9004: <Player.Player at 0x1a02fc8e1d0>,\n",
       " 4167: <Player.Player at 0x1a02fc32230>,\n",
       " 561: <Player.Player at 0x1a02fce36a0>,\n",
       " 2774: <Player.Player at 0x1a02f51b3a0>,\n",
       " 8254: <Player.Player at 0x1a02f5ca890>,\n",
       " 7219: <Player.Player at 0x1a02f5cb370>,\n",
       " 502: <Player.Player at 0x1a02bbb79a0>,\n",
       " 6866: <Player.Player at 0x1a02f55be80>,\n",
       " 9287: <Player.Player at 0x1a037438700>,\n",
       " 6684: <Player.Player at 0x1a03743bca0>,\n",
       " 5231: <Player.Player at 0x1a037455c90>,\n",
       " 9286: <Player.Player at 0x1a037475210>,\n",
       " 2778: <Player.Player at 0x1a037475cc0>,\n",
       " 5897: <Player.Player at 0x1a02938f040>,\n",
       " 3572: <Player.Player at 0x1a0293e5ae0>,\n",
       " 2122: <Player.Player at 0x1a02937ffd0>,\n",
       " 8535: <Player.Player at 0x1a0293e1b40>,\n",
       " 8875: <Player.Player at 0x1a0334f05b0>,\n",
       " 2281: <Player.Player at 0x1a032a661d0>,\n",
       " 2809: <Player.Player at 0x1a032a66c80>,\n",
       " 3900: <Player.Player at 0x1a031f174c0>,\n",
       " 6203: <Player.Player at 0x1a031f00460>,\n",
       " 3549: <Player.Player at 0x1a0306a94b0>,\n",
       " 9861: <Player.Player at 0x1a0306404c0>,\n",
       " 5880: <Player.Player at 0x1a0306419f0>,\n",
       " 4801: <Player.Player at 0x1a02f783280>,\n",
       " 5830: <Player.Player at 0x1a02f7292a0>,\n",
       " 861: <Player.Player at 0x1a02f72a800>,\n",
       " 8888: <Player.Player at 0x1a02f72bd60>,\n",
       " 6045: <Player.Player at 0x1a0306804c0>,\n",
       " 3862: <Player.Player at 0x1a0292888b0>,\n",
       " 6378: <Player.Player at 0x1a029289360>,\n",
       " 7998: <Player.Player at 0x1a02928b340>,\n",
       " 9737: <Player.Player at 0x1a035567cd0>,\n",
       " 9104: <Player.Player at 0x1a0355f71f0>,\n",
       " 6537: <Player.Player at 0x1a03557fca0>,\n",
       " 9245: <Player.Player at 0x1a035564970>,\n",
       " 8077: <Player.Player at 0x1a02c45fb50>,\n",
       " 2313: <Player.Player at 0x1a02c49e5f0>,\n",
       " 6381: <Player.Player at 0x1a02c4f7ca0>,\n",
       " 3405: <Player.Player at 0x1a02c41fbb0>,\n",
       " 3019: <Player.Player at 0x1a02c48bd60>,\n",
       " 3139: <Player.Player at 0x1a02c429d50>,\n",
       " 8396: <Player.Player at 0x1a02c42a830>,\n",
       " 2188: <Player.Player at 0x1a0375e4c10>,\n",
       " 8801: <Player.Player at 0x1a0375e56f0>,\n",
       " 6466: <Player.Player at 0x1a037549750>}"
      ]
     },
     "execution_count": 615,
     "metadata": {},
     "output_type": "execute_result"
    }
   ],
   "source": [
    "player_dic"
   ]
  },
  {
   "cell_type": "code",
   "execution_count": 616,
   "metadata": {},
   "outputs": [
    {
     "data": {
      "text/plain": [
       "<Route.Route at 0x1a045a9b880>"
      ]
     },
     "execution_count": 616,
     "metadata": {},
     "output_type": "execute_result"
    }
   ],
   "source": [
    "player_dic[594].get_routes()[0]"
   ]
  },
  {
   "cell_type": "code",
   "execution_count": 358,
   "metadata": {},
   "outputs": [],
   "source": [
    "for player in player_dic:\n",
    "    if len(player_dic[player].get_routes()) == 0:\n",
    "        print(len(player_dic[player].get_routes()))"
   ]
  },
  {
   "cell_type": "code",
   "execution_count": 617,
   "metadata": {},
   "outputs": [],
   "source": [
    "averages = {}\n",
    "for player in player_dic:\n",
    "    averages[player] = (player_dic[player].find_average_score(), player_dic[player].get_num_routes())"
   ]
  },
  {
   "cell_type": "code",
   "execution_count": 618,
   "metadata": {},
   "outputs": [
    {
     "data": {
      "text/plain": [
       "{594: (0.8793671544944468, 34),\n",
       " 492: (0.9225500423312404, 219),\n",
       " -1: (0.9189636507520563, 1605),\n",
       " 4944: (0.7793496573054843, 2),\n",
       " 7377: (0.9626303765739179, 5),\n",
       " 537: (0.9190588211222486, 177),\n",
       " 7464: (0.9897907297188642, 1),\n",
       " 495: (0.9301191825902237, 201),\n",
       " 7469: (0.953968035678359, 8),\n",
       " 2773: (0.9641594587209538, 5),\n",
       " 7002: (0.997956533116713, 1),\n",
       " 2132: (0.7135478784872561, 1),\n",
       " 5902: (0.9379832510860721, 1),\n",
       " 435: (0.8889721746058015, 171),\n",
       " 6645: (0.9816938932617967, 4),\n",
       " 9474: (0.9588520022256201, 4),\n",
       " 4521: (0.9784584235256538, 3),\n",
       " 2389: (0.8264341865304671, 1),\n",
       " 7741: (0.8520165249136409, 6),\n",
       " 2876: (0.8483649206076531, 8),\n",
       " 6060: (0.9591843593334687, 5),\n",
       " 5062: (0.934055188348038, 2),\n",
       " 4117: (0.997391651051907, 1),\n",
       " 4276: (0.9819263204575979, 8),\n",
       " 2211: (0.9229772147359162, 10),\n",
       " 8635: (0.9721605418917063, 3),\n",
       " 2444: (0.9639090590776634, 6),\n",
       " 7953: (0.869216425013256, 3),\n",
       " 6454: (0.9595967585197996, 5),\n",
       " 7236: (0.902660371174308, 4),\n",
       " 6105: (0.9635316581582984, 2),\n",
       " 6710: (0.8934922407402508, 5),\n",
       " 2182: (0.8867632146715015, 2),\n",
       " 3194: (0.9464160618122904, 3),\n",
       " 2022: (0.9434095133437896, 1),\n",
       " 423: (0.9168557132392406, 17),\n",
       " 827: (0.9213924460773134, 15),\n",
       " 975: (0.8876378681995373, 121),\n",
       " 2859: (0.8929339799902648, 1),\n",
       " 637: (0.8863660034081178, 47),\n",
       " 4761: (0.9606303877032144, 6),\n",
       " 9340: (0.9007774729103066, 11),\n",
       " 651: (0.8906218055796418, 216),\n",
       " 3244: (0.8835063220653262, 6),\n",
       " 5816: (0.9919789520097617, 2),\n",
       " 6771: (0.8870607948838992, 1),\n",
       " 3819: (0.8984080333131661, 1),\n",
       " 2036: (0.9775889231214656, 4),\n",
       " 2106: (0.7822139579264953, 4),\n",
       " 4653: (0.9349400661736058, 2),\n",
       " 2164: (0.9361724878605637, 8),\n",
       " 6824: (0.9393381689519138, 8),\n",
       " 3704: (0.874150757635938, 9),\n",
       " 3981: (0.9413618955886548, 5),\n",
       " 475: (0.9120385675582391, 207),\n",
       " 8577: (0.9591999597170127, 10),\n",
       " 461: (0.9481499195389624, 23),\n",
       " 7771: (0.4553106478388221, 1),\n",
       " 337: (0.9281091753362625, 77),\n",
       " 2248: (0.9775536075511801, 7),\n",
       " 5613: (0.8859632612551689, 2),\n",
       " 460: (0.9085578906738898, 157),\n",
       " 427: (0.9008742603186369, 98),\n",
       " 5879: (0.976130048593097, 2),\n",
       " 7507: (0.9250080977772358, 3),\n",
       " 9195: (0.98989971605005, 2),\n",
       " 3963: (0.9794528289261939, 1),\n",
       " 6706: (0.9291447400997979, 3),\n",
       " 6495: (0.9789820747029471, 1),\n",
       " 5683: (0.8940178538422158, 5),\n",
       " 3252: (0.9323274419585844, 12),\n",
       " 9554: (0.9233870181339934, 6),\n",
       " 6694: (0.9821894009802837, 1),\n",
       " 5612: (0.9576560574030302, 5),\n",
       " 4671: (0.9515299041748514, 7),\n",
       " 624: (0.8926208715224058, 93),\n",
       " 467: (0.925422173205114, 36),\n",
       " 2175: (0.9833655464396627, 1),\n",
       " 7167: (0.960584977364002, 3),\n",
       " 782: (0.8951700720983401, 6),\n",
       " 336: (0.8782060637767294, 8),\n",
       " 3355: (0.934360652460562, 2),\n",
       " 7082: (0.9285920523619773, 10),\n",
       " 3224: (0.8892705445299477, 5),\n",
       " 3962: (0.9565714214613653, 5),\n",
       " 383: (0.8856231835529992, 24),\n",
       " 5882: (0.9050208444561373, 7),\n",
       " 2173: (0.8792730603378879, 9),\n",
       " 7420: (0.9185965095273798, 8),\n",
       " 3608: (0.8250542475930882, 13),\n",
       " 6881: (0.8709685388104701, 8),\n",
       " 7288: (0.9845453909402355, 4),\n",
       " 5914: (0.9485961378484127, 7),\n",
       " 8225: (0.9590245463955357, 3),\n",
       " 3370: (0.8220006516096018, 3),\n",
       " 634: (0.8999826835012149, 17),\n",
       " 8171: (0.8799387538200205, 8),\n",
       " 769: (0.9115690170504944, 2),\n",
       " 3278: (0.9755583038697244, 5),\n",
       " 2708: (0.9513062969366329, 2),\n",
       " 8495: (0.9338024348673335, 7),\n",
       " 409: (0.9443862105753822, 12),\n",
       " 8530: (0.9377174154135598, 4),\n",
       " 7052: (0.8553548036820947, 3),\n",
       " 7814: (0.9666697360954212, 4),\n",
       " 4732: (0.899385307610561, 7),\n",
       " 2574: (0.970008701892342, 2),\n",
       " 6263: (0.740312327067634, 5),\n",
       " 3728: (0.8871740233757075, 7),\n",
       " 627: (0.9566132202194124, 17),\n",
       " 7757: (0.9353583863560578, 10),\n",
       " 4264: (0.9342311706600388, 5),\n",
       " 6208: (0.9182567398284338, 7),\n",
       " 5057: (0.9166168779419013, 9),\n",
       " 8745: (0.9350963413134717, 5),\n",
       " 8363: (0.918295057807423, 1),\n",
       " 5599: (0.7460337544672988, 5),\n",
       " 8743: (0.9050694606350574, 15),\n",
       " 963: (0.9006005169335051, 202),\n",
       " 5485: (0.9313704573305338, 3),\n",
       " 8034: (0.9407632234546713, 6),\n",
       " 892: (0.9134724061786195, 193),\n",
       " 3378: (0.949908013899246, 6),\n",
       " 2448: (0.8657849191360479, 3),\n",
       " 4938: (0.9115631419163913, 9),\n",
       " 2158: (0.8982294817209392, 7),\n",
       " 4809: (0.9482321020368515, 10),\n",
       " 9146: (0.8835552717790023, 13),\n",
       " 5717: (0.9183810295465369, 6),\n",
       " 2349: (0.8205651789543656, 13),\n",
       " 7705: (0.9094663068591124, 5),\n",
       " 4126: (0.9282158724645372, 17),\n",
       " 6153: (0.9111191430631116, 10),\n",
       " 3156: (0.9470735870717105, 18),\n",
       " 2219: (0.9282481729870958, 9),\n",
       " 4370: (0.792604310384429, 5),\n",
       " 3843: (0.8808758018276746, 8),\n",
       " 3333: (0.9498091478520367, 7),\n",
       " 2052: (0.9414661400022494, 7),\n",
       " 6908: (0.9473167931132576, 7),\n",
       " 4816: (0.9338049231501123, 6),\n",
       " 6885: (0.8878874372612122, 2),\n",
       " 6900: (0.7732366026657564, 5),\n",
       " 6887: (0.9119629603370323, 28),\n",
       " 4471: (0.8628909412361485, 15),\n",
       " 2500: (0.9565311060198132, 16),\n",
       " 8173: (0.852391464793171, 9),\n",
       " 6783: (0.8235478204316504, 11),\n",
       " 7841: (0.8780896220022517, 22),\n",
       " 7062: (0.9721161522013694, 3),\n",
       " 9194: (0.9840571278323782, 4),\n",
       " 2560: (0.9125796774463945, 10),\n",
       " 9919: (0.9332464927041781, 10),\n",
       " 3471: (0.9729542548764133, 2),\n",
       " 3582: (0.9294052162444904, 8),\n",
       " 7317: (0.8877317927719065, 8),\n",
       " 5419: (0.9487825107676063, 15),\n",
       " 8775: (0.922346670149331, 7),\n",
       " 5738: (0.8849438416652758, 14),\n",
       " 4866: (0.9548163928833959, 13),\n",
       " 7005: (0.8444059580565898, 13),\n",
       " 4571: (0.891802117548193, 18),\n",
       " 6134: (0.9392772901065451, 12),\n",
       " 9932: (0.9141049804762034, 10),\n",
       " 2053: (0.8540217707112161, 5),\n",
       " 9639: (0.9485727027612042, 7),\n",
       " 2880: (0.959619188343273, 6),\n",
       " 2607: (0.937542775725188, 8),\n",
       " 7353: (0.9490354010350976, 10),\n",
       " 4923: (0.9354011362379535, 11),\n",
       " 8355: (0.934871363046928, 3),\n",
       " 5455: (0.9793991876061581, 2),\n",
       " 6074: (0.9498777949416862, 3),\n",
       " 2558: (0.9558139400567298, 16),\n",
       " 5051: (0.8989639702348737, 8),\n",
       " 3723: (0.946406466539923, 8),\n",
       " 6248: (0.5012941756929226, 2),\n",
       " 2898: (0.9162400534403041, 15),\n",
       " 7661: (0.9700795373051657, 1),\n",
       " 8125: (0.9114646195092881, 13),\n",
       " 8811: (0.9527603510552327, 16),\n",
       " 9496: (0.9191992153032025, 13),\n",
       " 4334: (0.9326592241031699, 12),\n",
       " 8983: (0.9458046690412953, 1),\n",
       " 7204: (0.8941591309779096, 8),\n",
       " 3574: (0.93071138749205, 11),\n",
       " 787: (0.9119494682514904, 69),\n",
       " 9605: (0.8437444458253408, 14),\n",
       " 6778: (0.8314555417746066, 9),\n",
       " 6931: (0.8297508239868701, 6),\n",
       " 4622: (0.8528036968364412, 2),\n",
       " 3140: (0.8274389019132176, 10),\n",
       " 3103: (0.9039632559891687, 13),\n",
       " 2982: (0.9429943159390843, 12),\n",
       " 2739: (0.9080402011347432, 11),\n",
       " 8250: (0.9507820175976809, 10),\n",
       " 9107: (0.8882898931498978, 11),\n",
       " 4716: (0.9185259179219152, 11),\n",
       " 3089: (0.9551469419777493, 14),\n",
       " 471: (0.9407803223027186, 47),\n",
       " 2802: (0.9361986565936337, 24),\n",
       " 7862: (0.9386143267663903, 7),\n",
       " 6755: (0.9364486287553434, 12),\n",
       " 4378: (0.9492343019349284, 6),\n",
       " 513: (0.9101453607685533, 142),\n",
       " 5886: (0.9320661447056353, 9),\n",
       " 6193: (0.9441900192124669, 13),\n",
       " 3817: (0.9031844597813027, 5),\n",
       " 3442: (0.8865353288463453, 22),\n",
       " 2702: (0.9444799289888836, 11),\n",
       " 4393: (0.9048737969765701, 13),\n",
       " 3532: (0.8916582028504687, 9),\n",
       " 2295: (0.9370962106513634, 12),\n",
       " 8596: (0.92511533153243, 15),\n",
       " 5642: (0.9576869391497892, 8),\n",
       " 5980: (0.9430387350092884, 13),\n",
       " 5044: (0.8966819422599515, 18),\n",
       " 7060: (0.9579694164009039, 13),\n",
       " 7354: (0.9761480301404633, 11),\n",
       " 9485: (0.969198235355615, 8),\n",
       " 8698: (0.9502803327231312, 7),\n",
       " 7678: (0.8918299442465705, 4),\n",
       " 9732: (0.8985460357572168, 3),\n",
       " 3710: (0.961728053884697, 5),\n",
       " 7518: (0.9122390186076768, 18),\n",
       " 4648: (0.729179460347744, 7),\n",
       " 4415: (0.9344733641452538, 10),\n",
       " 3594: (0.972924781840928, 9),\n",
       " 615: (0.9076883226730197, 113),\n",
       " 9064: (0.9729302020264361, 10),\n",
       " 2623: (0.9517383608563368, 10),\n",
       " 4660: (0.8963795432209547, 15),\n",
       " 4358: (0.8311338959410633, 2),\n",
       " 8376: (0.8703496426674444, 8),\n",
       " 2797: (0.9172936549867997, 7),\n",
       " 8534: (0.6763113740237305, 4),\n",
       " 7560: (0.8816372992498421, 11),\n",
       " 2291: (0.881633274839568, 12),\n",
       " 9845: (0.9622884341231821, 5),\n",
       " 9588: (0.9385661333905378, 4),\n",
       " 5836: (0.9618687117397416, 3),\n",
       " 3945: (0.8282299227776806, 5),\n",
       " 4331: (0.9356727279053044, 13),\n",
       " 7183: (0.8683347556830252, 9),\n",
       " 3790: (0.9455397310710933, 18),\n",
       " 2565: (0.8247154969507544, 7),\n",
       " 3787: (0.9532514366822117, 19),\n",
       " 7150: (0.9344329258053024, 15),\n",
       " 6465: (0.8952251998442138, 4),\n",
       " 5123: (0.8874378072634226, 3),\n",
       " 5817: (0.9760948272003414, 6),\n",
       " 7720: (0.9552703180393924, 9),\n",
       " 5379: (0.9382353180212143, 18),\n",
       " 7538: (0.8884709152392076, 9),\n",
       " 503: (0.8306320791008123, 2),\n",
       " 5333: (0.9522878254656224, 5),\n",
       " 3976: (0.9582320879349282, 16),\n",
       " 4114: (0.9212597357737667, 11),\n",
       " 7950: (0.9002627319841622, 5),\n",
       " 3779: (0.8858706443340763, 19),\n",
       " 2399: (0.8901053084949017, 18),\n",
       " 9467: (0.9423305511217125, 16),\n",
       " 557: (0.9343810765083609, 7),\n",
       " 2004: (0.9416910969998233, 2),\n",
       " 620452: (0.9598382092996606, 1),\n",
       " 663897: (0.9504966457225862, 1),\n",
       " 7266: (0.8929635639985496, 8),\n",
       " 5058: (0.9465389990929229, 12),\n",
       " 8488: (0.8852657833114018, 13),\n",
       " 8450: (0.9715036194896067, 17),\n",
       " 5235: (0.9329298795070077, 11),\n",
       " 9903: (0.9200522341197008, 15),\n",
       " 4113: (0.9836713155617764, 2),\n",
       " 5328: (0.8495290009643368, 2),\n",
       " 2226: (0.8992391738508093, 20),\n",
       " 6464: (0.9373202893018778, 14),\n",
       " 2955: (0.9108463476030815, 20),\n",
       " 5244: (0.9394480691353158, 6),\n",
       " 8301: (0.9182817715041526, 21),\n",
       " 9771: (0.9344919180202325, 13),\n",
       " 5395: (0.9173390230037617, 19),\n",
       " 572: (0.8836783197467912, 86),\n",
       " 404: (0.9268584564689656, 46),\n",
       " 8136: (0.7398337424021804, 13),\n",
       " 4437: (0.7093926110742476, 11),\n",
       " 4269: (0.7214066943791158, 9),\n",
       " 9905: (0.8927201055709524, 4),\n",
       " 4278: (0.8613312035466556, 8),\n",
       " 7934: (0.9150012493758449, 17),\n",
       " 8146: (0.9310913570934739, 10),\n",
       " 3979: (0.8976484229528422, 9),\n",
       " 5688: (0.8596346980742364, 15),\n",
       " 3540: (0.9878206019433596, 3),\n",
       " 6722: (0.8949944903298943, 18),\n",
       " 9753: (0.8213253937249644, 13),\n",
       " 3820: (0.9648607242081858, 13),\n",
       " 9526: (0.8805356475618229, 6),\n",
       " 6854: (0.8974232749994656, 9),\n",
       " 6449: (0.8368548284437363, 10),\n",
       " 7114: (0.8806368375777158, 20),\n",
       " 2339: (0.8240234959343711, 5),\n",
       " 8675: (0.7906366646613026, 16),\n",
       " 3757: (0.8609685164688411, 10),\n",
       " 4843: (0.8779853969257665, 10),\n",
       " 3684: (0.9073129488026391, 11),\n",
       " 2569: (0.9176264557259753, 18),\n",
       " 4983: (0.9617455264443495, 12),\n",
       " 2719: (0.9105167624533312, 11),\n",
       " 3734: (0.8607599247389442, 21),\n",
       " 2299: (0.9314507823204761, 5),\n",
       " 547: (0.8651660480995585, 59),\n",
       " 5017: (0.9087564581162519, 6),\n",
       " 8790: (0.9371066497928037, 8),\n",
       " 9235: (0.8650748272562873, 9),\n",
       " 7957: (0.884618656890052, 11),\n",
       " 5207: (0.9676406226184324, 8),\n",
       " 4414: (0.9700065610311769, 14),\n",
       " 9106: (0.9536765725786254, 4),\n",
       " 9957: (0.8341985954336788, 10),\n",
       " 7074: (0.950814759964579, 13),\n",
       " 2692: (0.8983261500243106, 8),\n",
       " 3844: (0.9049790770620186, 9),\n",
       " 2928: (0.9531854240219336, 22),\n",
       " 7482: (0.8826692618941276, 18),\n",
       " 4322: (0.8690025562253908, 11),\n",
       " 5035: (0.8893662758205753, 9),\n",
       " 4948: (0.943470830408524, 18),\n",
       " 334: (0.9584659098068941, 4),\n",
       " 6244: (0.8154456907796804, 6),\n",
       " 2153: (0.8817403401975052, 13),\n",
       " 5201: (0.8926693868520047, 20),\n",
       " 7684: (0.881788223978884, 14),\n",
       " 2505: (0.9810610886770902, 18),\n",
       " 7984: (0.8392028515923053, 9),\n",
       " 4068: (0.8660899005273904, 7),\n",
       " 5195: (0.8894068396623496, 3),\n",
       " 2507: (0.9446699311279162, 9),\n",
       " 5007: (0.9379067105801911, 14),\n",
       " 7623: (0.8754644720671263, 12),\n",
       " 8508: (0.9676649979349217, 10),\n",
       " 9364: (0.8501135930322669, 12),\n",
       " 4093: (0.8918946395522769, 21),\n",
       " 9931: (0.7288194855023765, 10),\n",
       " 4976: (0.8361812229753418, 11),\n",
       " 8115: (0.8861807007425592, 8),\n",
       " 6374: (0.9480450559513321, 16),\n",
       " 776: (0.9057523955867671, 85),\n",
       " 638: (0.921057840292812, 125),\n",
       " 6932: (0.9394394002656137, 3),\n",
       " 6966: (0.9536808814079981, 6),\n",
       " 7134: (0.96452589320359, 7),\n",
       " 835: (0.9816886991269566, 1),\n",
       " 4084: (0.9258245840442128, 9),\n",
       " 5209: (0.9491975776256929, 3),\n",
       " 6038: (0.9258638272145325, 11),\n",
       " 4147: (0.6199643096781192, 2),\n",
       " 8890: (0.9067527071757537, 9),\n",
       " 7432: (0.9061896246961224, 9),\n",
       " 868: (0.8853618517521745, 57),\n",
       " 9872: (0.941893642894994, 6),\n",
       " 9655: (0.8704488743334512, 12),\n",
       " 9703: (0.95957040639241, 7),\n",
       " 9751: (0.9098175101193625, 14),\n",
       " 7278: (0.8242061028815304, 8),\n",
       " 2871: (0.9311129048542238, 19),\n",
       " 9626: (0.89510025748678, 12),\n",
       " 8799: (0.9039020334906149, 16),\n",
       " 4670: (0.880010322331314, 2),\n",
       " 3798: (0.9387395876005724, 10),\n",
       " 3424: (0.9295151715835269, 4),\n",
       " 3904: (0.9267183718226852, 3),\n",
       " 2956: (0.9512763077383997, 2),\n",
       " 9830: (0.8561641939316942, 10),\n",
       " 2583: (0.8147839333907884, 12),\n",
       " 7188: (0.8307876846869942, 6),\n",
       " 8653: (0.9132637209257133, 2),\n",
       " 5490: (0.9330620605550314, 13),\n",
       " 5984: (0.9537003260224344, 17),\n",
       " 2617: (0.8795654633561694, 8),\n",
       " 586: (0.8802021616414177, 33),\n",
       " 9573: (0.9297221020187671, 9),\n",
       " 7276: (0.8831379134428458, 5),\n",
       " 4326: (0.9379234281955149, 5),\n",
       " 5143: (0.9349521496758609, 9),\n",
       " 6880: (0.9063626005438329, 7),\n",
       " 6920: (0.9119326140867348, 16),\n",
       " 7197: (0.9775202636009841, 1),\n",
       " 9882: (0.9154384885566816, 14),\n",
       " 4553: (0.8547418066120251, 4),\n",
       " 2013: (0.9769761990390449, 1),\n",
       " 6720: (0.9417050828800263, 8),\n",
       " 8233: (0.9503986718149473, 14),\n",
       " 9004: (0.9123845392827787, 17),\n",
       " 4167: (0.8808081110351262, 15),\n",
       " 561: (0.9380653778569437, 10),\n",
       " 2774: (0.9098822631459161, 21),\n",
       " 8254: (0.9307478438184105, 13),\n",
       " 7219: (0.9114666118310341, 10),\n",
       " 502: (0.909387931239155, 77),\n",
       " 6866: (0.9350704251537056, 4),\n",
       " 9287: (0.9048458799462004, 16),\n",
       " 6684: (0.8113296489140641, 2),\n",
       " 5231: (0.9041666599479632, 1),\n",
       " 9286: (0.82395826283402, 5),\n",
       " 2778: (0.949911057902635, 9),\n",
       " 5897: (0.8543919608282554, 8),\n",
       " 3572: (0.7870022784827498, 10),\n",
       " 2122: (0.904072174519694, 18),\n",
       " 8535: (0.8458073168953777, 13),\n",
       " 8875: (0.8264564012800804, 10),\n",
       " 2281: (0.8409817106520678, 9),\n",
       " 2809: (0.9430572452434439, 14),\n",
       " 3900: (0.9541681958378959, 5),\n",
       " 6203: (0.8935435361086055, 8),\n",
       " 3549: (0.9570142479452913, 6),\n",
       " 9861: (0.8515828403851591, 7),\n",
       " 5880: (0.8685362861242716, 7),\n",
       " 4801: (0.9447977756125003, 9),\n",
       " 5830: (0.927253162495411, 9),\n",
       " 861: (0.9335082003509031, 33),\n",
       " 8888: (0.9880308550406448, 2),\n",
       " 6045: (0.9026359046666048, 12),\n",
       " 3862: (0.8934787605490172, 16),\n",
       " 6378: (0.9273895910106994, 3),\n",
       " 7998: (0.9641671963320866, 4),\n",
       " 9737: (0.8994846458123051, 2),\n",
       " 9104: (0.8895454845230535, 11),\n",
       " 6537: (0.7817054127321666, 4),\n",
       " 9245: (0.852939361406566, 14),\n",
       " 8077: (0.9581952449699535, 8),\n",
       " 2313: (0.8695335731321653, 1),\n",
       " 6381: (0.9189016486057261, 4),\n",
       " 3405: (0.620103789373898, 1),\n",
       " 3019: (0.9019315898488536, 22),\n",
       " 3139: (0.8452559194697149, 16),\n",
       " 8396: (0.9075169893960864, 18),\n",
       " 2188: (0.96010546287331, 13),\n",
       " 8801: (0.9481301841106605, 12),\n",
       " 6466: (0.9578944363307761, 8)}"
      ]
     },
     "execution_count": 618,
     "metadata": {},
     "output_type": "execute_result"
    }
   ],
   "source": [
    "averages"
   ]
  },
  {
   "cell_type": "code",
   "execution_count": 427,
   "metadata": {},
   "outputs": [
    {
     "data": {
      "text/plain": [
       "(6818, 1605)"
      ]
     },
     "execution_count": 427,
     "metadata": {},
     "output_type": "execute_result"
    }
   ],
   "source": [
    "not_neg1 = 0\n",
    "neg1 = 0\n",
    "for key in averages:\n",
    "    if key == -1:\n",
    "        neg1 += averages[key][1]\n",
    "    else:\n",
    "        not_neg1 += averages[key][1]\n",
    "(not_neg1, neg1)"
   ]
  },
  {
   "cell_type": "code",
   "execution_count": 364,
   "metadata": {},
   "outputs": [
    {
     "name": "stdout",
     "output_type": "stream",
     "text": [
      "                   game_str  play_id  at_bat  play_per_game  timestamp  \\\n",
      "234  1884_063_Vis2AM_Home2A       62      19             62    1918437   \n",
      "235  1884_063_Vis2AM_Home2A       62      19             62    1918899   \n",
      "236  1884_063_Vis2AM_Home2A       62      19             62    1925235   \n",
      "237  1884_063_Vis2AM_Home2A       62      19             62    1925367   \n",
      "\n",
      "     player_position  event_code  \n",
      "234                1           1  \n",
      "235               10           4  \n",
      "236                9           2  \n",
      "237                0           5  \n",
      "                   game_str  play_id  at_bat  play_per_game  timestamp  \\\n",
      "306  1884_063_Vis2AM_Home2A       82      24             82    2514682   \n",
      "307  1884_063_Vis2AM_Home2A       82      24             82    2515111   \n",
      "308  1884_063_Vis2AM_Home2A       82      24             82    2516299   \n",
      "309  1884_063_Vis2AM_Home2A       82      24             82    2517058   \n",
      "310  1884_063_Vis2AM_Home2A       82      24             82    2517652   \n",
      "311  1884_063_Vis2AM_Home2A       82      24             82    2518180   \n",
      "312  1884_063_Vis2AM_Home2A       82      24             82    2519269   \n",
      "313  1884_063_Vis2AM_Home2A       82      24             82    2520556   \n",
      "314  1884_063_Vis2AM_Home2A       82      24             82    2522536   \n",
      "315  1884_063_Vis2AM_Home2A       82      24             82    2523031   \n",
      "316  1884_063_Vis2AM_Home2A       82      24             82    2523922   \n",
      "\n",
      "     player_position  event_code  \n",
      "306                1           1  \n",
      "307               10           4  \n",
      "308              255          16  \n",
      "309              255          16  \n",
      "310              255          16  \n",
      "311              255          16  \n",
      "312                9           2  \n",
      "313                9           3  \n",
      "314              255          16  \n",
      "315                6           2  \n",
      "316                0           5  \n",
      "                   game_str  play_id  at_bat  play_per_game  timestamp  \\\n",
      "390  1884_063_Vis2AM_Home2A      107      28            108    3154453   \n",
      "391  1884_063_Vis2AM_Home2A      107      28            108    3154882   \n",
      "392  1884_063_Vis2AM_Home2A      107      28            108    3161053   \n",
      "393  1884_063_Vis2AM_Home2A      107      28            108    3161548   \n",
      "\n",
      "     player_position  event_code  \n",
      "390                1           1  \n",
      "391               10           4  \n",
      "392                8           2  \n",
      "393                0           5  \n",
      "                   game_str  play_id  at_bat  play_per_game  timestamp  \\\n",
      "471  1884_063_Vis2AM_Home2A      125      34            126    3726905   \n",
      "472  1884_063_Vis2AM_Home2A      125      34            126    3727301   \n",
      "473  1884_063_Vis2AM_Home2A      125      34            126    3730337   \n",
      "474  1884_063_Vis2AM_Home2A      125      34            126    3730766   \n",
      "\n",
      "     player_position  event_code  \n",
      "471                1           1  \n",
      "472               10           4  \n",
      "473                7           2  \n",
      "474                0           5  \n",
      "                   game_str  play_id  at_bat  play_per_game  timestamp  \\\n",
      "475  1884_063_Vis2AM_Home2A      126      34            127    3878474   \n",
      "476  1884_063_Vis2AM_Home2A      126      34            127    3878903   \n",
      "477  1884_063_Vis2AM_Home2A      126      34            127    3880817   \n",
      "478  1884_063_Vis2AM_Home2A      126      34            127    3881873   \n",
      "479  1884_063_Vis2AM_Home2A      126      34            127    3882665   \n",
      "480  1884_063_Vis2AM_Home2A      126      34            127    3883259   \n",
      "481  1884_063_Vis2AM_Home2A      126      34            127    3885008   \n",
      "482  1884_063_Vis2AM_Home2A      126      34            127    3886856   \n",
      "483  1884_063_Vis2AM_Home2A      126      34            127    3887054   \n",
      "\n",
      "     player_position  event_code  \n",
      "475                1           1  \n",
      "476               10           4  \n",
      "477              255          16  \n",
      "478              255          16  \n",
      "479              255          16  \n",
      "480                8           2  \n",
      "481                8           3  \n",
      "482                6           2  \n",
      "483                0           5  \n",
      "                   game_str  play_id  at_bat  play_per_game  timestamp  \\\n",
      "589  1884_063_Vis2AM_Home2A      152      39            153    4949388   \n",
      "590  1884_063_Vis2AM_Home2A      152      39            153    4949817   \n",
      "591  1884_063_Vis2AM_Home2A      152      39            153    4950213   \n",
      "592  1884_063_Vis2AM_Home2A      152      39            153    4951236   \n",
      "593  1884_063_Vis2AM_Home2A      152      39            153    4951962   \n",
      "594  1884_063_Vis2AM_Home2A      152      39            153    4952457   \n",
      "595  1884_063_Vis2AM_Home2A      152      39            153    4952787   \n",
      "596  1884_063_Vis2AM_Home2A      152      39            153    4953117   \n",
      "597  1884_063_Vis2AM_Home2A      152      39            153    4953381   \n",
      "598  1884_063_Vis2AM_Home2A      152      39            153    4953942   \n",
      "599  1884_063_Vis2AM_Home2A      152      39            153    4955328   \n",
      "600  1884_063_Vis2AM_Home2A      152      39            153    4956813   \n",
      "601  1884_063_Vis2AM_Home2A      152      39            153    4957902   \n",
      "\n",
      "     player_position  event_code  \n",
      "589                1           1  \n",
      "590               10           4  \n",
      "591              255          16  \n",
      "592              255          16  \n",
      "593              255          16  \n",
      "594              255          16  \n",
      "595              255          16  \n",
      "596              255          16  \n",
      "597              255          16  \n",
      "598                8           2  \n",
      "599                8           3  \n",
      "600                4           2  \n",
      "601                0           5  \n",
      "                   game_str  play_id  at_bat  play_per_game  timestamp  \\\n",
      "634  1884_063_Vis2AM_Home2A      162      42            163    5466762   \n",
      "635  1884_063_Vis2AM_Home2A      162      42            163    5467191   \n",
      "636  1884_063_Vis2AM_Home2A      162      42            163    5470590   \n",
      "637  1884_063_Vis2AM_Home2A      162      42            163    5471514   \n",
      "638  1884_063_Vis2AM_Home2A      162      42            163    5471811   \n",
      "639  1884_063_Vis2AM_Home2A      162      42            163    5473626   \n",
      "640  1884_063_Vis2AM_Home2A      162      42            163    5474748   \n",
      "641  1884_063_Vis2AM_Home2A      162      42            163    5476497   \n",
      "642  1884_063_Vis2AM_Home2A      162      42            163    5476860   \n",
      "\n",
      "     player_position  event_code  \n",
      "634                1           1  \n",
      "635               10           4  \n",
      "636              255          16  \n",
      "637              255          10  \n",
      "638              255          16  \n",
      "639                7           2  \n",
      "640                7           3  \n",
      "641                6           2  \n",
      "642                0           5  \n",
      "                   game_str  play_id  at_bat  play_per_game  timestamp  \\\n",
      "805  1884_063_Vis2AM_Home2A      206      54            207    6937754   \n",
      "806  1884_063_Vis2AM_Home2A      206      54            207    6938183   \n",
      "807  1884_063_Vis2AM_Home2A      206      54            207    6938744   \n",
      "808  1884_063_Vis2AM_Home2A      206      54            207    6939272   \n",
      "809  1884_063_Vis2AM_Home2A      206      54            207    6939503   \n",
      "810  1884_063_Vis2AM_Home2A      206      54            207    6939734   \n",
      "811  1884_063_Vis2AM_Home2A      206      54            207    6942770   \n",
      "812  1884_063_Vis2AM_Home2A      206      54            207    6943430   \n",
      "813  1884_063_Vis2AM_Home2A      206      54            207    6945245   \n",
      "814  1884_063_Vis2AM_Home2A      206      54            207    6946136   \n",
      "815  1884_063_Vis2AM_Home2A      206      54            207    6947819   \n",
      "816  1884_063_Vis2AM_Home2A      206      54            207    6950294   \n",
      "\n",
      "     player_position  event_code  \n",
      "805                1           1  \n",
      "806               10           4  \n",
      "807              255          16  \n",
      "808              255          16  \n",
      "809              255          16  \n",
      "810              255          16  \n",
      "811              255          10  \n",
      "812              255          10  \n",
      "813                7           2  \n",
      "814                7           3  \n",
      "815                6           2  \n",
      "816                0           5  \n",
      "                    game_str  play_id  at_bat  play_per_game  timestamp  \\\n",
      "1037  1884_063_Vis2AM_Home2A      265      67            267    8673523   \n",
      "1038  1884_063_Vis2AM_Home2A      265      67            267    8673919   \n",
      "1039  1884_063_Vis2AM_Home2A      265      67            267    8679628   \n",
      "1040  1884_063_Vis2AM_Home2A      265      67            267    8680024   \n",
      "\n",
      "      player_position  event_code  \n",
      "1037                1           1  \n",
      "1038               10           4  \n",
      "1039                8           2  \n",
      "1040                0           5  \n"
     ]
    }
   ],
   "source": [
    "for route in player_dic[-1].get_routes():\n",
    "    if route.play[\"game_str\"].iloc[0] == \"1884_063_Vis2AM_Home2A\":\n",
    "        print(route.play)"
   ]
  },
  {
   "cell_type": "code",
   "execution_count": 631,
   "metadata": {},
   "outputs": [],
   "source": [
    "routes_df = Route.get_all_routes_df()"
   ]
  },
  {
   "cell_type": "code",
   "execution_count": 636,
   "metadata": {},
   "outputs": [
    {
     "data": {
      "text/plain": [
       "<Axes: xlabel='ideal_length', ylabel='score'>"
      ]
     },
     "execution_count": 636,
     "metadata": {},
     "output_type": "execute_result"
    },
    {
     "data": {
      "image/png": "[encoded data removed]",
      "text/plain": [
       "<Figure size 640x480 with 1 Axes>"
      ]
     },
     "metadata": {},
     "output_type": "display_data"
    }
   ],
   "source": [
    "routes_df.plot(kind = \"scatter\", x = \"ideal_length\", y = \"score\")"
   ]
  },
  {
   "cell_type": "code",
   "execution_count": 642,
   "metadata": {},
   "outputs": [
    {
     "data": {
      "application/vnd.jupyter.widget-view+json": {
       "model_id": "00b10ca8b3ab499c9985628c866f4198",
       "version_major": 2,
       "version_minor": 0
      },
      "text/plain": [
       "Canvas(height=400, width=400)"
      ]
     },
     "execution_count": 642,
     "metadata": {},
     "output_type": "execute_result"
    }
   ],
   "source": [
    "routes_df.sort_values(\"score\")[\"route_obj\"].iloc[-1].visualize()"
   ]
  },
  {
   "cell_type": "code",
   "execution_count": 621,
   "metadata": {},
   "outputs": [],
   "source": [
    "home_only_routes = routes_df[routes_df[\"player_id\"].apply(lambda x: len(str(x)) == 3)]"
   ]
  },
  {
   "cell_type": "code",
   "execution_count": 622,
   "metadata": {},
   "outputs": [
    {
     "data": {
      "text/plain": [
       "<Axes: xlabel='player_id'>"
      ]
     },
     "execution_count": 622,
     "metadata": {},
     "output_type": "execute_result"
    },
    {
     "data": {
      "image/png": "[encoded data removed]",
      "text/plain": [
       "<Figure size 640x480 with 1 Axes>"
      ]
     },
     "metadata": {},
     "output_type": "display_data"
    }
   ],
   "source": [
    "home_only_routes.groupby(\"player_id\").agg({\"level\": \"max\", \"score\": \"mean\"}).plot(kind = \"bar\")"
   ]
  },
  {
   "cell_type": "code",
   "execution_count": 479,
   "metadata": {},
   "outputs": [],
   "source": [
    "import PermHelpers"
   ]
  },
  {
   "cell_type": "code",
   "execution_count": 480,
   "metadata": {},
   "outputs": [
    {
     "data": {
      "text/plain": [
       "0.4666179046064412"
      ]
     },
     "execution_count": 480,
     "metadata": {},
     "output_type": "execute_result"
    }
   ],
   "source": [
    "PermHelpers.calc_TVD(home_only_routes.groupby(\"player_id\").agg({\"level\": \"max\", \"score\": \"mean\"}), home_only_routes[\"score\"].mean())"
   ]
  },
  {
   "cell_type": "code",
   "execution_count": 511,
   "metadata": {},
   "outputs": [
    {
     "data": {
      "text/plain": [
       "0.6634048249218997"
      ]
     },
     "execution_count": 511,
     "metadata": {},
     "output_type": "execute_result"
    }
   ],
   "source": [
    "t = home_only_routes.copy(deep = True)\n",
    "t[\"shuffled\"] = t[\"player_id\"].sample(frac = 1).values\n",
    "PermHelpers.calc_TVD(t.groupby(\"shuffled\").agg({\"level\": \"max\", \"score\": \"mean\"}), t[\"score\"].mean())"
   ]
  },
  {
   "cell_type": "code",
   "execution_count": 580,
   "metadata": {},
   "outputs": [
    {
     "name": "stdout",
     "output_type": "stream",
     "text": [
      "Out of 1000 permutations, 14 had a test statistic at least as extreme as the observed test statistic.\n",
      "This give a p-value of 0.014.\n",
      "The observed statistic was 0.008825023264786902.\n",
      "The average test statistic was 0.0037105012941114806\n"
     ]
    }
   ],
   "source": [
    "t = PermHelpers.permutation_tester(home_only_routes, \"position\", 1000)"
   ]
  },
  {
   "cell_type": "code",
   "execution_count": 577,
   "metadata": {},
   "outputs": [
    {
     "data": {
      "text/plain": [
       "<Axes: xlabel='position'>"
      ]
     },
     "execution_count": 577,
     "metadata": {},
     "output_type": "execute_result"
    },
    {
     "data": {
      "image/png": "[encoded data removed]",
      "text/plain": [
       "<Figure size 640x480 with 1 Axes>"
      ]
     },
     "metadata": {},
     "output_type": "display_data"
    }
   ],
   "source": [
    "home_only_routes[[\"position\", \"score\"]].groupby(\"position\").mean().reset_index().plot(kind = \"bar\", x = \"position\", y = \"score\")"
   ]
  },
  {
   "cell_type": "code",
   "execution_count": 573,
   "metadata": {},
   "outputs": [
    {
     "data": {
      "text/plain": [
       "0.008825000000000001"
      ]
     },
     "execution_count": 573,
     "metadata": {},
     "output_type": "execute_result"
    }
   ],
   "source": [
    "(.009187 + .005107 + .003356)*.5"
   ]
  },
  {
   "cell_type": "code",
   "execution_count": 548,
   "metadata": {},
   "outputs": [
    {
     "data": {
      "text/html": [
       "<div>\n",
       "<style scoped>\n",
       "    .dataframe tbody tr th:only-of-type {\n",
       "        vertical-align: middle;\n",
       "    }\n",
       "\n",
       "    .dataframe tbody tr th {\n",
       "        vertical-align: top;\n",
       "    }\n",
       "\n",
       "    .dataframe thead th {\n",
       "        text-align: right;\n",
       "    }\n",
       "</style>\n",
       "<table border=\"1\" class=\"dataframe\">\n",
       "  <thead>\n",
       "    <tr style=\"text-align: right;\">\n",
       "      <th></th>\n",
       "      <th>score</th>\n",
       "    </tr>\n",
       "    <tr>\n",
       "      <th>shuffled</th>\n",
       "      <th></th>\n",
       "    </tr>\n",
       "  </thead>\n",
       "  <tbody>\n",
       "    <tr>\n",
       "      <th>7</th>\n",
       "      <td>0.905446</td>\n",
       "    </tr>\n",
       "    <tr>\n",
       "      <th>8</th>\n",
       "      <td>0.914528</td>\n",
       "    </tr>\n",
       "    <tr>\n",
       "      <th>9</th>\n",
       "      <td>0.902548</td>\n",
       "    </tr>\n",
       "  </tbody>\n",
       "</table>\n",
       "</div>"
      ],
      "text/plain": [
       "             score\n",
       "shuffled          \n",
       "7         0.905446\n",
       "8         0.914528\n",
       "9         0.902548"
      ]
     },
     "execution_count": 548,
     "metadata": {},
     "output_type": "execute_result"
    }
   ],
   "source": [
    "t[[\"shuffled\", \"score\"]].groupby(\"shuffled\").mean()"
   ]
  },
  {
   "cell_type": "code",
   "execution_count": 623,
   "metadata": {},
   "outputs": [
    {
     "data": {
      "text/plain": [
       "0.008825023264786902"
      ]
     },
     "execution_count": 623,
     "metadata": {},
     "output_type": "execute_result"
    }
   ],
   "source": [
    "PermHelpers.calc_TVD(home_only_routes, \"position\")"
   ]
  },
  {
   "cell_type": "code",
   "execution_count": 558,
   "metadata": {},
   "outputs": [
    {
     "data": {
      "text/plain": [
       "0.0048209196541147414"
      ]
     },
     "execution_count": 558,
     "metadata": {},
     "output_type": "execute_result"
    }
   ],
   "source": [
    "PermHelpers.calc_TVD(t[[\"shuffled\", \"score\"]].groupby(\"shuffled\").mean(), t[\"score\"].mean())"
   ]
  },
  {
   "cell_type": "code",
   "execution_count": 624,
   "metadata": {},
   "outputs": [
    {
     "data": {
      "text/plain": [
       "<Axes: xlabel='direction', ylabel='score'>"
      ]
     },
     "execution_count": 624,
     "metadata": {},
     "output_type": "execute_result"
    },
    {
     "data": {
      "image/png": "[encoded data removed]",
      "text/plain": [
       "<Figure size 640x480 with 1 Axes>"
      ]
     },
     "metadata": {},
     "output_type": "display_data"
    }
   ],
   "source": [
    "home_only_routes.plot(kind = \"scatter\", x = \"direction\", y = \"score\")"
   ]
  },
  {
   "cell_type": "code",
   "execution_count": 589,
   "metadata": {},
   "outputs": [
    {
     "data": {
      "text/plain": [
       "<Axes: xlabel='level'>"
      ]
     },
     "execution_count": 589,
     "metadata": {},
     "output_type": "execute_result"
    },
    {
     "data": {
      "image/png": "[encoded data removed]",
      "text/plain": [
       "<Figure size 640x480 with 1 Axes>"
      ]
     },
     "metadata": {},
     "output_type": "display_data"
    }
   ],
   "source": [
    "home_only_routes[[\"level\", \"score\"]].groupby(\"level\").mean().plot(kind = \"bar\")"
   ]
  },
  {
   "cell_type": "code",
   "execution_count": 654,
   "metadata": {},
   "outputs": [
    {
     "name": "stdout",
     "output_type": "stream",
     "text": [
      "Players cleared\n",
      "Routes cleared\n",
      "Starting file search\n",
      "Files accumulated\n",
      "Finished game 1 of 339\n",
      "Finished game 51 of 339\n",
      "Finished game 101 of 339\n",
      "no start coords\n",
      "game skipped\n",
      "Finished game 151 of 339\n",
      "worked at least once\n",
      "worked at least once\n",
      "worked at least once\n",
      "worked at least once\n",
      "worked at least once\n",
      "worked at least once\n",
      "worked at least once\n",
      "worked at least once\n",
      "worked at least once\n",
      "worked at least once\n",
      "worked at least once\n",
      "worked at least once\n",
      "worked at least once\n",
      "worked at least once\n",
      "worked at least once\n",
      "worked at least once\n",
      "worked at least once\n",
      "worked at least once\n",
      "worked at least once\n",
      "worked at least once\n",
      "worked at least once\n",
      "worked at least once\n",
      "worked at least once\n",
      "worked at least once\n",
      "worked at least once\n",
      "worked at least once\n",
      "worked at least once\n",
      "worked at least once\n",
      "worked at least once\n",
      "worked at least once\n",
      "worked at least once\n",
      "worked at least once\n",
      "worked at least once\n",
      "worked at least once\n",
      "worked at least once\n",
      "worked at least once\n",
      "worked at least once\n",
      "worked at least once\n",
      "Finished game 201 of 339\n",
      "Finished game 251 of 339\n",
      "Finished game 301 of 339\n",
      "Out of 1000 permutations, 330 had a test statistic at least as extreme as the observed test statistic.\n",
      "This give a p-value of 0.33.\n",
      "This would NOT be considered statistically signifiant\n",
      "-----\n",
      "The observed statistic was 0.4666179046064412.\n",
      "The average test statistic was 0.45063144310586845\n"
     ]
    }
   ],
   "source": [
    "Metric.route_efficiency.test_metric()"
   ]
  },
  {
   "cell_type": "code",
   "execution_count": 706,
   "metadata": {},
   "outputs": [
    {
     "name": "stdout",
     "output_type": "stream",
     "text": [
      "Players cleared\n",
      "Routes cleared\n",
      "Starting file search\n",
      "Files accumulated\n",
      "Finished game 1 of 339\n",
      "Finished game 11 of 339\n",
      "Finished game 21 of 339\n",
      "Finished game 31 of 339\n",
      "Finished game 41 of 339\n",
      "Finished game 51 of 339\n",
      "Finished game 61 of 339\n",
      "Finished game 71 of 339\n",
      "Finished game 81 of 339\n",
      "Finished game 91 of 339\n",
      "Finished game 101 of 339\n",
      "Finished game 111 of 339\n",
      "no start coords\n",
      "game skipped\n",
      "Finished game 121 of 339\n",
      "Finished game 131 of 339\n",
      "Finished game 141 of 339\n",
      "Finished game 151 of 339\n",
      "Finished game 161 of 339\n",
      "Finished game 171 of 339\n",
      "Finished game 181 of 339\n",
      "Finished game 191 of 339\n",
      "Finished game 201 of 339\n",
      "Finished game 211 of 339\n",
      "Finished game 221 of 339\n",
      "Finished game 231 of 339\n",
      "Finished game 241 of 339\n",
      "Finished game 251 of 339\n",
      "Finished game 261 of 339\n",
      "Finished game 271 of 339\n",
      "Finished game 281 of 339\n",
      "Finished game 291 of 339\n",
      "Finished game 301 of 339\n",
      "Finished game 311 of 339\n",
      "Finished game 321 of 339\n",
      "Finished game 331 of 339\n"
     ]
    },
    {
     "data": {
      "text/plain": [
       "True"
      ]
     },
     "execution_count": 706,
     "metadata": {},
     "output_type": "execute_result"
    }
   ],
   "source": [
    "Route.find_all_relevant(Metric.route_efficiency)"
   ]
  },
  {
   "cell_type": "code",
   "execution_count": 713,
   "metadata": {},
   "outputs": [],
   "source": [
    "all_routes_df = Route.get_all_routes_df()"
   ]
  },
  {
   "cell_type": "code",
   "execution_count": 721,
   "metadata": {},
   "outputs": [
    {
     "name": "stdout",
     "output_type": "stream",
     "text": [
      "Players cleared\n",
      "Routes cleared\n",
      "Starting file search\n",
      "Files accumulated\n",
      "Finished game 1 of 339\n",
      "Finished game 11 of 339\n",
      "Finished game 21 of 339\n",
      "Finished game 31 of 339\n",
      "Finished game 41 of 339\n",
      "Finished game 51 of 339\n",
      "Finished game 61 of 339\n",
      "Finished game 71 of 339\n",
      "Finished game 81 of 339\n",
      "Finished game 91 of 339\n",
      "Finished game 101 of 339\n",
      "Finished game 111 of 339\n",
      "no start coords\n",
      "game skipped\n",
      "Finished game 121 of 339\n",
      "Finished game 131 of 339\n",
      "Finished game 141 of 339\n",
      "Finished game 151 of 339\n",
      "Finished game 161 of 339\n",
      "Finished game 171 of 339\n",
      "Finished game 181 of 339\n",
      "Finished game 191 of 339\n",
      "Finished game 201 of 339\n",
      "Finished game 211 of 339\n",
      "Finished game 221 of 339\n",
      "Finished game 231 of 339\n",
      "Finished game 241 of 339\n",
      "Finished game 251 of 339\n",
      "Finished game 261 of 339\n",
      "Finished game 271 of 339\n",
      "Finished game 281 of 339\n",
      "Finished game 291 of 339\n",
      "Finished game 301 of 339\n",
      "Finished game 311 of 339\n",
      "Finished game 321 of 339\n",
      "Finished game 331 of 339\n",
      "Out of 1000 permutations, 315 had a test statistic at least as extreme as the observed test statistic.\n",
      "This give a p-value of 0.315.\n",
      "This would NOT be considered statistically signifiant\n",
      "-----\n",
      "The observed statistic was 0.4666179046064412.\n",
      "The average test statistic was 0.44390065961445463\n"
     ]
    }
   ],
   "source": [
    "Metric.route_efficiency.test_metric()"
   ]
  },
  {
   "cell_type": "code",
   "execution_count": 722,
   "metadata": {},
   "outputs": [],
   "source": [
    "testr = Route.get_all_routes()[0]"
   ]
  },
  {
   "cell_type": "code",
   "execution_count": 727,
   "metadata": {},
   "outputs": [],
   "source": [
    "pos = testr.get_coord_tuples()"
   ]
  },
  {
   "cell_type": "code",
   "execution_count": 738,
   "metadata": {},
   "outputs": [
    {
     "data": {
      "text/plain": [
       "<Axes: xlabel='xpos', ylabel='ypos'>"
      ]
     },
     "execution_count": 738,
     "metadata": {},
     "output_type": "execute_result"
    },
    {
     "data": {
      "image/png": "[encoded data removed]",
      "text/plain": [
       "<Figure size 640x480 with 1 Axes>"
      ]
     },
     "metadata": {},
     "output_type": "display_data"
    }
   ],
   "source": [
    "posdf = pd.DataFrame(columns = [\"xpos\", \"ypos\"], data = pos)\n",
    "posdf.plot(kind = \"scatter\", x = \"xpos\", y = \"ypos\")"
   ]
  },
  {
   "cell_type": "code",
   "execution_count": 736,
   "metadata": {},
   "outputs": [
    {
     "data": {
      "text/plain": [
       "<Axes: xlabel='index', ylabel='mag'>"
      ]
     },
     "execution_count": 736,
     "metadata": {},
     "output_type": "execute_result"
    },
    {
     "data": {
      "image/png": "[encoded data removed]",
      "text/plain": [
       "<Figure size 640x480 with 1 Axes>"
      ]
     },
     "metadata": {},
     "output_type": "display_data"
    },
    {
     "data": {
      "image/png": "[encoded data removed]",
      "text/plain": [
       "<Figure size 640x480 with 1 Axes>"
      ]
     },
     "metadata": {},
     "output_type": "display_data"
    }
   ],
   "source": [
    "vel = []\n",
    "for i in range(len(pos)-1):\n",
    "    velvec = (pos[i+1][0] - pos[i][0], pos[i+1][1]-pos[i][1])\n",
    "    vel.append((velvec[0], velvec[1], (velvec[0]**2 + velvec[1]**2)**.5))\n",
    "veldf = pd.DataFrame(columns= [\"xvel\", \"yvel\", \"mag\"], data  = vel)\n",
    "veldf.plot(kind = \"scatter\", x = \"xvel\", y = \"yvel\")\n",
    "veldf = veldf.reset_index()\n",
    "veldf.plot(kind = \"scatter\", x = \"index\", y = \"mag\")"
   ]
  },
  {
   "cell_type": "code",
   "execution_count": 790,
   "metadata": {},
   "outputs": [
    {
     "data": {
      "text/plain": [
       "<Axes: xlabel='index'>"
      ]
     },
     "execution_count": 790,
     "metadata": {},
     "output_type": "execute_result"
    },
    {
     "data": {
      "image/png": "[encoded data removed]",
      "text/plain": [
       "<Figure size 640x480 with 1 Axes>"
      ]
     },
     "metadata": {},
     "output_type": "display_data"
    },
    {
     "data": {
      "image/png": "[encoded data removed]",
      "text/plain": [
       "<Figure size 640x480 with 1 Axes>"
      ]
     },
     "metadata": {},
     "output_type": "display_data"
    }
   ],
   "source": [
    "acc = []\n",
    "for i in range(len(vel)-1):\n",
    "    accvec = (vel[i+1][0] - vel[i][0], vel[i+1][1]-vel[i][1])\n",
    "    acc.append((accvec[0], accvec[1], (accvec[0]**2 + accvec[1]**2)**.5))\n",
    "accdf = pd.DataFrame(columns= [\"xacc\", \"yacc\", \"mag\"], data  = acc)\n",
    "# accdf = accdf[\n",
    "#     (accdf[\"xacc\"] < .05) &\n",
    "#     (accdf[\"xacc\"] > -.05) &\n",
    "#     (accdf[\"yacc\"] > -.2) &\n",
    "#     (accdf[\"yacc\"] < .2)\n",
    "# ]\n",
    "accdf.plot(kind = \"scatter\", x = \"xacc\", y = \"yacc\")\n",
    "accdf = accdf.reset_index()\n",
    "accdf = accdf.sort_values(\"mag\").iloc[:-10]\n",
    "accdf = accdf.sort_values(\"index\")\n",
    "accdf.plot(kind = \"line\", x = \"index\", y = \"mag\")"
   ]
  },
  {
   "cell_type": "code",
   "execution_count": 752,
   "metadata": {},
   "outputs": [
    {
     "name": "stdout",
     "output_type": "stream",
     "text": [
      "Players cleared\n",
      "Routes cleared\n",
      "Starting file search\n",
      "Files accumulated\n",
      "Finished game 1 of 339\n",
      "Finished game 11 of 339\n",
      "Finished game 21 of 339\n",
      "Finished game 31 of 339\n",
      "Finished game 41 of 339\n",
      "Finished game 51 of 339\n",
      "Finished game 61 of 339\n",
      "Finished game 71 of 339\n",
      "Finished game 81 of 339\n",
      "Finished game 91 of 339\n",
      "Finished game 101 of 339\n",
      "Finished game 111 of 339\n",
      "no start coords\n",
      "game skipped\n",
      "Finished game 121 of 339\n",
      "Finished game 131 of 339\n",
      "Finished game 141 of 339\n",
      "Finished game 151 of 339\n",
      "Finished game 161 of 339\n",
      "Finished game 171 of 339\n",
      "Finished game 181 of 339\n",
      "Finished game 191 of 339\n",
      "Finished game 201 of 339\n",
      "Finished game 211 of 339\n",
      "Finished game 221 of 339\n",
      "Finished game 231 of 339\n",
      "Finished game 241 of 339\n",
      "Finished game 251 of 339\n",
      "Finished game 261 of 339\n",
      "Finished game 271 of 339\n",
      "Finished game 281 of 339\n",
      "Finished game 291 of 339\n",
      "Finished game 301 of 339\n",
      "Finished game 311 of 339\n",
      "Finished game 321 of 339\n",
      "Finished game 331 of 339\n"
     ]
    },
    {
     "name": "stderr",
     "output_type": "stream",
     "text": [
      "c:\\Users\\Owner\\Desktop\\coding stuff\\smt data challenge\\Route.py:75: DtypeWarning: Columns (0) have mixed types. Specify dtype option on import or set low_memory=False.\n",
      "  relevant = pd.read_csv(game[3]).groupby(\"play_per_game\").filter(Route.is_relevant())\n"
     ]
    },
    {
     "data": {
      "text/plain": [
       "True"
      ]
     },
     "execution_count": 752,
     "metadata": {},
     "output_type": "execute_result"
    }
   ],
   "source": [
    "Route.find_all_relevant(Metric.route_efficiency)"
   ]
  },
  {
   "cell_type": "code",
   "execution_count": 802,
   "metadata": {},
   "outputs": [
    {
     "data": {
      "text/plain": [
       "<Axes: xlabel='index'>"
      ]
     },
     "execution_count": 802,
     "metadata": {},
     "output_type": "execute_result"
    },
    {
     "data": {
      "image/png": "[encoded data removed]",
      "text/plain": [
       "<Figure size 640x480 with 1 Axes>"
      ]
     },
     "metadata": {},
     "output_type": "display_data"
    }
   ],
   "source": [
    "all_routes_df[all_routes_df[\"ideal_length\"] >= 100][\"route_obj\"].iloc[5].visualize_accel()"
   ]
  },
  {
   "cell_type": "code",
   "execution_count": 813,
   "metadata": {},
   "outputs": [
    {
     "data": {
      "text/plain": [
       "<Axes: ylabel='Frequency'>"
      ]
     },
     "execution_count": 813,
     "metadata": {},
     "output_type": "execute_result"
    },
    {
     "data": {
      "image/png": "[encoded data removed]",
      "text/plain": [
       "<Figure size 640x480 with 1 Axes>"
      ]
     },
     "metadata": {},
     "output_type": "display_data"
    }
   ],
   "source": [
    "all_routes_df[[\"score\"]].plot(kind = \"hist\")"
   ]
  },
  {
   "cell_type": "code",
   "execution_count": 815,
   "metadata": {},
   "outputs": [
    {
     "data": {
      "text/plain": [
       "<Axes: ylabel='Frequency'>"
      ]
     },
     "execution_count": 815,
     "metadata": {},
     "output_type": "execute_result"
    },
    {
     "data": {
      "image/png": "[encoded data removed]",
      "text/plain": [
       "<Figure size 640x480 with 1 Axes>"
      ]
     },
     "metadata": {},
     "output_type": "display_data"
    }
   ],
   "source": [
    "all_routes_df[[\"ideal_length\"]].plot(kind = \"hist\")"
   ]
  },
  {
   "cell_type": "code",
   "execution_count": 816,
   "metadata": {},
   "outputs": [
    {
     "name": "stdout",
     "output_type": "stream",
     "text": [
      "Players cleared\n",
      "Routes cleared\n",
      "Starting file search\n",
      "Files accumulated\n",
      "Finished game 1 of 339\n",
      "Finished game 11 of 339\n",
      "Finished game 21 of 339\n",
      "Finished game 31 of 339\n",
      "Finished game 41 of 339\n",
      "Finished game 51 of 339\n",
      "Finished game 61 of 339\n",
      "Finished game 71 of 339\n",
      "Finished game 81 of 339\n",
      "Finished game 91 of 339\n",
      "Finished game 101 of 339\n",
      "Finished game 111 of 339\n",
      "no start coords\n",
      "game skipped\n",
      "Finished game 121 of 339\n",
      "Finished game 131 of 339\n",
      "Finished game 141 of 339\n",
      "Finished game 151 of 339\n",
      "Finished game 161 of 339\n",
      "Finished game 171 of 339\n",
      "Finished game 181 of 339\n",
      "Finished game 191 of 339\n",
      "Finished game 201 of 339\n",
      "Finished game 211 of 339\n",
      "Finished game 221 of 339\n",
      "Finished game 231 of 339\n",
      "Finished game 241 of 339\n",
      "Finished game 251 of 339\n",
      "Finished game 261 of 339\n",
      "Finished game 271 of 339\n",
      "Finished game 281 of 339\n",
      "Finished game 291 of 339\n",
      "Finished game 301 of 339\n",
      "Finished game 311 of 339\n",
      "Finished game 321 of 339\n",
      "Finished game 331 of 339\n"
     ]
    },
    {
     "name": "stderr",
     "output_type": "stream",
     "text": [
      "c:\\Users\\Owner\\Desktop\\coding stuff\\smt data challenge\\Route.py:75: DtypeWarning: Columns (0) have mixed types. Specify dtype option on import or set low_memory=False.\n",
      "  relevant = pd.read_csv(game[3]).groupby(\"play_per_game\").filter(Route.is_relevant())\n"
     ]
    },
    {
     "name": "stdout",
     "output_type": "stream",
     "text": [
      "Out of 1000 permutations, 829 had a test statistic at least as extreme as the observed test statistic.\n",
      "This give a p-value of 0.829.\n",
      "This would NOT be considered statistically signifiant\n",
      "-----\n",
      "The observed statistic was 0.18528578214122013.\n",
      "The average test statistic was 0.22958426426685738\n"
     ]
    }
   ],
   "source": [
    "Metric.break_metric.test_metric()"
   ]
  },
  {
   "cell_type": "code",
   "execution_count": 820,
   "metadata": {},
   "outputs": [],
   "source": [
    "t = Route.get_all_routes_df()[[\"score\"]]"
   ]
  },
  {
   "cell_type": "code",
   "execution_count": 829,
   "metadata": {},
   "outputs": [
    {
     "data": {
      "text/plain": [
       "<Axes: ylabel='Frequency'>"
      ]
     },
     "execution_count": 829,
     "metadata": {},
     "output_type": "execute_result"
    },
    {
     "data": {
      "image/png": "[encoded data removed]",
      "text/plain": [
       "<Figure size 640x480 with 1 Axes>"
      ]
     },
     "metadata": {},
     "output_type": "display_data"
    }
   ],
   "source": [
    "t.sort_values(\"score\").iloc[:-300].plot(kind = \"hist\", bins = 100)"
   ]
  },
  {
   "cell_type": "code",
   "execution_count": 830,
   "metadata": {},
   "outputs": [
    {
     "name": "stdout",
     "output_type": "stream",
     "text": [
      "Players cleared\n",
      "Routes cleared\n",
      "Starting file search\n",
      "Files accumulated\n",
      "Finished game 1 of 339\n",
      "Finished game 11 of 339\n",
      "Finished game 21 of 339\n",
      "Finished game 31 of 339\n",
      "Finished game 41 of 339\n",
      "Finished game 51 of 339\n",
      "Finished game 61 of 339\n",
      "Finished game 71 of 339\n",
      "Finished game 81 of 339\n",
      "Finished game 91 of 339\n",
      "Finished game 101 of 339\n",
      "Finished game 111 of 339\n",
      "no start coords\n",
      "game skipped\n",
      "Finished game 121 of 339\n",
      "Finished game 131 of 339\n",
      "Finished game 141 of 339\n",
      "Finished game 151 of 339\n",
      "Finished game 161 of 339\n",
      "Finished game 171 of 339\n",
      "Finished game 181 of 339\n",
      "Finished game 191 of 339\n",
      "Finished game 201 of 339\n",
      "Finished game 211 of 339\n",
      "Finished game 221 of 339\n",
      "Finished game 231 of 339\n",
      "Finished game 241 of 339\n",
      "Finished game 251 of 339\n",
      "Finished game 261 of 339\n",
      "Finished game 271 of 339\n",
      "Finished game 281 of 339\n",
      "Finished game 291 of 339\n",
      "Finished game 301 of 339\n",
      "Finished game 311 of 339\n",
      "Finished game 321 of 339\n",
      "Finished game 331 of 339\n"
     ]
    },
    {
     "name": "stderr",
     "output_type": "stream",
     "text": [
      "c:\\Users\\Owner\\Desktop\\coding stuff\\smt data challenge\\Route.py:75: DtypeWarning: Columns (0) have mixed types. Specify dtype option on import or set low_memory=False.\n",
      "  relevant = pd.read_csv(game[3]).groupby(\"play_per_game\").filter(Route.is_relevant())\n"
     ]
    },
    {
     "name": "stdout",
     "output_type": "stream",
     "text": [
      "Out of 1000 permutations, 0 had a test statistic at least as extreme as the observed test statistic.\n",
      "This give a p-value of 0.0.\n",
      "This would be considered statistically significant\n",
      "-----\n",
      "The observed statistic was 3165.3160070880085.\n",
      "The average test statistic was 659.3705795749261\n"
     ]
    }
   ],
   "source": [
    "Metric.id_metric.test_metric()"
   ]
  },
  {
   "cell_type": "code",
   "execution_count": 831,
   "metadata": {},
   "outputs": [],
   "source": [
    "t = Route.get_all_routes_df()"
   ]
  },
  {
   "cell_type": "code",
   "execution_count": 875,
   "metadata": {},
   "outputs": [
    {
     "name": "stdout",
     "output_type": "stream",
     "text": [
      "Players cleared\n",
      "Routes cleared\n",
      "Starting file search\n",
      "Files accumulated\n",
      "Finished game 1 of 339\n",
      "Finished game 11 of 339\n",
      "Finished game 21 of 339\n",
      "Finished game 31 of 339\n",
      "Finished game 41 of 339\n",
      "Finished game 51 of 339\n",
      "Finished game 61 of 339\n",
      "Finished game 71 of 339\n",
      "Finished game 81 of 339\n",
      "Finished game 91 of 339\n",
      "Finished game 101 of 339\n",
      "Finished game 111 of 339\n",
      "no start coords\n",
      "game skipped\n",
      "Finished game 121 of 339\n",
      "Finished game 131 of 339\n",
      "Finished game 141 of 339\n",
      "Finished game 151 of 339\n",
      "Finished game 161 of 339\n",
      "Finished game 171 of 339\n",
      "Finished game 181 of 339\n",
      "Finished game 191 of 339\n",
      "Finished game 201 of 339\n",
      "Finished game 211 of 339\n",
      "Finished game 221 of 339\n",
      "Finished game 231 of 339\n",
      "Finished game 241 of 339\n",
      "Finished game 251 of 339\n",
      "Finished game 261 of 339\n",
      "Finished game 271 of 339\n",
      "Finished game 281 of 339\n",
      "Finished game 291 of 339\n",
      "Finished game 301 of 339\n",
      "Finished game 311 of 339\n",
      "Finished game 321 of 339\n",
      "Finished game 331 of 339\n"
     ]
    },
    {
     "name": "stderr",
     "output_type": "stream",
     "text": [
      "c:\\Users\\Owner\\Desktop\\coding stuff\\smt data challenge\\Route.py:75: DtypeWarning: Columns (0) have mixed types. Specify dtype option on import or set low_memory=False.\n",
      "  relevant = pd.read_csv(game[3]).groupby(\"play_per_game\").filter(Route.is_relevant())\n"
     ]
    },
    {
     "data": {
      "text/plain": [
       "True"
      ]
     },
     "execution_count": 875,
     "metadata": {},
     "output_type": "execute_result"
    }
   ],
   "source": [
    "Route.find_all_relevant(Metric.route_efficiency)"
   ]
  },
  {
   "cell_type": "code",
   "execution_count": 876,
   "metadata": {},
   "outputs": [],
   "source": [
    "df = Route.get_all_routes_df()"
   ]
  },
  {
   "cell_type": "code",
   "execution_count": 895,
   "metadata": {},
   "outputs": [
    {
     "data": {
      "text/plain": [
       "<Axes: xlabel='direction', ylabel='score'>"
      ]
     },
     "execution_count": 895,
     "metadata": {},
     "output_type": "execute_result"
    },
    {
     "data": {
      "image/png": "[encoded data removed]",
      "text/plain": [
       "<Figure size 640x480 with 1 Axes>"
      ]
     },
     "metadata": {},
     "output_type": "display_data"
    }
   ],
   "source": [
    "df.plot(kind = \"scatter\", x = \"direction\", y = \"score\")\n"
   ]
  }
 ],
 "metadata": {
  "kernelspec": {
   "display_name": "Python 3",
   "language": "python",
   "name": "python3"
  },
  "language_info": {
   "codemirror_mode": {
    "name": "ipython",
    "version": 3
   },
   "file_extension": ".py",
   "mimetype": "text/x-python",
   "name": "python",
   "nbconvert_exporter": "python",
   "pygments_lexer": "ipython3",
   "version": "3.10.11"
  }
 },
 "nbformat": 4,
 "nbformat_minor": 2
}

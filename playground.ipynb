{
 "cells": [
  {
   "cell_type": "code",
   "execution_count": 61,
   "metadata": {},
   "outputs": [],
   "source": [
    "import pandas as pd\n",
    "from ipycanvas import Canvas, hold_canvas\n",
    "import numpy as np\n",
    "from pathlib import Path"
   ]
  },
  {
   "cell_type": "code",
   "execution_count": 62,
   "metadata": {},
   "outputs": [
    {
     "name": "stdout",
     "output_type": "stream",
     "text": [
      "The autoreload extension is already loaded. To reload it, use:\n",
      "  %reload_ext autoreload\n"
     ]
    }
   ],
   "source": [
    "%load_ext autoreload\n",
    "%autoreload 2"
   ]
  },
  {
   "cell_type": "code",
   "execution_count": 63,
   "metadata": {},
   "outputs": [],
   "source": [
    "player_pos = pd.read_csv(\"2024_SMT_Data_Challenge\\player_pos\\Season_1884\\Home1A\\Vis1AK\\day_008\\player_pos.csv\")\n",
    "game_info = pd.read_csv(\"2024_SMT_Data_Challenge\\game_info\\Season_1884\\Home1A\\Vis1AK\\day_008\\game_info.csv\")\n",
    "ball_pos = pd.read_csv(\"2024_SMT_Data_Challenge\\\\ball_pos\\Season_1884\\Home1A\\Vis1AK\\day_008\\\\ball_pos.csv\")\n",
    "game_events = pd.read_csv(\"2024_SMT_Data_Challenge\\game_events\\Season_1884\\Home1A\\Vis1AK\\day_008\\game_events.csv\")"
   ]
  },
  {
   "cell_type": "code",
   "execution_count": 64,
   "metadata": {},
   "outputs": [
    {
     "data": {
      "text/html": [
       "<div>\n",
       "<style scoped>\n",
       "    .dataframe tbody tr th:only-of-type {\n",
       "        vertical-align: middle;\n",
       "    }\n",
       "\n",
       "    .dataframe tbody tr th {\n",
       "        vertical-align: top;\n",
       "    }\n",
       "\n",
       "    .dataframe thead th {\n",
       "        text-align: right;\n",
       "    }\n",
       "</style>\n",
       "<table border=\"1\" class=\"dataframe\">\n",
       "  <thead>\n",
       "    <tr style=\"text-align: right;\">\n",
       "      <th></th>\n",
       "      <th>game_str</th>\n",
       "      <th>play_id</th>\n",
       "      <th>at_bat</th>\n",
       "      <th>play_per_game</th>\n",
       "      <th>timestamp</th>\n",
       "      <th>player_position</th>\n",
       "      <th>event_code</th>\n",
       "    </tr>\n",
       "  </thead>\n",
       "  <tbody>\n",
       "    <tr>\n",
       "      <th>31</th>\n",
       "      <td>1884_008_Vis1AK_Home1A</td>\n",
       "      <td>6</td>\n",
       "      <td>24</td>\n",
       "      <td>6</td>\n",
       "      <td>296628</td>\n",
       "      <td>8</td>\n",
       "      <td>2</td>\n",
       "    </tr>\n",
       "    <tr>\n",
       "      <th>132</th>\n",
       "      <td>1884_008_Vis1AK_Home1A</td>\n",
       "      <td>37</td>\n",
       "      <td>30</td>\n",
       "      <td>37</td>\n",
       "      <td>1297528</td>\n",
       "      <td>8</td>\n",
       "      <td>2</td>\n",
       "    </tr>\n",
       "    <tr>\n",
       "      <th>314</th>\n",
       "      <td>1884_008_Vis1AK_Home1A</td>\n",
       "      <td>83</td>\n",
       "      <td>43</td>\n",
       "      <td>83</td>\n",
       "      <td>2963626</td>\n",
       "      <td>8</td>\n",
       "      <td>2</td>\n",
       "    </tr>\n",
       "    <tr>\n",
       "      <th>437</th>\n",
       "      <td>1884_008_Vis1AK_Home1A</td>\n",
       "      <td>112</td>\n",
       "      <td>51</td>\n",
       "      <td>112</td>\n",
       "      <td>3875826</td>\n",
       "      <td>8</td>\n",
       "      <td>2</td>\n",
       "    </tr>\n",
       "    <tr>\n",
       "      <th>451</th>\n",
       "      <td>1884_008_Vis1AK_Home1A</td>\n",
       "      <td>115</td>\n",
       "      <td>52</td>\n",
       "      <td>115</td>\n",
       "      <td>3943226</td>\n",
       "      <td>8</td>\n",
       "      <td>2</td>\n",
       "    </tr>\n",
       "    <tr>\n",
       "      <th>540</th>\n",
       "      <td>1884_008_Vis1AK_Home1A</td>\n",
       "      <td>139</td>\n",
       "      <td>57</td>\n",
       "      <td>139</td>\n",
       "      <td>4931426</td>\n",
       "      <td>8</td>\n",
       "      <td>2</td>\n",
       "    </tr>\n",
       "    <tr>\n",
       "      <th>627</th>\n",
       "      <td>1884_008_Vis1AK_Home1A</td>\n",
       "      <td>160</td>\n",
       "      <td>64</td>\n",
       "      <td>160</td>\n",
       "      <td>5863626</td>\n",
       "      <td>8</td>\n",
       "      <td>2</td>\n",
       "    </tr>\n",
       "    <tr>\n",
       "      <th>676</th>\n",
       "      <td>1884_008_Vis1AK_Home1A</td>\n",
       "      <td>169</td>\n",
       "      <td>67</td>\n",
       "      <td>169</td>\n",
       "      <td>6221276</td>\n",
       "      <td>8</td>\n",
       "      <td>2</td>\n",
       "    </tr>\n",
       "    <tr>\n",
       "      <th>728</th>\n",
       "      <td>1884_008_Vis1AK_Home1A</td>\n",
       "      <td>181</td>\n",
       "      <td>73</td>\n",
       "      <td>181</td>\n",
       "      <td>6675126</td>\n",
       "      <td>8</td>\n",
       "      <td>2</td>\n",
       "    </tr>\n",
       "    <tr>\n",
       "      <th>758</th>\n",
       "      <td>1884_008_Vis1AK_Home1A</td>\n",
       "      <td>190</td>\n",
       "      <td>75</td>\n",
       "      <td>190</td>\n",
       "      <td>7009776</td>\n",
       "      <td>8</td>\n",
       "      <td>2</td>\n",
       "    </tr>\n",
       "    <tr>\n",
       "      <th>819</th>\n",
       "      <td>1884_008_Vis1AK_Home1A</td>\n",
       "      <td>200</td>\n",
       "      <td>82</td>\n",
       "      <td>200</td>\n",
       "      <td>7544326</td>\n",
       "      <td>8</td>\n",
       "      <td>2</td>\n",
       "    </tr>\n",
       "    <tr>\n",
       "      <th>836</th>\n",
       "      <td>1884_008_Vis1AK_Home1A</td>\n",
       "      <td>203</td>\n",
       "      <td>84</td>\n",
       "      <td>203</td>\n",
       "      <td>7633826</td>\n",
       "      <td>8</td>\n",
       "      <td>2</td>\n",
       "    </tr>\n",
       "  </tbody>\n",
       "</table>\n",
       "</div>"
      ],
      "text/plain": [
       "                   game_str  play_id  at_bat  play_per_game  timestamp  \\\n",
       "31   1884_008_Vis1AK_Home1A        6      24              6     296628   \n",
       "132  1884_008_Vis1AK_Home1A       37      30             37    1297528   \n",
       "314  1884_008_Vis1AK_Home1A       83      43             83    2963626   \n",
       "437  1884_008_Vis1AK_Home1A      112      51            112    3875826   \n",
       "451  1884_008_Vis1AK_Home1A      115      52            115    3943226   \n",
       "540  1884_008_Vis1AK_Home1A      139      57            139    4931426   \n",
       "627  1884_008_Vis1AK_Home1A      160      64            160    5863626   \n",
       "676  1884_008_Vis1AK_Home1A      169      67            169    6221276   \n",
       "728  1884_008_Vis1AK_Home1A      181      73            181    6675126   \n",
       "758  1884_008_Vis1AK_Home1A      190      75            190    7009776   \n",
       "819  1884_008_Vis1AK_Home1A      200      82            200    7544326   \n",
       "836  1884_008_Vis1AK_Home1A      203      84            203    7633826   \n",
       "\n",
       "     player_position  event_code  \n",
       "31                 8           2  \n",
       "132                8           2  \n",
       "314                8           2  \n",
       "437                8           2  \n",
       "451                8           2  \n",
       "540                8           2  \n",
       "627                8           2  \n",
       "676                8           2  \n",
       "728                8           2  \n",
       "758                8           2  \n",
       "819                8           2  \n",
       "836                8           2  "
      ]
     },
     "execution_count": 64,
     "metadata": {},
     "output_type": "execute_result"
    }
   ],
   "source": [
    "game_events[(game_events[\"event_code\"] == 2) & (game_events[\"player_position\"] == 8)]"
   ]
  },
  {
   "cell_type": "code",
   "execution_count": 65,
   "metadata": {},
   "outputs": [],
   "source": [
    "play6 = game_events[game_events[\"play_id\"] == 6]"
   ]
  },
  {
   "cell_type": "code",
   "execution_count": 66,
   "metadata": {},
   "outputs": [],
   "source": [
    "play6abridged = play6.merge(ball_pos, on = \"timestamp\")"
   ]
  },
  {
   "cell_type": "code",
   "execution_count": 67,
   "metadata": {},
   "outputs": [],
   "source": [
    "play6abridged = play6abridged.merge(player_pos, on = [\"timestamp\", \"player_position\"], suffixes= (\"y\",))"
   ]
  },
  {
   "cell_type": "code",
   "execution_count": 68,
   "metadata": {},
   "outputs": [],
   "source": [
    "play6abridged = play6abridged[[\"play_id_x\", \"timestamp\", \"player_position\", \"event_code\", \"ball_position_x\", \"ball_position_y\", \"ball_position_z\", \"field_x\", \"field_y\"]]"
   ]
  },
  {
   "cell_type": "code",
   "execution_count": 69,
   "metadata": {},
   "outputs": [
    {
     "data": {
      "text/html": [
       "<div>\n",
       "<style scoped>\n",
       "    .dataframe tbody tr th:only-of-type {\n",
       "        vertical-align: middle;\n",
       "    }\n",
       "\n",
       "    .dataframe tbody tr th {\n",
       "        vertical-align: top;\n",
       "    }\n",
       "\n",
       "    .dataframe thead th {\n",
       "        text-align: right;\n",
       "    }\n",
       "</style>\n",
       "<table border=\"1\" class=\"dataframe\">\n",
       "  <thead>\n",
       "    <tr style=\"text-align: right;\">\n",
       "      <th></th>\n",
       "      <th>game_str</th>\n",
       "      <th>play_id</th>\n",
       "      <th>at_bat</th>\n",
       "      <th>play_per_game</th>\n",
       "      <th>timestamp</th>\n",
       "      <th>player_position</th>\n",
       "      <th>event_code</th>\n",
       "    </tr>\n",
       "  </thead>\n",
       "  <tbody>\n",
       "    <tr>\n",
       "      <th>29</th>\n",
       "      <td>1884_008_Vis1AK_Home1A</td>\n",
       "      <td>6</td>\n",
       "      <td>24</td>\n",
       "      <td>6</td>\n",
       "      <td>290678</td>\n",
       "      <td>1</td>\n",
       "      <td>1</td>\n",
       "    </tr>\n",
       "    <tr>\n",
       "      <th>30</th>\n",
       "      <td>1884_008_Vis1AK_Home1A</td>\n",
       "      <td>6</td>\n",
       "      <td>24</td>\n",
       "      <td>6</td>\n",
       "      <td>291078</td>\n",
       "      <td>10</td>\n",
       "      <td>4</td>\n",
       "    </tr>\n",
       "    <tr>\n",
       "      <th>31</th>\n",
       "      <td>1884_008_Vis1AK_Home1A</td>\n",
       "      <td>6</td>\n",
       "      <td>24</td>\n",
       "      <td>6</td>\n",
       "      <td>296628</td>\n",
       "      <td>8</td>\n",
       "      <td>2</td>\n",
       "    </tr>\n",
       "    <tr>\n",
       "      <th>32</th>\n",
       "      <td>1884_008_Vis1AK_Home1A</td>\n",
       "      <td>6</td>\n",
       "      <td>24</td>\n",
       "      <td>6</td>\n",
       "      <td>297678</td>\n",
       "      <td>8</td>\n",
       "      <td>3</td>\n",
       "    </tr>\n",
       "    <tr>\n",
       "      <th>33</th>\n",
       "      <td>1884_008_Vis1AK_Home1A</td>\n",
       "      <td>6</td>\n",
       "      <td>24</td>\n",
       "      <td>6</td>\n",
       "      <td>299428</td>\n",
       "      <td>255</td>\n",
       "      <td>16</td>\n",
       "    </tr>\n",
       "    <tr>\n",
       "      <th>34</th>\n",
       "      <td>1884_008_Vis1AK_Home1A</td>\n",
       "      <td>6</td>\n",
       "      <td>24</td>\n",
       "      <td>6</td>\n",
       "      <td>299578</td>\n",
       "      <td>6</td>\n",
       "      <td>2</td>\n",
       "    </tr>\n",
       "    <tr>\n",
       "      <th>35</th>\n",
       "      <td>1884_008_Vis1AK_Home1A</td>\n",
       "      <td>6</td>\n",
       "      <td>24</td>\n",
       "      <td>6</td>\n",
       "      <td>301228</td>\n",
       "      <td>0</td>\n",
       "      <td>5</td>\n",
       "    </tr>\n",
       "  </tbody>\n",
       "</table>\n",
       "</div>"
      ],
      "text/plain": [
       "                  game_str  play_id  at_bat  play_per_game  timestamp  \\\n",
       "29  1884_008_Vis1AK_Home1A        6      24              6     290678   \n",
       "30  1884_008_Vis1AK_Home1A        6      24              6     291078   \n",
       "31  1884_008_Vis1AK_Home1A        6      24              6     296628   \n",
       "32  1884_008_Vis1AK_Home1A        6      24              6     297678   \n",
       "33  1884_008_Vis1AK_Home1A        6      24              6     299428   \n",
       "34  1884_008_Vis1AK_Home1A        6      24              6     299578   \n",
       "35  1884_008_Vis1AK_Home1A        6      24              6     301228   \n",
       "\n",
       "    player_position  event_code  \n",
       "29                1           1  \n",
       "30               10           4  \n",
       "31                8           2  \n",
       "32                8           3  \n",
       "33              255          16  \n",
       "34                6           2  \n",
       "35                0           5  "
      ]
     },
     "execution_count": 69,
     "metadata": {},
     "output_type": "execute_result"
    }
   ],
   "source": [
    "play6"
   ]
  },
  {
   "cell_type": "code",
   "execution_count": 70,
   "metadata": {},
   "outputs": [
    {
     "data": {
      "text/plain": [
       "291078"
      ]
     },
     "execution_count": 70,
     "metadata": {},
     "output_type": "execute_result"
    }
   ],
   "source": [
    "df = play6.merge(game_info, on = \"play_per_game\", suffixes = [\"_a\", \"_b\"])\n",
    "df = df.merge(ball_pos, on = \"timestamp\", suffixes= [\"_c\", \"_d\"])\n",
    "df = df.merge(player_pos, on = \"timestamp\", suffixes= [\"_e\", \"_f\"])\n",
    "play6[play6[\"event_code\"] == 2][\"player_position\"].iloc[0]\n",
    "291078\t"
   ]
  },
  {
   "cell_type": "code",
   "execution_count": 71,
   "metadata": {},
   "outputs": [
    {
     "data": {
      "text/html": [
       "<div>\n",
       "<style scoped>\n",
       "    .dataframe tbody tr th:only-of-type {\n",
       "        vertical-align: middle;\n",
       "    }\n",
       "\n",
       "    .dataframe tbody tr th {\n",
       "        vertical-align: top;\n",
       "    }\n",
       "\n",
       "    .dataframe thead th {\n",
       "        text-align: right;\n",
       "    }\n",
       "</style>\n",
       "<table border=\"1\" class=\"dataframe\">\n",
       "  <thead>\n",
       "    <tr style=\"text-align: right;\">\n",
       "      <th></th>\n",
       "      <th>game_str</th>\n",
       "      <th>play_id</th>\n",
       "      <th>at_bat</th>\n",
       "      <th>play_per_game</th>\n",
       "      <th>timestamp</th>\n",
       "      <th>player_position</th>\n",
       "      <th>event_code</th>\n",
       "    </tr>\n",
       "  </thead>\n",
       "  <tbody>\n",
       "    <tr>\n",
       "      <th>29</th>\n",
       "      <td>1884_008_Vis1AK_Home1A</td>\n",
       "      <td>6</td>\n",
       "      <td>24</td>\n",
       "      <td>6</td>\n",
       "      <td>290678</td>\n",
       "      <td>1</td>\n",
       "      <td>1</td>\n",
       "    </tr>\n",
       "    <tr>\n",
       "      <th>30</th>\n",
       "      <td>1884_008_Vis1AK_Home1A</td>\n",
       "      <td>6</td>\n",
       "      <td>24</td>\n",
       "      <td>6</td>\n",
       "      <td>291078</td>\n",
       "      <td>10</td>\n",
       "      <td>4</td>\n",
       "    </tr>\n",
       "    <tr>\n",
       "      <th>31</th>\n",
       "      <td>1884_008_Vis1AK_Home1A</td>\n",
       "      <td>6</td>\n",
       "      <td>24</td>\n",
       "      <td>6</td>\n",
       "      <td>296628</td>\n",
       "      <td>8</td>\n",
       "      <td>2</td>\n",
       "    </tr>\n",
       "    <tr>\n",
       "      <th>32</th>\n",
       "      <td>1884_008_Vis1AK_Home1A</td>\n",
       "      <td>6</td>\n",
       "      <td>24</td>\n",
       "      <td>6</td>\n",
       "      <td>297678</td>\n",
       "      <td>8</td>\n",
       "      <td>3</td>\n",
       "    </tr>\n",
       "    <tr>\n",
       "      <th>33</th>\n",
       "      <td>1884_008_Vis1AK_Home1A</td>\n",
       "      <td>6</td>\n",
       "      <td>24</td>\n",
       "      <td>6</td>\n",
       "      <td>299428</td>\n",
       "      <td>255</td>\n",
       "      <td>16</td>\n",
       "    </tr>\n",
       "    <tr>\n",
       "      <th>34</th>\n",
       "      <td>1884_008_Vis1AK_Home1A</td>\n",
       "      <td>6</td>\n",
       "      <td>24</td>\n",
       "      <td>6</td>\n",
       "      <td>299578</td>\n",
       "      <td>6</td>\n",
       "      <td>2</td>\n",
       "    </tr>\n",
       "    <tr>\n",
       "      <th>35</th>\n",
       "      <td>1884_008_Vis1AK_Home1A</td>\n",
       "      <td>6</td>\n",
       "      <td>24</td>\n",
       "      <td>6</td>\n",
       "      <td>301228</td>\n",
       "      <td>0</td>\n",
       "      <td>5</td>\n",
       "    </tr>\n",
       "  </tbody>\n",
       "</table>\n",
       "</div>"
      ],
      "text/plain": [
       "                  game_str  play_id  at_bat  play_per_game  timestamp  \\\n",
       "29  1884_008_Vis1AK_Home1A        6      24              6     290678   \n",
       "30  1884_008_Vis1AK_Home1A        6      24              6     291078   \n",
       "31  1884_008_Vis1AK_Home1A        6      24              6     296628   \n",
       "32  1884_008_Vis1AK_Home1A        6      24              6     297678   \n",
       "33  1884_008_Vis1AK_Home1A        6      24              6     299428   \n",
       "34  1884_008_Vis1AK_Home1A        6      24              6     299578   \n",
       "35  1884_008_Vis1AK_Home1A        6      24              6     301228   \n",
       "\n",
       "    player_position  event_code  \n",
       "29                1           1  \n",
       "30               10           4  \n",
       "31                8           2  \n",
       "32                8           3  \n",
       "33              255          16  \n",
       "34                6           2  \n",
       "35                0           5  "
      ]
     },
     "execution_count": 71,
     "metadata": {},
     "output_type": "execute_result"
    }
   ],
   "source": [
    "play6"
   ]
  },
  {
   "cell_type": "code",
   "execution_count": 72,
   "metadata": {},
   "outputs": [
    {
     "data": {
      "text/html": [
       "<div>\n",
       "<style scoped>\n",
       "    .dataframe tbody tr th:only-of-type {\n",
       "        vertical-align: middle;\n",
       "    }\n",
       "\n",
       "    .dataframe tbody tr th {\n",
       "        vertical-align: top;\n",
       "    }\n",
       "\n",
       "    .dataframe thead th {\n",
       "        text-align: right;\n",
       "    }\n",
       "</style>\n",
       "<table border=\"1\" class=\"dataframe\">\n",
       "  <thead>\n",
       "    <tr style=\"text-align: right;\">\n",
       "      <th></th>\n",
       "      <th>game_str</th>\n",
       "      <th>play_id</th>\n",
       "      <th>timestamp</th>\n",
       "      <th>player_position</th>\n",
       "      <th>field_x</th>\n",
       "      <th>field_y</th>\n",
       "    </tr>\n",
       "  </thead>\n",
       "  <tbody>\n",
       "    <tr>\n",
       "      <th>5193</th>\n",
       "      <td>1884_008_Vis1AK_Home1A</td>\n",
       "      <td>6</td>\n",
       "      <td>291078</td>\n",
       "      <td>8</td>\n",
       "      <td>-4.7460</td>\n",
       "      <td>286.0152</td>\n",
       "    </tr>\n",
       "    <tr>\n",
       "      <th>5207</th>\n",
       "      <td>1884_008_Vis1AK_Home1A</td>\n",
       "      <td>6</td>\n",
       "      <td>291128</td>\n",
       "      <td>8</td>\n",
       "      <td>-4.6383</td>\n",
       "      <td>285.9066</td>\n",
       "    </tr>\n",
       "    <tr>\n",
       "      <th>5221</th>\n",
       "      <td>1884_008_Vis1AK_Home1A</td>\n",
       "      <td>6</td>\n",
       "      <td>291178</td>\n",
       "      <td>8</td>\n",
       "      <td>-4.5210</td>\n",
       "      <td>285.7980</td>\n",
       "    </tr>\n",
       "    <tr>\n",
       "      <th>5235</th>\n",
       "      <td>1884_008_Vis1AK_Home1A</td>\n",
       "      <td>6</td>\n",
       "      <td>291228</td>\n",
       "      <td>8</td>\n",
       "      <td>-4.3929</td>\n",
       "      <td>285.6909</td>\n",
       "    </tr>\n",
       "    <tr>\n",
       "      <th>5249</th>\n",
       "      <td>1884_008_Vis1AK_Home1A</td>\n",
       "      <td>6</td>\n",
       "      <td>291278</td>\n",
       "      <td>8</td>\n",
       "      <td>-4.2525</td>\n",
       "      <td>285.5865</td>\n",
       "    </tr>\n",
       "    <tr>\n",
       "      <th>...</th>\n",
       "      <td>...</td>\n",
       "      <td>...</td>\n",
       "      <td>...</td>\n",
       "      <td>...</td>\n",
       "      <td>...</td>\n",
       "      <td>...</td>\n",
       "    </tr>\n",
       "    <tr>\n",
       "      <th>6691</th>\n",
       "      <td>1884_008_Vis1AK_Home1A</td>\n",
       "      <td>6</td>\n",
       "      <td>296428</td>\n",
       "      <td>8</td>\n",
       "      <td>82.1850</td>\n",
       "      <td>321.0192</td>\n",
       "    </tr>\n",
       "    <tr>\n",
       "      <th>6705</th>\n",
       "      <td>1884_008_Vis1AK_Home1A</td>\n",
       "      <td>6</td>\n",
       "      <td>296478</td>\n",
       "      <td>8</td>\n",
       "      <td>82.7688</td>\n",
       "      <td>321.3156</td>\n",
       "    </tr>\n",
       "    <tr>\n",
       "      <th>6719</th>\n",
       "      <td>1884_008_Vis1AK_Home1A</td>\n",
       "      <td>6</td>\n",
       "      <td>296528</td>\n",
       "      <td>8</td>\n",
       "      <td>83.3565</td>\n",
       "      <td>321.6087</td>\n",
       "    </tr>\n",
       "    <tr>\n",
       "      <th>6733</th>\n",
       "      <td>1884_008_Vis1AK_Home1A</td>\n",
       "      <td>6</td>\n",
       "      <td>296578</td>\n",
       "      <td>8</td>\n",
       "      <td>83.4822</td>\n",
       "      <td>321.6708</td>\n",
       "    </tr>\n",
       "    <tr>\n",
       "      <th>6747</th>\n",
       "      <td>1884_008_Vis1AK_Home1A</td>\n",
       "      <td>6</td>\n",
       "      <td>296628</td>\n",
       "      <td>8</td>\n",
       "      <td>83.6010</td>\n",
       "      <td>321.7311</td>\n",
       "    </tr>\n",
       "  </tbody>\n",
       "</table>\n",
       "<p>112 rows × 6 columns</p>\n",
       "</div>"
      ],
      "text/plain": [
       "                    game_str  play_id  timestamp  player_position  field_x  \\\n",
       "5193  1884_008_Vis1AK_Home1A        6     291078                8  -4.7460   \n",
       "5207  1884_008_Vis1AK_Home1A        6     291128                8  -4.6383   \n",
       "5221  1884_008_Vis1AK_Home1A        6     291178                8  -4.5210   \n",
       "5235  1884_008_Vis1AK_Home1A        6     291228                8  -4.3929   \n",
       "5249  1884_008_Vis1AK_Home1A        6     291278                8  -4.2525   \n",
       "...                      ...      ...        ...              ...      ...   \n",
       "6691  1884_008_Vis1AK_Home1A        6     296428                8  82.1850   \n",
       "6705  1884_008_Vis1AK_Home1A        6     296478                8  82.7688   \n",
       "6719  1884_008_Vis1AK_Home1A        6     296528                8  83.3565   \n",
       "6733  1884_008_Vis1AK_Home1A        6     296578                8  83.4822   \n",
       "6747  1884_008_Vis1AK_Home1A        6     296628                8  83.6010   \n",
       "\n",
       "       field_y  \n",
       "5193  286.0152  \n",
       "5207  285.9066  \n",
       "5221  285.7980  \n",
       "5235  285.6909  \n",
       "5249  285.5865  \n",
       "...        ...  \n",
       "6691  321.0192  \n",
       "6705  321.3156  \n",
       "6719  321.6087  \n",
       "6733  321.6708  \n",
       "6747  321.7311  \n",
       "\n",
       "[112 rows x 6 columns]"
      ]
     },
     "execution_count": 72,
     "metadata": {},
     "output_type": "execute_result"
    }
   ],
   "source": [
    "play6coords = player_pos[(player_pos[\"player_position\"] == 8) & (player_pos[\"timestamp\"] >= 291078) & (player_pos[\"timestamp\"] <= 296628)]\n",
    "#list(zip(play6coords[\"field_x\"], play6coords[\"field_y\"]))\n",
    "play6coords"
   ]
  },
  {
   "cell_type": "code",
   "execution_count": 73,
   "metadata": {},
   "outputs": [],
   "source": [
    "# canv = Canvas(width  = 400, height = 400)\n",
    "# canv.scale(x = 1, y = -1)\n",
    "# canv.translate(x = canv.width / 2, y = -canv.height)\n",
    "# colors = np.array(range(play6coords.shape[0])) * 255 / play6coords.shape[0]\n",
    "# colors = list(map(lambda x: ([255 - x, 255 - x, 255]), colors))\n",
    "# canv.fill_styled_circles(play6coords[\"field_x\"].to_numpy(), play6coords[\"field_y\"].to_numpy(), color = colors, radius = 1)\n",
    "# canv"
   ]
  },
  {
   "cell_type": "code",
   "execution_count": 74,
   "metadata": {},
   "outputs": [
    {
     "data": {
      "text/html": [
       "<div>\n",
       "<style scoped>\n",
       "    .dataframe tbody tr th:only-of-type {\n",
       "        vertical-align: middle;\n",
       "    }\n",
       "\n",
       "    .dataframe tbody tr th {\n",
       "        vertical-align: top;\n",
       "    }\n",
       "\n",
       "    .dataframe thead th {\n",
       "        text-align: right;\n",
       "    }\n",
       "</style>\n",
       "<table border=\"1\" class=\"dataframe\">\n",
       "  <thead>\n",
       "    <tr style=\"text-align: right;\">\n",
       "      <th></th>\n",
       "      <th>game_str</th>\n",
       "      <th>play_id</th>\n",
       "      <th>at_bat</th>\n",
       "      <th>play_per_game</th>\n",
       "      <th>timestamp</th>\n",
       "      <th>player_position</th>\n",
       "      <th>event_code</th>\n",
       "    </tr>\n",
       "  </thead>\n",
       "  <tbody>\n",
       "    <tr>\n",
       "      <th>29</th>\n",
       "      <td>1884_008_Vis1AK_Home1A</td>\n",
       "      <td>6</td>\n",
       "      <td>24</td>\n",
       "      <td>6</td>\n",
       "      <td>290678</td>\n",
       "      <td>1</td>\n",
       "      <td>1</td>\n",
       "    </tr>\n",
       "    <tr>\n",
       "      <th>30</th>\n",
       "      <td>1884_008_Vis1AK_Home1A</td>\n",
       "      <td>6</td>\n",
       "      <td>24</td>\n",
       "      <td>6</td>\n",
       "      <td>291078</td>\n",
       "      <td>10</td>\n",
       "      <td>4</td>\n",
       "    </tr>\n",
       "    <tr>\n",
       "      <th>31</th>\n",
       "      <td>1884_008_Vis1AK_Home1A</td>\n",
       "      <td>6</td>\n",
       "      <td>24</td>\n",
       "      <td>6</td>\n",
       "      <td>296628</td>\n",
       "      <td>8</td>\n",
       "      <td>2</td>\n",
       "    </tr>\n",
       "    <tr>\n",
       "      <th>32</th>\n",
       "      <td>1884_008_Vis1AK_Home1A</td>\n",
       "      <td>6</td>\n",
       "      <td>24</td>\n",
       "      <td>6</td>\n",
       "      <td>297678</td>\n",
       "      <td>8</td>\n",
       "      <td>3</td>\n",
       "    </tr>\n",
       "    <tr>\n",
       "      <th>33</th>\n",
       "      <td>1884_008_Vis1AK_Home1A</td>\n",
       "      <td>6</td>\n",
       "      <td>24</td>\n",
       "      <td>6</td>\n",
       "      <td>299428</td>\n",
       "      <td>255</td>\n",
       "      <td>16</td>\n",
       "    </tr>\n",
       "    <tr>\n",
       "      <th>34</th>\n",
       "      <td>1884_008_Vis1AK_Home1A</td>\n",
       "      <td>6</td>\n",
       "      <td>24</td>\n",
       "      <td>6</td>\n",
       "      <td>299578</td>\n",
       "      <td>6</td>\n",
       "      <td>2</td>\n",
       "    </tr>\n",
       "    <tr>\n",
       "      <th>35</th>\n",
       "      <td>1884_008_Vis1AK_Home1A</td>\n",
       "      <td>6</td>\n",
       "      <td>24</td>\n",
       "      <td>6</td>\n",
       "      <td>301228</td>\n",
       "      <td>0</td>\n",
       "      <td>5</td>\n",
       "    </tr>\n",
       "  </tbody>\n",
       "</table>\n",
       "</div>"
      ],
      "text/plain": [
       "                  game_str  play_id  at_bat  play_per_game  timestamp  \\\n",
       "29  1884_008_Vis1AK_Home1A        6      24              6     290678   \n",
       "30  1884_008_Vis1AK_Home1A        6      24              6     291078   \n",
       "31  1884_008_Vis1AK_Home1A        6      24              6     296628   \n",
       "32  1884_008_Vis1AK_Home1A        6      24              6     297678   \n",
       "33  1884_008_Vis1AK_Home1A        6      24              6     299428   \n",
       "34  1884_008_Vis1AK_Home1A        6      24              6     299578   \n",
       "35  1884_008_Vis1AK_Home1A        6      24              6     301228   \n",
       "\n",
       "    player_position  event_code  \n",
       "29                1           1  \n",
       "30               10           4  \n",
       "31                8           2  \n",
       "32                8           3  \n",
       "33              255          16  \n",
       "34                6           2  \n",
       "35                0           5  "
      ]
     },
     "execution_count": 74,
     "metadata": {},
     "output_type": "execute_result"
    }
   ],
   "source": [
    "play6"
   ]
  },
  {
   "cell_type": "code",
   "execution_count": 75,
   "metadata": {},
   "outputs": [],
   "source": [
    "from Player import Player\n",
    "from Route import Route"
   ]
  },
  {
   "cell_type": "code",
   "execution_count": 76,
   "metadata": {},
   "outputs": [],
   "source": [
    "r = Route(play6, player_pos, ball_pos, game_info)"
   ]
  },
  {
   "cell_type": "code",
   "execution_count": 77,
   "metadata": {},
   "outputs": [
    {
     "data": {
      "text/plain": [
       "{'1A': 9}"
      ]
     },
     "execution_count": 77,
     "metadata": {},
     "output_type": "execute_result"
    }
   ],
   "source": [
    "Player.get_existing_players()[8743].get_levels()"
   ]
  },
  {
   "cell_type": "code",
   "execution_count": 78,
   "metadata": {},
   "outputs": [
    {
     "data": {
      "text/plain": [
       "96.96957488866856"
      ]
     },
     "execution_count": 78,
     "metadata": {},
     "output_type": "execute_result"
    }
   ],
   "source": [
    "r.get_total_length()"
   ]
  },
  {
   "cell_type": "code",
   "execution_count": 79,
   "metadata": {},
   "outputs": [
    {
     "data": {
      "text/plain": [
       "95.29332569393306"
      ]
     },
     "execution_count": 79,
     "metadata": {},
     "output_type": "execute_result"
    }
   ],
   "source": [
    "r.get_ideal_length()"
   ]
  },
  {
   "cell_type": "code",
   "execution_count": 80,
   "metadata": {},
   "outputs": [
    {
     "data": {
      "text/plain": [
       "0.9827136584164671"
      ]
     },
     "execution_count": 80,
     "metadata": {},
     "output_type": "execute_result"
    }
   ],
   "source": [
    "r.get_score()"
   ]
  },
  {
   "cell_type": "code",
   "execution_count": 81,
   "metadata": {},
   "outputs": [
    {
     "data": {
      "text/plain": [
       "29    False\n",
       "30    False\n",
       "31     True\n",
       "32    False\n",
       "33    False\n",
       "34    False\n",
       "35    False\n",
       "dtype: bool"
      ]
     },
     "execution_count": 81,
     "metadata": {},
     "output_type": "execute_result"
    }
   ],
   "source": [
    "(play6[\"player_position\"] >= 7) & (play6[\"player_position\"] <= 9) & (play6[\"event_code\"] == 2)"
   ]
  },
  {
   "cell_type": "code",
   "execution_count": 82,
   "metadata": {},
   "outputs": [],
   "source": [
    "relevant_plays_df = game_events.groupby(\"play_per_game\").filter(Route.is_relevant)"
   ]
  },
  {
   "cell_type": "code",
   "execution_count": 83,
   "metadata": {},
   "outputs": [],
   "source": [
    "Player.clear_existing_players()\n",
    "for play_num in relevant_plays_df[\"play_per_game\"].unique():\n",
    "    Route(relevant_plays_df[relevant_plays_df[\"play_per_game\"] == play_num], player_pos, ball_pos, game_info)"
   ]
  },
  {
   "cell_type": "code",
   "execution_count": 84,
   "metadata": {},
   "outputs": [
    {
     "data": {
      "text/plain": [
       "{5599: <Player.Player at 0x19fc4f71360>,\n",
       " 8743: <Player.Player at 0x19fc4f73280>,\n",
       " 963: <Player.Player at 0x19fc4f320b0>,\n",
       " 537: <Player.Player at 0x19fc4f30c70>,\n",
       " 435: <Player.Player at 0x19fc4f33ac0>,\n",
       " 5485: <Player.Player at 0x19fc4f97520>}"
      ]
     },
     "execution_count": 84,
     "metadata": {},
     "output_type": "execute_result"
    }
   ],
   "source": [
    "Player.get_existing_players()"
   ]
  },
  {
   "cell_type": "code",
   "execution_count": 98,
   "metadata": {},
   "outputs": [
    {
     "data": {
      "application/vnd.jupyter.widget-view+json": {
       "model_id": "6e291eeb0482431ba2dcd35ba1abe152",
       "version_major": 2,
       "version_minor": 0
      },
      "text/plain": [
       "Canvas(height=400, width=400)"
      ]
     },
     "execution_count": 98,
     "metadata": {},
     "output_type": "execute_result"
    }
   ],
   "source": [
    "Player.get_existing_players()[537].get_routes()[0].visualize()"
   ]
  },
  {
   "cell_type": "code",
   "execution_count": 86,
   "metadata": {},
   "outputs": [
    {
     "data": {
      "text/html": [
       "<div>\n",
       "<style scoped>\n",
       "    .dataframe tbody tr th:only-of-type {\n",
       "        vertical-align: middle;\n",
       "    }\n",
       "\n",
       "    .dataframe tbody tr th {\n",
       "        vertical-align: top;\n",
       "    }\n",
       "\n",
       "    .dataframe thead th {\n",
       "        text-align: right;\n",
       "    }\n",
       "</style>\n",
       "<table border=\"1\" class=\"dataframe\">\n",
       "  <thead>\n",
       "    <tr style=\"text-align: right;\">\n",
       "      <th></th>\n",
       "      <th>game_str</th>\n",
       "      <th>play_id</th>\n",
       "      <th>at_bat</th>\n",
       "      <th>play_per_game</th>\n",
       "      <th>timestamp</th>\n",
       "      <th>player_position</th>\n",
       "      <th>event_code</th>\n",
       "    </tr>\n",
       "  </thead>\n",
       "  <tbody>\n",
       "    <tr>\n",
       "      <th>29</th>\n",
       "      <td>1884_008_Vis1AK_Home1A</td>\n",
       "      <td>6</td>\n",
       "      <td>24</td>\n",
       "      <td>6</td>\n",
       "      <td>290678</td>\n",
       "      <td>1</td>\n",
       "      <td>1</td>\n",
       "    </tr>\n",
       "    <tr>\n",
       "      <th>30</th>\n",
       "      <td>1884_008_Vis1AK_Home1A</td>\n",
       "      <td>6</td>\n",
       "      <td>24</td>\n",
       "      <td>6</td>\n",
       "      <td>291078</td>\n",
       "      <td>10</td>\n",
       "      <td>4</td>\n",
       "    </tr>\n",
       "  </tbody>\n",
       "</table>\n",
       "</div>"
      ],
      "text/plain": [
       "                  game_str  play_id  at_bat  play_per_game  timestamp  \\\n",
       "29  1884_008_Vis1AK_Home1A        6      24              6     290678   \n",
       "30  1884_008_Vis1AK_Home1A        6      24              6     291078   \n",
       "\n",
       "    player_position  event_code  \n",
       "29                1           1  \n",
       "30               10           4  "
      ]
     },
     "execution_count": 86,
     "metadata": {},
     "output_type": "execute_result"
    }
   ],
   "source": [
    "play6.head((play6.reset_index()[\"event_code\"] == 2).idxmax())"
   ]
  },
  {
   "cell_type": "code",
   "execution_count": 87,
   "metadata": {},
   "outputs": [],
   "source": [
    "# import pygame\n",
    "# pygame.init()\n",
    "# screen = pygame.display.set_mode((1280, 720))\n",
    "# clock = pygame.time.Clock()\n",
    "# running = True\n",
    "\n",
    "# while running:\n",
    "#     # poll for events\n",
    "#     # pygame.QUIT event means the user clicked X to close your window\n",
    "#     for event in pygame.event.get():\n",
    "#         if event.type == pygame.QUIT:\n",
    "#             running = False\n",
    "\n",
    "#     # fill the screen with a color to wipe away anything from last frame\n",
    "#     screen.fill(\"purple\")\n",
    "\n",
    "#     # RENDER YOUR GAME HERE\n",
    "#     pygame.draw.circle(screen, (0, 0, 0), (0, 0), 10)\n",
    "\n",
    "#     # flip() the display to put your work on screen\n",
    "#     pygame.display.flip()\n",
    "\n",
    "#     clock.tick(60)  # limits FPS to 60\n",
    "\n",
    "# pygame.quit()"
   ]
  },
  {
   "cell_type": "code",
   "execution_count": 100,
   "metadata": {},
   "outputs": [],
   "source": [
    "import os"
   ]
  },
  {
   "cell_type": "code",
   "execution_count": 113,
   "metadata": {},
   "outputs": [
    {
     "data": {
      "text/plain": [
       "['Season_1883', 'Season_1884']"
      ]
     },
     "execution_count": 113,
     "metadata": {},
     "output_type": "execute_result"
    }
   ],
   "source": [
    "os.listdir(r\"2024_SMT_Data_Challenge\\ball_pos\")"
   ]
  },
  {
   "cell_type": "code",
   "execution_count": 114,
   "metadata": {},
   "outputs": [],
   "source": [
    "from FindGameFiles import FindGameFiles"
   ]
  },
  {
   "cell_type": "code",
   "execution_count": 164,
   "metadata": {},
   "outputs": [],
   "source": [
    "files = FindGameFiles()"
   ]
  },
  {
   "cell_type": "code",
   "execution_count": 166,
   "metadata": {},
   "outputs": [
    {
     "data": {
      "text/plain": [
       "339"
      ]
     },
     "execution_count": 166,
     "metadata": {},
     "output_type": "execute_result"
    }
   ],
   "source": [
    "len(files)"
   ]
  },
  {
   "cell_type": "code",
   "execution_count": null,
   "metadata": {},
   "outputs": [],
   "source": []
  }
 ],
 "metadata": {
  "kernelspec": {
   "display_name": "Python 3",
   "language": "python",
   "name": "python3"
  },
  "language_info": {
   "codemirror_mode": {
    "name": "ipython",
    "version": 3
   },
   "file_extension": ".py",
   "mimetype": "text/x-python",
   "name": "python",
   "nbconvert_exporter": "python",
   "pygments_lexer": "ipython3",
   "version": "3.10.11"
  }
 },
 "nbformat": 4,
 "nbformat_minor": 2
}
